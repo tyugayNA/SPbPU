{
  "nbformat": 4,
  "nbformat_minor": 0,
  "metadata": {
    "colab": {
      "provenance": []
    },
    "kernelspec": {
      "name": "python3",
      "display_name": "Python 3"
    },
    "language_info": {
      "name": "python"
    },
    "accelerator": "GPU",
    "gpuClass": "standard"
  },
  "cells": [
    {
      "cell_type": "code",
      "execution_count": 1,
      "metadata": {
        "id": "jbNNq8vsYm58",
        "colab": {
          "base_uri": "https://localhost:8080/",
          "height": 36
        },
        "outputId": "de3608a9-5844-4ab4-b1b9-53b5dedf3826"
      },
      "outputs": [
        {
          "output_type": "execute_result",
          "data": {
            "text/plain": [
              "'2.12.0'"
            ],
            "application/vnd.google.colaboratory.intrinsic+json": {
              "type": "string"
            }
          },
          "metadata": {},
          "execution_count": 1
        }
      ],
      "source": [
        "import tensorflow as tf\n",
        "from tensorflow.keras.models import Sequential\n",
        "from tensorflow.keras.layers import Conv2D, MaxPooling2D, Flatten, Dense\n",
        "from tensorflow.keras.preprocessing.image import ImageDataGenerator\n",
        "import matplotlib.pyplot as plt\n",
        "import seaborn as sns\n",
        "import zipfile\n",
        "import numpy as np\n",
        "import cv2\n",
        "from google.colab.patches import cv2_imshow\n",
        "tf.__version__"
      ]
    },
    {
      "cell_type": "code",
      "source": [
        "from google.colab import drive\n",
        "drive.mount('/content/drive')\n",
        "path = '/content/drive/MyDrive/ComputerVision/Churn_Modelling.csv'\n"
      ],
      "metadata": {
        "colab": {
          "base_uri": "https://localhost:8080/"
        },
        "id": "D0MNT8ggt3Qg",
        "outputId": "42f4e76f-a13d-48fc-e84a-2dd774fe3db0"
      },
      "execution_count": 2,
      "outputs": [
        {
          "output_type": "stream",
          "name": "stdout",
          "text": [
            "Drive already mounted at /content/drive; to attempt to forcibly remount, call drive.mount(\"/content/drive\", force_remount=True).\n"
          ]
        }
      ]
    },
    {
      "cell_type": "code",
      "source": [
        "import numpy as np\n",
        "import pandas as pd\n",
        "dataset = pd.read_csv(path)\n",
        "dataset.tail(5)  "
      ],
      "metadata": {
        "colab": {
          "base_uri": "https://localhost:8080/",
          "height": 206
        },
        "id": "dVJjaNqft-4K",
        "outputId": "a0be5e97-b82f-4530-eb28-4e5ad026d1c8"
      },
      "execution_count": 3,
      "outputs": [
        {
          "output_type": "execute_result",
          "data": {
            "text/plain": [
              "      RowNumber  CustomerId    Surname  CreditScore Geography  Gender  Age  \\\n",
              "9995       9996    15606229   Obijiaku          771    France    Male   39   \n",
              "9996       9997    15569892  Johnstone          516    France    Male   35   \n",
              "9997       9998    15584532        Liu          709    France  Female   36   \n",
              "9998       9999    15682355  Sabbatini          772   Germany    Male   42   \n",
              "9999      10000    15628319     Walker          792    France  Female   28   \n",
              "\n",
              "      Tenure    Balance  NumOfProducts  HasCrCard  IsActiveMember  \\\n",
              "9995       5       0.00              2          1               0   \n",
              "9996      10   57369.61              1          1               1   \n",
              "9997       7       0.00              1          0               1   \n",
              "9998       3   75075.31              2          1               0   \n",
              "9999       4  130142.79              1          1               0   \n",
              "\n",
              "      EstimatedSalary  Exited  \n",
              "9995         96270.64       0  \n",
              "9996        101699.77       0  \n",
              "9997         42085.58       1  \n",
              "9998         92888.52       1  \n",
              "9999         38190.78       0  "
            ],
            "text/html": [
              "\n",
              "  <div id=\"df-2c081e90-c3ab-4ad6-bcea-107e3e6a1431\">\n",
              "    <div class=\"colab-df-container\">\n",
              "      <div>\n",
              "<style scoped>\n",
              "    .dataframe tbody tr th:only-of-type {\n",
              "        vertical-align: middle;\n",
              "    }\n",
              "\n",
              "    .dataframe tbody tr th {\n",
              "        vertical-align: top;\n",
              "    }\n",
              "\n",
              "    .dataframe thead th {\n",
              "        text-align: right;\n",
              "    }\n",
              "</style>\n",
              "<table border=\"1\" class=\"dataframe\">\n",
              "  <thead>\n",
              "    <tr style=\"text-align: right;\">\n",
              "      <th></th>\n",
              "      <th>RowNumber</th>\n",
              "      <th>CustomerId</th>\n",
              "      <th>Surname</th>\n",
              "      <th>CreditScore</th>\n",
              "      <th>Geography</th>\n",
              "      <th>Gender</th>\n",
              "      <th>Age</th>\n",
              "      <th>Tenure</th>\n",
              "      <th>Balance</th>\n",
              "      <th>NumOfProducts</th>\n",
              "      <th>HasCrCard</th>\n",
              "      <th>IsActiveMember</th>\n",
              "      <th>EstimatedSalary</th>\n",
              "      <th>Exited</th>\n",
              "    </tr>\n",
              "  </thead>\n",
              "  <tbody>\n",
              "    <tr>\n",
              "      <th>9995</th>\n",
              "      <td>9996</td>\n",
              "      <td>15606229</td>\n",
              "      <td>Obijiaku</td>\n",
              "      <td>771</td>\n",
              "      <td>France</td>\n",
              "      <td>Male</td>\n",
              "      <td>39</td>\n",
              "      <td>5</td>\n",
              "      <td>0.00</td>\n",
              "      <td>2</td>\n",
              "      <td>1</td>\n",
              "      <td>0</td>\n",
              "      <td>96270.64</td>\n",
              "      <td>0</td>\n",
              "    </tr>\n",
              "    <tr>\n",
              "      <th>9996</th>\n",
              "      <td>9997</td>\n",
              "      <td>15569892</td>\n",
              "      <td>Johnstone</td>\n",
              "      <td>516</td>\n",
              "      <td>France</td>\n",
              "      <td>Male</td>\n",
              "      <td>35</td>\n",
              "      <td>10</td>\n",
              "      <td>57369.61</td>\n",
              "      <td>1</td>\n",
              "      <td>1</td>\n",
              "      <td>1</td>\n",
              "      <td>101699.77</td>\n",
              "      <td>0</td>\n",
              "    </tr>\n",
              "    <tr>\n",
              "      <th>9997</th>\n",
              "      <td>9998</td>\n",
              "      <td>15584532</td>\n",
              "      <td>Liu</td>\n",
              "      <td>709</td>\n",
              "      <td>France</td>\n",
              "      <td>Female</td>\n",
              "      <td>36</td>\n",
              "      <td>7</td>\n",
              "      <td>0.00</td>\n",
              "      <td>1</td>\n",
              "      <td>0</td>\n",
              "      <td>1</td>\n",
              "      <td>42085.58</td>\n",
              "      <td>1</td>\n",
              "    </tr>\n",
              "    <tr>\n",
              "      <th>9998</th>\n",
              "      <td>9999</td>\n",
              "      <td>15682355</td>\n",
              "      <td>Sabbatini</td>\n",
              "      <td>772</td>\n",
              "      <td>Germany</td>\n",
              "      <td>Male</td>\n",
              "      <td>42</td>\n",
              "      <td>3</td>\n",
              "      <td>75075.31</td>\n",
              "      <td>2</td>\n",
              "      <td>1</td>\n",
              "      <td>0</td>\n",
              "      <td>92888.52</td>\n",
              "      <td>1</td>\n",
              "    </tr>\n",
              "    <tr>\n",
              "      <th>9999</th>\n",
              "      <td>10000</td>\n",
              "      <td>15628319</td>\n",
              "      <td>Walker</td>\n",
              "      <td>792</td>\n",
              "      <td>France</td>\n",
              "      <td>Female</td>\n",
              "      <td>28</td>\n",
              "      <td>4</td>\n",
              "      <td>130142.79</td>\n",
              "      <td>1</td>\n",
              "      <td>1</td>\n",
              "      <td>0</td>\n",
              "      <td>38190.78</td>\n",
              "      <td>0</td>\n",
              "    </tr>\n",
              "  </tbody>\n",
              "</table>\n",
              "</div>\n",
              "      <button class=\"colab-df-convert\" onclick=\"convertToInteractive('df-2c081e90-c3ab-4ad6-bcea-107e3e6a1431')\"\n",
              "              title=\"Convert this dataframe to an interactive table.\"\n",
              "              style=\"display:none;\">\n",
              "        \n",
              "  <svg xmlns=\"http://www.w3.org/2000/svg\" height=\"24px\"viewBox=\"0 0 24 24\"\n",
              "       width=\"24px\">\n",
              "    <path d=\"M0 0h24v24H0V0z\" fill=\"none\"/>\n",
              "    <path d=\"M18.56 5.44l.94 2.06.94-2.06 2.06-.94-2.06-.94-.94-2.06-.94 2.06-2.06.94zm-11 1L8.5 8.5l.94-2.06 2.06-.94-2.06-.94L8.5 2.5l-.94 2.06-2.06.94zm10 10l.94 2.06.94-2.06 2.06-.94-2.06-.94-.94-2.06-.94 2.06-2.06.94z\"/><path d=\"M17.41 7.96l-1.37-1.37c-.4-.4-.92-.59-1.43-.59-.52 0-1.04.2-1.43.59L10.3 9.45l-7.72 7.72c-.78.78-.78 2.05 0 2.83L4 21.41c.39.39.9.59 1.41.59.51 0 1.02-.2 1.41-.59l7.78-7.78 2.81-2.81c.8-.78.8-2.07 0-2.86zM5.41 20L4 18.59l7.72-7.72 1.47 1.35L5.41 20z\"/>\n",
              "  </svg>\n",
              "      </button>\n",
              "      \n",
              "  <style>\n",
              "    .colab-df-container {\n",
              "      display:flex;\n",
              "      flex-wrap:wrap;\n",
              "      gap: 12px;\n",
              "    }\n",
              "\n",
              "    .colab-df-convert {\n",
              "      background-color: #E8F0FE;\n",
              "      border: none;\n",
              "      border-radius: 50%;\n",
              "      cursor: pointer;\n",
              "      display: none;\n",
              "      fill: #1967D2;\n",
              "      height: 32px;\n",
              "      padding: 0 0 0 0;\n",
              "      width: 32px;\n",
              "    }\n",
              "\n",
              "    .colab-df-convert:hover {\n",
              "      background-color: #E2EBFA;\n",
              "      box-shadow: 0px 1px 2px rgba(60, 64, 67, 0.3), 0px 1px 3px 1px rgba(60, 64, 67, 0.15);\n",
              "      fill: #174EA6;\n",
              "    }\n",
              "\n",
              "    [theme=dark] .colab-df-convert {\n",
              "      background-color: #3B4455;\n",
              "      fill: #D2E3FC;\n",
              "    }\n",
              "\n",
              "    [theme=dark] .colab-df-convert:hover {\n",
              "      background-color: #434B5C;\n",
              "      box-shadow: 0px 1px 3px 1px rgba(0, 0, 0, 0.15);\n",
              "      filter: drop-shadow(0px 1px 2px rgba(0, 0, 0, 0.3));\n",
              "      fill: #FFFFFF;\n",
              "    }\n",
              "  </style>\n",
              "\n",
              "      <script>\n",
              "        const buttonEl =\n",
              "          document.querySelector('#df-2c081e90-c3ab-4ad6-bcea-107e3e6a1431 button.colab-df-convert');\n",
              "        buttonEl.style.display =\n",
              "          google.colab.kernel.accessAllowed ? 'block' : 'none';\n",
              "\n",
              "        async function convertToInteractive(key) {\n",
              "          const element = document.querySelector('#df-2c081e90-c3ab-4ad6-bcea-107e3e6a1431');\n",
              "          const dataTable =\n",
              "            await google.colab.kernel.invokeFunction('convertToInteractive',\n",
              "                                                     [key], {});\n",
              "          if (!dataTable) return;\n",
              "\n",
              "          const docLinkHtml = 'Like what you see? Visit the ' +\n",
              "            '<a target=\"_blank\" href=https://colab.research.google.com/notebooks/data_table.ipynb>data table notebook</a>'\n",
              "            + ' to learn more about interactive tables.';\n",
              "          element.innerHTML = '';\n",
              "          dataTable['output_type'] = 'display_data';\n",
              "          await google.colab.output.renderOutput(dataTable, element);\n",
              "          const docLink = document.createElement('div');\n",
              "          docLink.innerHTML = docLinkHtml;\n",
              "          element.appendChild(docLink);\n",
              "        }\n",
              "      </script>\n",
              "    </div>\n",
              "  </div>\n",
              "  "
            ]
          },
          "metadata": {},
          "execution_count": 3
        }
      ]
    },
    {
      "cell_type": "code",
      "source": [
        "\n",
        "X = dataset.iloc[:, 3:-1].values\n",
        "y = dataset.iloc[:, -1].values"
      ],
      "metadata": {
        "id": "chPWXxQmt_g-"
      },
      "execution_count": 4,
      "outputs": []
    },
    {
      "cell_type": "code",
      "source": [
        "X"
      ],
      "metadata": {
        "colab": {
          "base_uri": "https://localhost:8080/"
        },
        "id": "PSpWZpf1ukd8",
        "outputId": "9679c017-13ea-4ca4-effa-fef816bad823"
      },
      "execution_count": 5,
      "outputs": [
        {
          "output_type": "execute_result",
          "data": {
            "text/plain": [
              "array([[619, 'France', 'Female', ..., 1, 1, 101348.88],\n",
              "       [608, 'Spain', 'Female', ..., 0, 1, 112542.58],\n",
              "       [502, 'France', 'Female', ..., 1, 0, 113931.57],\n",
              "       ...,\n",
              "       [709, 'France', 'Female', ..., 0, 1, 42085.58],\n",
              "       [772, 'Germany', 'Male', ..., 1, 0, 92888.52],\n",
              "       [792, 'France', 'Female', ..., 1, 0, 38190.78]], dtype=object)"
            ]
          },
          "metadata": {},
          "execution_count": 5
        }
      ]
    },
    {
      "cell_type": "code",
      "source": [
        "print(y)"
      ],
      "metadata": {
        "colab": {
          "base_uri": "https://localhost:8080/"
        },
        "id": "fjnHxbAtumIH",
        "outputId": "efa434e9-74e5-4e07-d329-2bcda455ba6b"
      },
      "execution_count": 6,
      "outputs": [
        {
          "output_type": "stream",
          "name": "stdout",
          "text": [
            "[1 0 1 ... 1 1 0]\n"
          ]
        }
      ]
    },
    {
      "cell_type": "code",
      "source": [
        "from sklearn.preprocessing import LabelEncoder\n",
        "le = LabelEncoder()\n",
        "X[:, 2] = le.fit_transform(X[:, 2])"
      ],
      "metadata": {
        "id": "UDjcDBBbunE-"
      },
      "execution_count": 7,
      "outputs": []
    },
    {
      "cell_type": "code",
      "source": [
        "print(X)"
      ],
      "metadata": {
        "colab": {
          "base_uri": "https://localhost:8080/"
        },
        "id": "tgZg4moFupMD",
        "outputId": "8c696814-3781-497d-b5ae-fd8b4def4ba2"
      },
      "execution_count": 8,
      "outputs": [
        {
          "output_type": "stream",
          "name": "stdout",
          "text": [
            "[[619 'France' 0 ... 1 1 101348.88]\n",
            " [608 'Spain' 0 ... 0 1 112542.58]\n",
            " [502 'France' 0 ... 1 0 113931.57]\n",
            " ...\n",
            " [709 'France' 0 ... 0 1 42085.58]\n",
            " [772 'Germany' 1 ... 1 0 92888.52]\n",
            " [792 'France' 0 ... 1 0 38190.78]]\n"
          ]
        }
      ]
    },
    {
      "cell_type": "code",
      "source": [
        "from sklearn.compose import ColumnTransformer\n",
        "from sklearn.preprocessing import OneHotEncoder\n",
        "ct = ColumnTransformer(transformers=[('encoder', OneHotEncoder(), [1])], remainder='passthrough')\n",
        "X = np.array(ct.fit_transform(X))"
      ],
      "metadata": {
        "id": "Fnk681HCuqD4"
      },
      "execution_count": 9,
      "outputs": []
    },
    {
      "cell_type": "code",
      "source": [
        "print(X)"
      ],
      "metadata": {
        "colab": {
          "base_uri": "https://localhost:8080/"
        },
        "id": "OJazGnthuq6o",
        "outputId": "947f3558-c925-4e17-fad2-672d975f8b3b"
      },
      "execution_count": 10,
      "outputs": [
        {
          "output_type": "stream",
          "name": "stdout",
          "text": [
            "[[1.0 0.0 0.0 ... 1 1 101348.88]\n",
            " [0.0 0.0 1.0 ... 0 1 112542.58]\n",
            " [1.0 0.0 0.0 ... 1 0 113931.57]\n",
            " ...\n",
            " [1.0 0.0 0.0 ... 0 1 42085.58]\n",
            " [0.0 1.0 0.0 ... 1 0 92888.52]\n",
            " [1.0 0.0 0.0 ... 1 0 38190.78]]\n"
          ]
        }
      ]
    },
    {
      "cell_type": "code",
      "source": [
        "from sklearn.model_selection import train_test_split\n",
        "X_train, X_val_and_test, y_train, Y_val_and_test = train_test_split(X, y, test_size = 0.3, random_state = 42)\n",
        "X_val, X_test, Y_val, Y_test = train_test_split(X_val_and_test, Y_val_and_test, test_size=0.5) "
      ],
      "metadata": {
        "id": "POGbZrM4usUA"
      },
      "execution_count": 11,
      "outputs": []
    },
    {
      "cell_type": "code",
      "source": [
        "from sklearn.preprocessing import StandardScaler\n",
        "sc = StandardScaler()\n",
        "X_train = sc.fit_transform(X_train)\n",
        "X_test = sc.transform(X_test)\n",
        "X_val= sc.transform(X_val)"
      ],
      "metadata": {
        "id": "k_gpMoaautOW"
      },
      "execution_count": 12,
      "outputs": []
    },
    {
      "cell_type": "code",
      "source": [
        "from keras.models import Sequential\n",
        "from keras.layers import Dense\n",
        "from keras.utils.vis_utils import plot_model\n"
      ],
      "metadata": {
        "id": "5rUFWPmuuugk"
      },
      "execution_count": 13,
      "outputs": []
    },
    {
      "cell_type": "code",
      "source": [],
      "metadata": {
        "id": "ieUil6rFv28a"
      },
      "execution_count": 13,
      "outputs": []
    },
    {
      "cell_type": "code",
      "source": [
        "model = Sequential([\n",
        "    Dense(7, activation='relu', input_shape=(12,)),   # ( number of features +1 ) / 2\n",
        "    #Dense(7, activation='relu'),\n",
        "   # Dense(7, activation='relu'),\n",
        "    Dense(1, activation='sigmoid'),\n",
        "])"
      ],
      "metadata": {
        "id": "0lAoTN6Puw_T"
      },
      "execution_count": 14,
      "outputs": []
    },
    {
      "cell_type": "code",
      "source": [
        "import keras.utils.vis_utils\n",
        "from importlib import reload\n",
        "reload(keras.utils.vis_utils)\n",
        "\n",
        "\n",
        "from keras.utils.vis_utils import plot_model    \n",
        "plot_model(model, to_file='model_plot.png', show_shapes=True, show_layer_names=True)"
      ],
      "metadata": {
        "colab": {
          "base_uri": "https://localhost:8080/",
          "height": 312
        },
        "id": "oofzpc6xuzb9",
        "outputId": "f79c89c6-a30f-4f74-82f8-a55a94c1ce7a"
      },
      "execution_count": 15,
      "outputs": [
        {
          "output_type": "execute_result",
          "data": {
            "image/png": "[encoded data removed]",
            "text/plain": [
              "<IPython.core.display.Image object>"
            ]
          },
          "metadata": {},
          "execution_count": 15
        }
      ]
    },
    {
      "cell_type": "code",
      "source": [
        "model.compile(optimizer = 'adam', loss = 'binary_crossentropy', metrics = ['accuracy'])"
      ],
      "metadata": {
        "id": "JmWRt5kiu0n1"
      },
      "execution_count": 16,
      "outputs": []
    },
    {
      "cell_type": "code",
      "source": [
        "print(X_train.shape, X_val.shape, X_test.shape, y_train.shape, Y_val.shape, Y_test.shape)"
      ],
      "metadata": {
        "colab": {
          "base_uri": "https://localhost:8080/"
        },
        "id": "SRheYqPzu7uI",
        "outputId": "31d24aea-8ee3-4ee9-df06-d3931f69831a"
      },
      "execution_count": 17,
      "outputs": [
        {
          "output_type": "stream",
          "name": "stdout",
          "text": [
            "(7000, 12) (1500, 12) (1500, 12) (7000,) (1500,) (1500,)\n"
          ]
        }
      ]
    },
    {
      "cell_type": "code",
      "source": [
        "myModel = model.fit(X_train, y_train, batch_size = 16, epochs = 50,validation_data=(X_val, Y_val))"
      ],
      "metadata": {
        "colab": {
          "base_uri": "https://localhost:8080/"
        },
        "id": "JAdNhHjNu_8N",
        "outputId": "9ce13609-b62b-4737-b0fc-3a74e4d2fbdf"
      },
      "execution_count": 18,
      "outputs": [
        {
          "output_type": "stream",
          "name": "stdout",
          "text": [
            "Epoch 1/50\n",
            "7/7 [==============================] - 4s 78ms/step - loss: 0.6087 - accuracy: 0.7057 - val_loss: 0.5971 - val_accuracy: 0.7227\n",
            "Epoch 2/50\n",
            "7/7 [==============================] - 0s 11ms/step - loss: 0.5969 - accuracy: 0.7201 - val_loss: 0.5841 - val_accuracy: 0.7313\n",
            "Epoch 3/50\n",
            "7/7 [==============================] - 0s 14ms/step - loss: 0.5861 - accuracy: 0.7313 - val_loss: 0.5721 - val_accuracy: 0.7420\n",
            "Epoch 4/50\n",
            "7/7 [==============================] - 0s 28ms/step - loss: 0.5762 - accuracy: 0.7423 - val_loss: 0.5612 - val_accuracy: 0.7533\n",
            "Epoch 5/50\n",
            "7/7 [==============================] - 0s 14ms/step - loss: 0.5671 - accuracy: 0.7507 - val_loss: 0.5513 - val_accuracy: 0.7640\n",
            "Epoch 6/50\n",
            "7/7 [==============================] - 0s 13ms/step - loss: 0.5588 - accuracy: 0.7593 - val_loss: 0.5423 - val_accuracy: 0.7740\n",
            "Epoch 7/50\n",
            "7/7 [==============================] - 0s 23ms/step - loss: 0.5515 - accuracy: 0.7673 - val_loss: 0.5340 - val_accuracy: 0.7793\n",
            "Epoch 8/50\n",
            "7/7 [==============================] - 0s 13ms/step - loss: 0.5445 - accuracy: 0.7743 - val_loss: 0.5267 - val_accuracy: 0.7840\n",
            "Epoch 9/50\n",
            "7/7 [==============================] - 0s 27ms/step - loss: 0.5383 - accuracy: 0.7820 - val_loss: 0.5200 - val_accuracy: 0.7907\n",
            "Epoch 10/50\n",
            "7/7 [==============================] - 0s 31ms/step - loss: 0.5329 - accuracy: 0.7870 - val_loss: 0.5138 - val_accuracy: 0.7967\n",
            "Epoch 11/50\n",
            "7/7 [==============================] - 0s 14ms/step - loss: 0.5276 - accuracy: 0.7891 - val_loss: 0.5084 - val_accuracy: 0.8027\n",
            "Epoch 12/50\n",
            "7/7 [==============================] - 0s 18ms/step - loss: 0.5229 - accuracy: 0.7916 - val_loss: 0.5034 - val_accuracy: 0.8060\n",
            "Epoch 13/50\n",
            "7/7 [==============================] - 0s 21ms/step - loss: 0.5187 - accuracy: 0.7923 - val_loss: 0.4988 - val_accuracy: 0.8073\n",
            "Epoch 14/50\n",
            "7/7 [==============================] - 0s 16ms/step - loss: 0.5147 - accuracy: 0.7923 - val_loss: 0.4947 - val_accuracy: 0.8093\n",
            "Epoch 15/50\n",
            "7/7 [==============================] - 0s 25ms/step - loss: 0.5110 - accuracy: 0.7926 - val_loss: 0.4909 - val_accuracy: 0.8087\n",
            "Epoch 16/50\n",
            "7/7 [==============================] - 0s 23ms/step - loss: 0.5076 - accuracy: 0.7930 - val_loss: 0.4874 - val_accuracy: 0.8100\n",
            "Epoch 17/50\n",
            "7/7 [==============================] - 0s 24ms/step - loss: 0.5045 - accuracy: 0.7937 - val_loss: 0.4842 - val_accuracy: 0.8113\n",
            "Epoch 18/50\n",
            "7/7 [==============================] - 0s 18ms/step - loss: 0.5015 - accuracy: 0.7939 - val_loss: 0.4812 - val_accuracy: 0.8107\n",
            "Epoch 19/50\n",
            "7/7 [==============================] - 0s 41ms/step - loss: 0.4988 - accuracy: 0.7940 - val_loss: 0.4785 - val_accuracy: 0.8100\n",
            "Epoch 20/50\n",
            "7/7 [==============================] - 0s 23ms/step - loss: 0.4962 - accuracy: 0.7941 - val_loss: 0.4759 - val_accuracy: 0.8107\n",
            "Epoch 21/50\n",
            "7/7 [==============================] - 0s 30ms/step - loss: 0.4938 - accuracy: 0.7940 - val_loss: 0.4736 - val_accuracy: 0.8100\n",
            "Epoch 22/50\n",
            "7/7 [==============================] - 0s 26ms/step - loss: 0.4915 - accuracy: 0.7937 - val_loss: 0.4714 - val_accuracy: 0.8100\n",
            "Epoch 23/50\n",
            "7/7 [==============================] - 0s 30ms/step - loss: 0.4894 - accuracy: 0.7937 - val_loss: 0.4694 - val_accuracy: 0.8093\n",
            "Epoch 24/50\n",
            "7/7 [==============================] - 0s 34ms/step - loss: 0.4874 - accuracy: 0.7940 - val_loss: 0.4674 - val_accuracy: 0.8093\n",
            "Epoch 25/50\n",
            "7/7 [==============================] - 0s 40ms/step - loss: 0.4855 - accuracy: 0.7940 - val_loss: 0.4656 - val_accuracy: 0.8093\n",
            "Epoch 26/50\n",
            "7/7 [==============================] - 0s 37ms/step - loss: 0.4836 - accuracy: 0.7937 - val_loss: 0.4639 - val_accuracy: 0.8093\n",
            "Epoch 27/50\n",
            "7/7 [==============================] - 0s 46ms/step - loss: 0.4819 - accuracy: 0.7937 - val_loss: 0.4622 - val_accuracy: 0.8093\n",
            "Epoch 28/50\n",
            "7/7 [==============================] - 0s 34ms/step - loss: 0.4802 - accuracy: 0.7936 - val_loss: 0.4607 - val_accuracy: 0.8093\n",
            "Epoch 29/50\n",
            "7/7 [==============================] - 0s 32ms/step - loss: 0.4787 - accuracy: 0.7934 - val_loss: 0.4592 - val_accuracy: 0.8093\n",
            "Epoch 30/50\n",
            "7/7 [==============================] - 0s 26ms/step - loss: 0.4771 - accuracy: 0.7934 - val_loss: 0.4578 - val_accuracy: 0.8093\n",
            "Epoch 31/50\n",
            "7/7 [==============================] - 0s 22ms/step - loss: 0.4757 - accuracy: 0.7933 - val_loss: 0.4565 - val_accuracy: 0.8093\n",
            "Epoch 32/50\n",
            "7/7 [==============================] - 0s 22ms/step - loss: 0.4742 - accuracy: 0.7933 - val_loss: 0.4552 - val_accuracy: 0.8093\n",
            "Epoch 33/50\n",
            "7/7 [==============================] - 0s 36ms/step - loss: 0.4729 - accuracy: 0.7931 - val_loss: 0.4539 - val_accuracy: 0.8093\n",
            "Epoch 34/50\n",
            "7/7 [==============================] - 0s 37ms/step - loss: 0.4715 - accuracy: 0.7931 - val_loss: 0.4528 - val_accuracy: 0.8093\n",
            "Epoch 35/50\n",
            "7/7 [==============================] - 0s 31ms/step - loss: 0.4702 - accuracy: 0.7931 - val_loss: 0.4516 - val_accuracy: 0.8093\n",
            "Epoch 36/50\n",
            "7/7 [==============================] - 0s 24ms/step - loss: 0.4690 - accuracy: 0.7930 - val_loss: 0.4505 - val_accuracy: 0.8093\n",
            "Epoch 37/50\n",
            "7/7 [==============================] - 0s 29ms/step - loss: 0.4678 - accuracy: 0.7930 - val_loss: 0.4494 - val_accuracy: 0.8093\n",
            "Epoch 38/50\n",
            "7/7 [==============================] - 0s 36ms/step - loss: 0.4666 - accuracy: 0.7930 - val_loss: 0.4483 - val_accuracy: 0.8093\n",
            "Epoch 39/50\n",
            "7/7 [==============================] - 0s 11ms/step - loss: 0.4655 - accuracy: 0.7927 - val_loss: 0.4474 - val_accuracy: 0.8093\n",
            "Epoch 40/50\n",
            "7/7 [==============================] - 0s 14ms/step - loss: 0.4644 - accuracy: 0.7927 - val_loss: 0.4464 - val_accuracy: 0.8093\n",
            "Epoch 41/50\n",
            "7/7 [==============================] - 0s 23ms/step - loss: 0.4633 - accuracy: 0.7927 - val_loss: 0.4454 - val_accuracy: 0.8093\n",
            "Epoch 42/50\n",
            "7/7 [==============================] - 0s 13ms/step - loss: 0.4622 - accuracy: 0.7927 - val_loss: 0.4445 - val_accuracy: 0.8093\n",
            "Epoch 43/50\n",
            "7/7 [==============================] - 0s 14ms/step - loss: 0.4611 - accuracy: 0.7929 - val_loss: 0.4436 - val_accuracy: 0.8093\n",
            "Epoch 44/50\n",
            "7/7 [==============================] - 0s 19ms/step - loss: 0.4601 - accuracy: 0.7929 - val_loss: 0.4427 - val_accuracy: 0.8093\n",
            "Epoch 45/50\n",
            "7/7 [==============================] - 0s 14ms/step - loss: 0.4591 - accuracy: 0.7929 - val_loss: 0.4418 - val_accuracy: 0.8093\n",
            "Epoch 46/50\n",
            "7/7 [==============================] - 0s 14ms/step - loss: 0.4580 - accuracy: 0.7929 - val_loss: 0.4409 - val_accuracy: 0.8093\n",
            "Epoch 47/50\n",
            "7/7 [==============================] - 0s 16ms/step - loss: 0.4570 - accuracy: 0.7929 - val_loss: 0.4400 - val_accuracy: 0.8093\n",
            "Epoch 48/50\n",
            "7/7 [==============================] - 0s 16ms/step - loss: 0.4561 - accuracy: 0.7929 - val_loss: 0.4392 - val_accuracy: 0.8093\n",
            "Epoch 49/50\n",
            "7/7 [==============================] - 0s 21ms/step - loss: 0.4551 - accuracy: 0.7929 - val_loss: 0.4384 - val_accuracy: 0.8093\n",
            "Epoch 50/50\n",
            "7/7 [==============================] - 0s 13ms/step - loss: 0.4541 - accuracy: 0.7929 - val_loss: 0.4376 - val_accuracy: 0.8093\n"
          ]
        }
      ]
    },
    {
      "cell_type": "markdown",
      "source": [],
      "metadata": {
        "id": "n3Pr6JbAxmrt"
      }
    },
    {
      "cell_type": "markdown",
      "source": [
        "\n",
        "\n",
        "Use  ANN model to predict if the customer with the following informations will leave the bank: \n",
        "\n",
        "Geography: France\n",
        "\n",
        "Credit Score: 600\n",
        "\n",
        "Gender: Male\n",
        "\n",
        "Age: 40 years old\n",
        "\n",
        "Tenure: 3 years\n",
        "\n",
        "Balance: \\$ 60000\n",
        "\n",
        "Number of Products: 2\n",
        "\n",
        "Does this customer have a credit card ? Yes\n",
        "\n",
        "Is this customer an Active Member: Yes\n",
        "\n",
        "Estimated Salary: \\$ 50000\n",
        "\n",
        "So, should we say no to that customer ?"
      ],
      "metadata": {
        "id": "AHX1Xx3uxnnh"
      }
    },
    {
      "cell_type": "code",
      "source": [
        "print(model.predict(sc.transform([[1, 0, 0, 600, 1, 40, 3, 60000, 2, 1, 1, 50000]])) > 0.5)"
      ],
      "metadata": {
        "colab": {
          "base_uri": "https://localhost:8080/"
        },
        "id": "yh3TIcKlxoML",
        "outputId": "aa014321-b327-41e0-b422-07ef8cf4b30b"
      },
      "execution_count": 19,
      "outputs": [
        {
          "output_type": "stream",
          "name": "stdout",
          "text": [
            "1/1 [==============================] - 0s 97ms/step\n",
            "[[False]]\n"
          ]
        }
      ]
    },
    {
      "cell_type": "code",
      "source": [
        "y_pred = model.predict(X_test)\n",
        "y_pred = (y_pred > 0.5)\n",
        "print(np.concatenate((y_pred.reshape(len(y_pred),1), Y_test.reshape(len(Y_test),1)),1))"
      ],
      "metadata": {
        "colab": {
          "base_uri": "https://localhost:8080/"
        },
        "id": "UsoA9pwLxpxP",
        "outputId": "d14d7d81-9ee1-4220-b43d-63a3636c4381"
      },
      "execution_count": 20,
      "outputs": [
        {
          "output_type": "stream",
          "name": "stdout",
          "text": [
            "47/47 [==============================] - 0s 2ms/step\n",
            "[[0 0]\n",
            " [0 0]\n",
            " [0 1]\n",
            " ...\n",
            " [0 0]\n",
            " [0 0]\n",
            " [0 0]]\n"
          ]
        }
      ]
    },
    {
      "cell_type": "code",
      "source": [
        "from sklearn.metrics import confusion_matrix, accuracy_score\n",
        "cm = confusion_matrix(Y_test, y_pred)\n",
        "print(cm)\n",
        "accuracy_score(Y_test, y_pred)"
      ],
      "metadata": {
        "colab": {
          "base_uri": "https://localhost:8080/"
        },
        "id": "s8118VVRxsbe",
        "outputId": "031a431a-6b33-4739-bde7-375e89a176ad"
      },
      "execution_count": 21,
      "outputs": [
        {
          "output_type": "stream",
          "name": "stdout",
          "text": [
            "[[1201    0]\n",
            " [ 298    1]]\n"
          ]
        },
        {
          "output_type": "execute_result",
          "data": {
            "text/plain": [
              "0.8013333333333333"
            ]
          },
          "metadata": {},
          "execution_count": 21
        }
      ]
    },
    {
      "cell_type": "code",
      "source": [
        "import matplotlib.pyplot as plt\n",
        "plt.plot(myModel.history['loss'])\n",
        "plt.plot(myModel.history['val_loss'])\n",
        "plt.title('Model loss')\n",
        "plt.ylabel('Loss')\n",
        "plt.xlabel('Epoch')\n",
        "plt.legend(['Train', 'Val'], loc='upper right')\n",
        "plt.show()"
      ],
      "metadata": {
        "colab": {
          "base_uri": "https://localhost:8080/",
          "height": 472
        },
        "id": "jOBST3EXxt76",
        "outputId": "89727219-ca5d-4f59-a6e6-eb6d3ae44913"
      },
      "execution_count": 22,
      "outputs": [
        {
          "output_type": "display_data",
          "data": {
            "text/plain": [
              "<Figure size 640x480 with 1 Axes>"
            ],
            "image/png": "[encoded data removed]"
          },
          "metadata": {}
        }
      ]
    },
    {
      "cell_type": "code",
      "source": [
        "plt.plot(myModel.history['accuracy'])\n",
        "plt.plot(myModel.history['val_accuracy'])\n",
        "plt.title('Model accuracy')\n",
        "plt.ylabel('Accuracy')\n",
        "plt.xlabel('Epoch')\n",
        "plt.legend(['Train', 'Val'], loc='lower right')\n",
        "plt.show()"
      ],
      "metadata": {
        "colab": {
          "base_uri": "https://localhost:8080/",
          "height": 472
        },
        "id": "nJSq4c3kxwUl",
        "outputId": "ce88b9fa-f299-4558-a49b-32a7c0cf421c"
      },
      "execution_count": 23,
      "outputs": [
        {
          "output_type": "display_data",
          "data": {
            "text/plain": [
              "<Figure size 640x480 with 1 Axes>"
            ],
            "image/png": "[encoded data removed]"
          },
          "metadata": {}
        }
      ]
    },
    {
      "cell_type": "code",
      "source": [],
      "metadata": {
        "id": "-e5oNpWlxzIQ"
      },
      "execution_count": 23,
      "outputs": []
    }
  ]
}