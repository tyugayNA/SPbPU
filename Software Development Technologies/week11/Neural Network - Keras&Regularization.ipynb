{
 "cells": [
  {
   "cell_type": "code",
   "execution_count": 1,
   "metadata": {},
   "outputs": [],
   "source": [
    "import pandas as pd"
   ]
  },
  {
   "cell_type": "code",
   "execution_count": 2,
   "metadata": {},
   "outputs": [],
   "source": [
    "df = pd.read_csv('housepricedata.csv')"
   ]
  },
  {
   "cell_type": "code",
   "execution_count": 3,
   "metadata": {},
   "outputs": [
    {
     "data": {
      "text/html": [
       "<div>\n",
       "<style scoped>\n",
       "    .dataframe tbody tr th:only-of-type {\n",
       "        vertical-align: middle;\n",
       "    }\n",
       "\n",
       "    .dataframe tbody tr th {\n",
       "        vertical-align: top;\n",
       "    }\n",
       "\n",
       "    .dataframe thead th {\n",
       "        text-align: right;\n",
       "    }\n",
       "</style>\n",
       "<table border=\"1\" class=\"dataframe\">\n",
       "  <thead>\n",
       "    <tr style=\"text-align: right;\">\n",
       "      <th></th>\n",
       "      <th>LotArea</th>\n",
       "      <th>OverallQual</th>\n",
       "      <th>OverallCond</th>\n",
       "      <th>TotalBsmtSF</th>\n",
       "      <th>FullBath</th>\n",
       "      <th>HalfBath</th>\n",
       "      <th>BedroomAbvGr</th>\n",
       "      <th>TotRmsAbvGrd</th>\n",
       "      <th>Fireplaces</th>\n",
       "      <th>GarageArea</th>\n",
       "      <th>AboveMedianPrice</th>\n",
       "    </tr>\n",
       "  </thead>\n",
       "  <tbody>\n",
       "    <tr>\n",
       "      <th>0</th>\n",
       "      <td>8450</td>\n",
       "      <td>7</td>\n",
       "      <td>5</td>\n",
       "      <td>856</td>\n",
       "      <td>2</td>\n",
       "      <td>1</td>\n",
       "      <td>3</td>\n",
       "      <td>8</td>\n",
       "      <td>0</td>\n",
       "      <td>548</td>\n",
       "      <td>1</td>\n",
       "    </tr>\n",
       "    <tr>\n",
       "      <th>1</th>\n",
       "      <td>9600</td>\n",
       "      <td>6</td>\n",
       "      <td>8</td>\n",
       "      <td>1262</td>\n",
       "      <td>2</td>\n",
       "      <td>0</td>\n",
       "      <td>3</td>\n",
       "      <td>6</td>\n",
       "      <td>1</td>\n",
       "      <td>460</td>\n",
       "      <td>1</td>\n",
       "    </tr>\n",
       "    <tr>\n",
       "      <th>2</th>\n",
       "      <td>11250</td>\n",
       "      <td>7</td>\n",
       "      <td>5</td>\n",
       "      <td>920</td>\n",
       "      <td>2</td>\n",
       "      <td>1</td>\n",
       "      <td>3</td>\n",
       "      <td>6</td>\n",
       "      <td>1</td>\n",
       "      <td>608</td>\n",
       "      <td>1</td>\n",
       "    </tr>\n",
       "    <tr>\n",
       "      <th>3</th>\n",
       "      <td>9550</td>\n",
       "      <td>7</td>\n",
       "      <td>5</td>\n",
       "      <td>756</td>\n",
       "      <td>1</td>\n",
       "      <td>0</td>\n",
       "      <td>3</td>\n",
       "      <td>7</td>\n",
       "      <td>1</td>\n",
       "      <td>642</td>\n",
       "      <td>0</td>\n",
       "    </tr>\n",
       "    <tr>\n",
       "      <th>4</th>\n",
       "      <td>14260</td>\n",
       "      <td>8</td>\n",
       "      <td>5</td>\n",
       "      <td>1145</td>\n",
       "      <td>2</td>\n",
       "      <td>1</td>\n",
       "      <td>4</td>\n",
       "      <td>9</td>\n",
       "      <td>1</td>\n",
       "      <td>836</td>\n",
       "      <td>1</td>\n",
       "    </tr>\n",
       "    <tr>\n",
       "      <th>...</th>\n",
       "      <td>...</td>\n",
       "      <td>...</td>\n",
       "      <td>...</td>\n",
       "      <td>...</td>\n",
       "      <td>...</td>\n",
       "      <td>...</td>\n",
       "      <td>...</td>\n",
       "      <td>...</td>\n",
       "      <td>...</td>\n",
       "      <td>...</td>\n",
       "      <td>...</td>\n",
       "    </tr>\n",
       "    <tr>\n",
       "      <th>1455</th>\n",
       "      <td>7917</td>\n",
       "      <td>6</td>\n",
       "      <td>5</td>\n",
       "      <td>953</td>\n",
       "      <td>2</td>\n",
       "      <td>1</td>\n",
       "      <td>3</td>\n",
       "      <td>7</td>\n",
       "      <td>1</td>\n",
       "      <td>460</td>\n",
       "      <td>1</td>\n",
       "    </tr>\n",
       "    <tr>\n",
       "      <th>1456</th>\n",
       "      <td>13175</td>\n",
       "      <td>6</td>\n",
       "      <td>6</td>\n",
       "      <td>1542</td>\n",
       "      <td>2</td>\n",
       "      <td>0</td>\n",
       "      <td>3</td>\n",
       "      <td>7</td>\n",
       "      <td>2</td>\n",
       "      <td>500</td>\n",
       "      <td>1</td>\n",
       "    </tr>\n",
       "    <tr>\n",
       "      <th>1457</th>\n",
       "      <td>9042</td>\n",
       "      <td>7</td>\n",
       "      <td>9</td>\n",
       "      <td>1152</td>\n",
       "      <td>2</td>\n",
       "      <td>0</td>\n",
       "      <td>4</td>\n",
       "      <td>9</td>\n",
       "      <td>2</td>\n",
       "      <td>252</td>\n",
       "      <td>1</td>\n",
       "    </tr>\n",
       "    <tr>\n",
       "      <th>1458</th>\n",
       "      <td>9717</td>\n",
       "      <td>5</td>\n",
       "      <td>6</td>\n",
       "      <td>1078</td>\n",
       "      <td>1</td>\n",
       "      <td>0</td>\n",
       "      <td>2</td>\n",
       "      <td>5</td>\n",
       "      <td>0</td>\n",
       "      <td>240</td>\n",
       "      <td>0</td>\n",
       "    </tr>\n",
       "    <tr>\n",
       "      <th>1459</th>\n",
       "      <td>9937</td>\n",
       "      <td>5</td>\n",
       "      <td>6</td>\n",
       "      <td>1256</td>\n",
       "      <td>1</td>\n",
       "      <td>1</td>\n",
       "      <td>3</td>\n",
       "      <td>6</td>\n",
       "      <td>0</td>\n",
       "      <td>276</td>\n",
       "      <td>0</td>\n",
       "    </tr>\n",
       "  </tbody>\n",
       "</table>\n",
       "<p>1460 rows × 11 columns</p>\n",
       "</div>"
      ],
      "text/plain": [
       "      LotArea  OverallQual  OverallCond  TotalBsmtSF  FullBath  HalfBath  \\\n",
       "0        8450            7            5          856         2         1   \n",
       "1        9600            6            8         1262         2         0   \n",
       "2       11250            7            5          920         2         1   \n",
       "3        9550            7            5          756         1         0   \n",
       "4       14260            8            5         1145         2         1   \n",
       "...       ...          ...          ...          ...       ...       ...   \n",
       "1455     7917            6            5          953         2         1   \n",
       "1456    13175            6            6         1542         2         0   \n",
       "1457     9042            7            9         1152         2         0   \n",
       "1458     9717            5            6         1078         1         0   \n",
       "1459     9937            5            6         1256         1         1   \n",
       "\n",
       "      BedroomAbvGr  TotRmsAbvGrd  Fireplaces  GarageArea  AboveMedianPrice  \n",
       "0                3             8           0         548                 1  \n",
       "1                3             6           1         460                 1  \n",
       "2                3             6           1         608                 1  \n",
       "3                3             7           1         642                 0  \n",
       "4                4             9           1         836                 1  \n",
       "...            ...           ...         ...         ...               ...  \n",
       "1455             3             7           1         460                 1  \n",
       "1456             3             7           2         500                 1  \n",
       "1457             4             9           2         252                 1  \n",
       "1458             2             5           0         240                 0  \n",
       "1459             3             6           0         276                 0  \n",
       "\n",
       "[1460 rows x 11 columns]"
      ]
     },
     "execution_count": 3,
     "metadata": {},
     "output_type": "execute_result"
    }
   ],
   "source": [
    "df"
   ]
  },
  {
   "cell_type": "raw",
   "metadata": {},
   "source": [
    "Lot Area (in sq ft)\n",
    "Overall Quality (scale from 1 to 10)\n",
    "Overall Condition (scale from 1 to 10)\n",
    "Total Basement Area (in sq ft)\n",
    "Number of Full Bathrooms\n",
    "Number of Half Bathrooms\n",
    "Number of Bedrooms above ground\n",
    "Total Number of Rooms above ground\n",
    "Number of Fireplaces\n",
    "Garage Area (in sq ft)"
   ]
  },
  {
   "cell_type": "code",
   "execution_count": 4,
   "metadata": {},
   "outputs": [],
   "source": [
    "dataset = df.values"
   ]
  },
  {
   "cell_type": "code",
   "execution_count": 5,
   "metadata": {},
   "outputs": [
    {
     "data": {
      "text/plain": [
       "array([[ 8450,     7,     5, ...,     0,   548,     1],\n",
       "       [ 9600,     6,     8, ...,     1,   460,     1],\n",
       "       [11250,     7,     5, ...,     1,   608,     1],\n",
       "       ...,\n",
       "       [ 9042,     7,     9, ...,     2,   252,     1],\n",
       "       [ 9717,     5,     6, ...,     0,   240,     0],\n",
       "       [ 9937,     5,     6, ...,     0,   276,     0]], dtype=int64)"
      ]
     },
     "execution_count": 5,
     "metadata": {},
     "output_type": "execute_result"
    }
   ],
   "source": [
    "dataset   #To convert our dataframe into an array, we just store the values of df (by accessing df.values) into the variable ‘dataset’."
   ]
  },
  {
   "cell_type": "code",
   "execution_count": 6,
   "metadata": {},
   "outputs": [],
   "source": [
    "X = dataset[:,0:10]  # what happened here?"
   ]
  },
  {
   "cell_type": "raw",
   "metadata": {},
   "source": [
    "We want to extract out the first 10 columns, and so the ‘0:10’ after the comma means take columns 0 to 9 and put it in X (we don’t include column 10). Our columns start from index 0, so the first 10 columns are really columns 0 to 9."
   ]
  },
  {
   "cell_type": "code",
   "execution_count": 7,
   "metadata": {},
   "outputs": [],
   "source": [
    "Y = dataset[:,10]  #We then assign the last column of our array to Y"
   ]
  },
  {
   "cell_type": "code",
   "execution_count": 8,
   "metadata": {},
   "outputs": [
    {
     "data": {
      "text/plain": [
       "array([1, 1, 1, ..., 1, 0, 0], dtype=int64)"
      ]
     },
     "execution_count": 8,
     "metadata": {},
     "output_type": "execute_result"
    }
   ],
   "source": [
    "Y"
   ]
  },
  {
   "cell_type": "code",
   "execution_count": 9,
   "metadata": {},
   "outputs": [],
   "source": [
    "from sklearn import preprocessing"
   ]
  },
  {
   "cell_type": "code",
   "execution_count": 10,
   "metadata": {},
   "outputs": [],
   "source": [
    "min_max_scaler = preprocessing.MinMaxScaler()\n",
    "X_scale = min_max_scaler.fit_transform(X)"
   ]
  },
  {
   "cell_type": "code",
   "execution_count": 11,
   "metadata": {},
   "outputs": [
    {
     "data": {
      "text/plain": [
       "array([[0.0334198 , 0.66666667, 0.5       , ..., 0.5       , 0.        ,\n",
       "        0.3864598 ],\n",
       "       [0.03879502, 0.55555556, 0.875     , ..., 0.33333333, 0.33333333,\n",
       "        0.32440056],\n",
       "       [0.04650728, 0.66666667, 0.5       , ..., 0.33333333, 0.33333333,\n",
       "        0.42877292],\n",
       "       ...,\n",
       "       [0.03618687, 0.66666667, 1.        , ..., 0.58333333, 0.66666667,\n",
       "        0.17771509],\n",
       "       [0.03934189, 0.44444444, 0.625     , ..., 0.25      , 0.        ,\n",
       "        0.16925247],\n",
       "       [0.04037019, 0.44444444, 0.625     , ..., 0.33333333, 0.        ,\n",
       "        0.19464034]])"
      ]
     },
     "execution_count": 11,
     "metadata": {},
     "output_type": "execute_result"
    }
   ],
   "source": [
    "X_scale"
   ]
  },
  {
   "cell_type": "code",
   "execution_count": 12,
   "metadata": {},
   "outputs": [],
   "source": [
    "from sklearn.model_selection import train_test_split"
   ]
  },
  {
   "cell_type": "code",
   "execution_count": 13,
   "metadata": {},
   "outputs": [],
   "source": [
    "X_train, X_val_and_test, Y_train, Y_val_and_test = train_test_split(X_scale, Y, test_size=0.3)"
   ]
  },
  {
   "cell_type": "code",
   "execution_count": 14,
   "metadata": {},
   "outputs": [],
   "source": [
    "X_val, X_test, Y_val, Y_test = train_test_split(X_val_and_test, Y_val_and_test, test_size=0.5) \n",
    "# we want a separate validation set and test set, we can use the same function to do the split again on val_and_test:"
   ]
  },
  {
   "cell_type": "raw",
   "metadata": {},
   "source": [
    "In summary, we now have a total of six variables for our datasets we will use:\n",
    "X_train (10 input features, 70% of full dataset)\n",
    "X_val (10 input features, 15% of full dataset)\n",
    "X_test (10 input features, 15% of full dataset)\n",
    "Y_train (1 label, 70% of full dataset)\n",
    "Y_val (1 label, 15% of full dataset)\n",
    "Y_test (1 label, 15% of full dataset)"
   ]
  },
  {
   "cell_type": "code",
   "execution_count": 15,
   "metadata": {},
   "outputs": [
    {
     "name": "stdout",
     "output_type": "stream",
     "text": [
      "(1022, 10) (219, 10) (219, 10) (1022,) (219,) (219,)\n"
     ]
    }
   ],
   "source": [
    "print(X_train.shape, X_val.shape, X_test.shape, Y_train.shape, Y_val.shape, Y_test.shape)"
   ]
  },
  {
   "cell_type": "code",
   "execution_count": null,
   "metadata": {},
   "outputs": [],
   "source": []
  },
  {
   "cell_type": "code",
   "execution_count": 16,
   "metadata": {},
   "outputs": [],
   "source": [
    "from keras.models import Sequential\n",
    "from keras.layers import Dense"
   ]
  },
  {
   "cell_type": "raw",
   "metadata": {},
   "source": [
    "model = Sequential([\n",
    "    Dense(10, activation='relu', input_shape=(10,)),\n",
    "    Dense(32, activation='tanh'),\n",
    "    Dense(64, activation='relu'),\n",
    "    Dense(128, activation='relu'),\n",
    "    Dense(32, activation='relu'),\n",
    "    Dense(1, activation='sigmoid'),  # 5 to 1000\n",
    "])    #(number of features +2) / 2"
   ]
  },
  {
   "cell_type": "raw",
   "metadata": {},
   "source": [
    "model = Sequential([\n",
    "    Dense(10, activation='relu', input_shape=(10,)),  #(10+1)/2\n",
    "    Dense(12, activation='relu'),\n",
    "    Dense(64, activation='relu'),\n",
    "    Dense(64, activation='relu'),\n",
    "    Dense(12, activation='relu'),\n",
    "    Dense(1, activation='sigmoid'),\n",
    "])"
   ]
  },
  {
   "cell_type": "code",
   "execution_count": 18,
   "metadata": {},
   "outputs": [],
   "source": [
    "model = Sequential([\n",
    "    Dense(6, activation='relu', input_shape=(10,)),  #(10+1)/2\n",
    "\n",
    "    Dense(1, activation='sigmoid'),\n",
    "])"
   ]
  },
  {
   "cell_type": "raw",
   "metadata": {},
   "source": [
    "#explanations :\n",
    "We have our first layer as a dense layer with 32 neurons, \n",
    "ReLU activation and the input shape is 10 since we have 10 input features.\n",
    "Note that ‘Dense’ refers to a fully-connected layer, which is what we will be using.\n",
    "\n",
    "Our second layer is also a dense layer with 32 neurons, \n",
    "ReLU activation. Note that we do not have to describe the input shape since Keras\n",
    "can infer from the output of our first layer.\n",
    "\n",
    "\n",
    "Our third layer is a dense layer with 1 neuron, sigmoid activation."
   ]
  },
  {
   "cell_type": "raw",
   "metadata": {},
   "source": [
    "we need to find the best numbers for it. Before we start our training, we have to configure the model by\n",
    "Telling it which algorithm you want to use to do the optimization\n",
    "Telling it what loss function to use\n",
    "Telling it what other metrics you want to track apart from the loss function\n",
    "Configuring the model with these settings requires us to call the function model.compile, like this:"
   ]
  },
  {
   "cell_type": "code",
   "execution_count": 19,
   "metadata": {},
   "outputs": [],
   "source": [
    "model.compile(optimizer='adam',  #sgd’ refers to stochastic gradient descent (over here, it refers to mini-batch gradient descent),\n",
    "              loss='binary_crossentropy', #The loss function for outputs that take the values 1 or 0 is called binary cross entropy.\n",
    "              metrics=['accuracy'])  #we want to track accuracy on top of the loss function."
   ]
  },
  {
   "cell_type": "code",
   "execution_count": 20,
   "metadata": {},
   "outputs": [
    {
     "name": "stdout",
     "output_type": "stream",
     "text": [
      "Epoch 1/100\n",
      "64/64 [==============================] - 1s 5ms/step - loss: 0.7262 - accuracy: 0.4687 - val_loss: 0.7063 - val_accuracy: 0.4658\n",
      "Epoch 2/100\n",
      "64/64 [==============================] - 0s 2ms/step - loss: 0.6944 - accuracy: 0.4951 - val_loss: 0.6812 - val_accuracy: 0.5616\n",
      "Epoch 3/100\n",
      "64/64 [==============================] - 0s 2ms/step - loss: 0.6795 - accuracy: 0.5988 - val_loss: 0.6663 - val_accuracy: 0.6119\n",
      "Epoch 4/100\n",
      "64/64 [==============================] - 0s 2ms/step - loss: 0.6631 - accuracy: 0.6585 - val_loss: 0.6416 - val_accuracy: 0.7260\n",
      "Epoch 5/100\n",
      "64/64 [==============================] - 0s 3ms/step - loss: 0.6413 - accuracy: 0.7114 - val_loss: 0.6196 - val_accuracy: 0.7854\n",
      "Epoch 6/100\n",
      "64/64 [==============================] - 0s 2ms/step - loss: 0.6216 - accuracy: 0.7495 - val_loss: 0.5977 - val_accuracy: 0.7945\n",
      "Epoch 7/100\n",
      "64/64 [==============================] - 0s 2ms/step - loss: 0.6017 - accuracy: 0.7710 - val_loss: 0.5751 - val_accuracy: 0.8082\n",
      "Epoch 8/100\n",
      "64/64 [==============================] - 0s 2ms/step - loss: 0.5815 - accuracy: 0.7838 - val_loss: 0.5536 - val_accuracy: 0.8219\n",
      "Epoch 9/100\n",
      "64/64 [==============================] - 0s 3ms/step - loss: 0.5617 - accuracy: 0.8033 - val_loss: 0.5319 - val_accuracy: 0.8265\n",
      "Epoch 10/100\n",
      "64/64 [==============================] - 0s 2ms/step - loss: 0.5424 - accuracy: 0.8141 - val_loss: 0.5111 - val_accuracy: 0.8311\n",
      "Epoch 11/100\n",
      "64/64 [==============================] - 0s 2ms/step - loss: 0.5241 - accuracy: 0.8141 - val_loss: 0.4916 - val_accuracy: 0.8311\n",
      "Epoch 12/100\n",
      "64/64 [==============================] - 0s 2ms/step - loss: 0.5065 - accuracy: 0.8249 - val_loss: 0.4729 - val_accuracy: 0.8402\n",
      "Epoch 13/100\n",
      "64/64 [==============================] - 0s 2ms/step - loss: 0.4904 - accuracy: 0.8288 - val_loss: 0.4559 - val_accuracy: 0.8402\n",
      "Epoch 14/100\n",
      "64/64 [==============================] - 0s 2ms/step - loss: 0.4752 - accuracy: 0.8317 - val_loss: 0.4402 - val_accuracy: 0.8402\n",
      "Epoch 15/100\n",
      "64/64 [==============================] - 0s 2ms/step - loss: 0.4614 - accuracy: 0.8395 - val_loss: 0.4264 - val_accuracy: 0.8402\n",
      "Epoch 16/100\n",
      "64/64 [==============================] - 0s 2ms/step - loss: 0.4488 - accuracy: 0.8464 - val_loss: 0.4130 - val_accuracy: 0.8402\n",
      "Epoch 17/100\n",
      "64/64 [==============================] - 0s 2ms/step - loss: 0.4382 - accuracy: 0.8464 - val_loss: 0.4012 - val_accuracy: 0.8539\n",
      "Epoch 18/100\n",
      "64/64 [==============================] - 0s 2ms/step - loss: 0.4269 - accuracy: 0.8503 - val_loss: 0.3904 - val_accuracy: 0.8584\n",
      "Epoch 19/100\n",
      "64/64 [==============================] - 0s 2ms/step - loss: 0.4172 - accuracy: 0.8532 - val_loss: 0.3803 - val_accuracy: 0.8584\n",
      "Epoch 20/100\n",
      "64/64 [==============================] - 0s 2ms/step - loss: 0.4082 - accuracy: 0.8542 - val_loss: 0.3711 - val_accuracy: 0.8584\n",
      "Epoch 21/100\n",
      "64/64 [==============================] - 0s 2ms/step - loss: 0.4001 - accuracy: 0.8552 - val_loss: 0.3626 - val_accuracy: 0.8584\n",
      "Epoch 22/100\n",
      "64/64 [==============================] - 0s 2ms/step - loss: 0.3928 - accuracy: 0.8571 - val_loss: 0.3550 - val_accuracy: 0.8584\n",
      "Epoch 23/100\n",
      "64/64 [==============================] - 0s 2ms/step - loss: 0.3862 - accuracy: 0.8611 - val_loss: 0.3478 - val_accuracy: 0.8676\n",
      "Epoch 24/100\n",
      "64/64 [==============================] - 0s 2ms/step - loss: 0.3791 - accuracy: 0.8620 - val_loss: 0.3413 - val_accuracy: 0.8676\n",
      "Epoch 25/100\n",
      "64/64 [==============================] - 0s 2ms/step - loss: 0.3733 - accuracy: 0.8640 - val_loss: 0.3353 - val_accuracy: 0.8676\n",
      "Epoch 26/100\n",
      "64/64 [==============================] - 0s 2ms/step - loss: 0.3677 - accuracy: 0.8679 - val_loss: 0.3292 - val_accuracy: 0.8676\n",
      "Epoch 27/100\n",
      "64/64 [==============================] - 0s 2ms/step - loss: 0.3624 - accuracy: 0.8699 - val_loss: 0.3237 - val_accuracy: 0.8676\n",
      "Epoch 28/100\n",
      "64/64 [==============================] - 0s 2ms/step - loss: 0.3581 - accuracy: 0.8679 - val_loss: 0.3194 - val_accuracy: 0.8630\n",
      "Epoch 29/100\n",
      "64/64 [==============================] - 0s 2ms/step - loss: 0.3537 - accuracy: 0.8708 - val_loss: 0.3146 - val_accuracy: 0.8813\n",
      "Epoch 30/100\n",
      "64/64 [==============================] - 0s 2ms/step - loss: 0.3486 - accuracy: 0.8699 - val_loss: 0.3101 - val_accuracy: 0.8630\n",
      "Epoch 31/100\n",
      "64/64 [==============================] - 0s 3ms/step - loss: 0.3445 - accuracy: 0.8718 - val_loss: 0.3059 - val_accuracy: 0.8676\n",
      "Epoch 32/100\n",
      "64/64 [==============================] - 0s 2ms/step - loss: 0.3408 - accuracy: 0.8748 - val_loss: 0.3023 - val_accuracy: 0.8767\n",
      "Epoch 33/100\n",
      "64/64 [==============================] - 0s 3ms/step - loss: 0.3377 - accuracy: 0.8748 - val_loss: 0.2986 - val_accuracy: 0.8676\n",
      "Epoch 34/100\n",
      "64/64 [==============================] - 0s 2ms/step - loss: 0.3353 - accuracy: 0.8738 - val_loss: 0.2950 - val_accuracy: 0.8767\n",
      "Epoch 35/100\n",
      "64/64 [==============================] - 0s 2ms/step - loss: 0.3305 - accuracy: 0.8757 - val_loss: 0.2921 - val_accuracy: 0.8767\n",
      "Epoch 36/100\n",
      "64/64 [==============================] - 0s 2ms/step - loss: 0.3281 - accuracy: 0.8816 - val_loss: 0.2889 - val_accuracy: 0.8767\n",
      "Epoch 37/100\n",
      "64/64 [==============================] - 0s 2ms/step - loss: 0.3248 - accuracy: 0.8796 - val_loss: 0.2859 - val_accuracy: 0.8767\n",
      "Epoch 38/100\n",
      "64/64 [==============================] - 0s 2ms/step - loss: 0.3233 - accuracy: 0.8767 - val_loss: 0.2839 - val_accuracy: 0.8767\n",
      "Epoch 39/100\n",
      "64/64 [==============================] - 0s 2ms/step - loss: 0.3200 - accuracy: 0.8796 - val_loss: 0.2811 - val_accuracy: 0.8767\n",
      "Epoch 40/100\n",
      "64/64 [==============================] - 0s 2ms/step - loss: 0.3177 - accuracy: 0.8816 - val_loss: 0.2783 - val_accuracy: 0.8767\n",
      "Epoch 41/100\n",
      "64/64 [==============================] - 0s 2ms/step - loss: 0.3164 - accuracy: 0.8816 - val_loss: 0.2763 - val_accuracy: 0.8813\n",
      "Epoch 42/100\n",
      "64/64 [==============================] - 0s 2ms/step - loss: 0.3130 - accuracy: 0.8845 - val_loss: 0.2737 - val_accuracy: 0.8858\n",
      "Epoch 43/100\n",
      "64/64 [==============================] - 0s 2ms/step - loss: 0.3110 - accuracy: 0.8836 - val_loss: 0.2715 - val_accuracy: 0.8858\n",
      "Epoch 44/100\n",
      "64/64 [==============================] - 0s 2ms/step - loss: 0.3094 - accuracy: 0.8845 - val_loss: 0.2698 - val_accuracy: 0.8858\n",
      "Epoch 45/100\n",
      "64/64 [==============================] - 0s 2ms/step - loss: 0.3077 - accuracy: 0.8836 - val_loss: 0.2677 - val_accuracy: 0.8904\n",
      "Epoch 46/100\n",
      "64/64 [==============================] - 0s 2ms/step - loss: 0.3061 - accuracy: 0.8865 - val_loss: 0.2659 - val_accuracy: 0.8950\n",
      "Epoch 47/100\n",
      "64/64 [==============================] - 0s 2ms/step - loss: 0.3036 - accuracy: 0.8826 - val_loss: 0.2644 - val_accuracy: 0.8904\n",
      "Epoch 48/100\n",
      "64/64 [==============================] - 0s 2ms/step - loss: 0.3018 - accuracy: 0.8855 - val_loss: 0.2624 - val_accuracy: 0.8950\n",
      "Epoch 49/100\n",
      "64/64 [==============================] - 0s 2ms/step - loss: 0.3005 - accuracy: 0.8865 - val_loss: 0.2610 - val_accuracy: 0.8904\n",
      "Epoch 50/100\n",
      "64/64 [==============================] - 0s 2ms/step - loss: 0.2991 - accuracy: 0.8855 - val_loss: 0.2603 - val_accuracy: 0.8904\n",
      "Epoch 51/100\n",
      "64/64 [==============================] - 0s 2ms/step - loss: 0.2978 - accuracy: 0.8855 - val_loss: 0.2577 - val_accuracy: 0.8950\n",
      "Epoch 52/100\n",
      "64/64 [==============================] - 0s 2ms/step - loss: 0.2956 - accuracy: 0.8855 - val_loss: 0.2574 - val_accuracy: 0.8904\n",
      "Epoch 53/100\n",
      "64/64 [==============================] - 0s 2ms/step - loss: 0.2968 - accuracy: 0.8845 - val_loss: 0.2567 - val_accuracy: 0.8904\n",
      "Epoch 54/100\n",
      "64/64 [==============================] - 0s 2ms/step - loss: 0.2939 - accuracy: 0.8836 - val_loss: 0.2538 - val_accuracy: 0.8950\n",
      "Epoch 55/100\n",
      "64/64 [==============================] - 0s 2ms/step - loss: 0.2925 - accuracy: 0.8865 - val_loss: 0.2533 - val_accuracy: 0.8950\n",
      "Epoch 56/100\n",
      "64/64 [==============================] - 0s 2ms/step - loss: 0.2914 - accuracy: 0.8845 - val_loss: 0.2514 - val_accuracy: 0.8950\n",
      "Epoch 57/100\n",
      "64/64 [==============================] - 0s 2ms/step - loss: 0.2897 - accuracy: 0.8865 - val_loss: 0.2511 - val_accuracy: 0.8950\n",
      "Epoch 58/100\n",
      "64/64 [==============================] - 0s 3ms/step - loss: 0.2901 - accuracy: 0.8826 - val_loss: 0.2491 - val_accuracy: 0.8995\n"
     ]
    },
    {
     "name": "stdout",
     "output_type": "stream",
     "text": [
      "Epoch 59/100\n",
      "64/64 [==============================] - 0s 2ms/step - loss: 0.2880 - accuracy: 0.8845 - val_loss: 0.2481 - val_accuracy: 0.8995\n",
      "Epoch 60/100\n",
      "64/64 [==============================] - 0s 2ms/step - loss: 0.2863 - accuracy: 0.8865 - val_loss: 0.2472 - val_accuracy: 0.8995\n",
      "Epoch 61/100\n",
      "64/64 [==============================] - 0s 2ms/step - loss: 0.2864 - accuracy: 0.8836 - val_loss: 0.2462 - val_accuracy: 0.8995\n",
      "Epoch 62/100\n",
      "64/64 [==============================] - 0s 2ms/step - loss: 0.2842 - accuracy: 0.8865 - val_loss: 0.2452 - val_accuracy: 0.8995\n",
      "Epoch 63/100\n",
      "64/64 [==============================] - 0s 2ms/step - loss: 0.2834 - accuracy: 0.8885 - val_loss: 0.2460 - val_accuracy: 0.8950\n",
      "Epoch 64/100\n",
      "64/64 [==============================] - 0s 2ms/step - loss: 0.2829 - accuracy: 0.8865 - val_loss: 0.2432 - val_accuracy: 0.9041\n",
      "Epoch 65/100\n",
      "64/64 [==============================] - 0s 2ms/step - loss: 0.2817 - accuracy: 0.8855 - val_loss: 0.2423 - val_accuracy: 0.8995\n",
      "Epoch 66/100\n",
      "64/64 [==============================] - 0s 2ms/step - loss: 0.2814 - accuracy: 0.8875 - val_loss: 0.2411 - val_accuracy: 0.8995\n",
      "Epoch 67/100\n",
      "64/64 [==============================] - 0s 2ms/step - loss: 0.2807 - accuracy: 0.8875 - val_loss: 0.2403 - val_accuracy: 0.9041\n",
      "Epoch 68/100\n",
      "64/64 [==============================] - 0s 2ms/step - loss: 0.2790 - accuracy: 0.8875 - val_loss: 0.2398 - val_accuracy: 0.9041\n",
      "Epoch 69/100\n",
      "64/64 [==============================] - 0s 2ms/step - loss: 0.2779 - accuracy: 0.8885 - val_loss: 0.2386 - val_accuracy: 0.8995\n",
      "Epoch 70/100\n",
      "64/64 [==============================] - 0s 2ms/step - loss: 0.2774 - accuracy: 0.8933 - val_loss: 0.2383 - val_accuracy: 0.9041\n",
      "Epoch 71/100\n",
      "64/64 [==============================] - 0s 2ms/step - loss: 0.2761 - accuracy: 0.8953 - val_loss: 0.2373 - val_accuracy: 0.9041\n",
      "Epoch 72/100\n",
      "64/64 [==============================] - 0s 2ms/step - loss: 0.2758 - accuracy: 0.8933 - val_loss: 0.2369 - val_accuracy: 0.8995\n",
      "Epoch 73/100\n",
      "64/64 [==============================] - 0s 2ms/step - loss: 0.2751 - accuracy: 0.8924 - val_loss: 0.2358 - val_accuracy: 0.8995\n",
      "Epoch 74/100\n",
      "64/64 [==============================] - 0s 2ms/step - loss: 0.2741 - accuracy: 0.8973 - val_loss: 0.2353 - val_accuracy: 0.9041\n",
      "Epoch 75/100\n",
      "64/64 [==============================] - 0s 2ms/step - loss: 0.2734 - accuracy: 0.8973 - val_loss: 0.2346 - val_accuracy: 0.9041\n",
      "Epoch 76/100\n",
      "64/64 [==============================] - 0s 2ms/step - loss: 0.2723 - accuracy: 0.8982 - val_loss: 0.2340 - val_accuracy: 0.9041\n",
      "Epoch 77/100\n",
      "64/64 [==============================] - 0s 2ms/step - loss: 0.2720 - accuracy: 0.8943 - val_loss: 0.2333 - val_accuracy: 0.9041\n",
      "Epoch 78/100\n",
      "64/64 [==============================] - 0s 2ms/step - loss: 0.2713 - accuracy: 0.8963 - val_loss: 0.2323 - val_accuracy: 0.9087\n",
      "Epoch 79/100\n",
      "64/64 [==============================] - 0s 2ms/step - loss: 0.2705 - accuracy: 0.8963 - val_loss: 0.2336 - val_accuracy: 0.8995\n",
      "Epoch 80/100\n",
      "64/64 [==============================] - 0s 2ms/step - loss: 0.2705 - accuracy: 0.8953 - val_loss: 0.2315 - val_accuracy: 0.9087\n",
      "Epoch 81/100\n",
      "64/64 [==============================] - 0s 2ms/step - loss: 0.2695 - accuracy: 0.8982 - val_loss: 0.2309 - val_accuracy: 0.9087\n",
      "Epoch 82/100\n",
      "64/64 [==============================] - 0s 2ms/step - loss: 0.2688 - accuracy: 0.8943 - val_loss: 0.2298 - val_accuracy: 0.9087\n",
      "Epoch 83/100\n",
      "64/64 [==============================] - 0s 2ms/step - loss: 0.2679 - accuracy: 0.8973 - val_loss: 0.2295 - val_accuracy: 0.9087\n",
      "Epoch 84/100\n",
      "64/64 [==============================] - 0s 2ms/step - loss: 0.2676 - accuracy: 0.8963 - val_loss: 0.2290 - val_accuracy: 0.9087\n",
      "Epoch 85/100\n",
      "64/64 [==============================] - 0s 2ms/step - loss: 0.2665 - accuracy: 0.8973 - val_loss: 0.2282 - val_accuracy: 0.9087\n",
      "Epoch 86/100\n",
      "64/64 [==============================] - 0s 2ms/step - loss: 0.2664 - accuracy: 0.9002 - val_loss: 0.2283 - val_accuracy: 0.9087\n",
      "Epoch 87/100\n",
      "64/64 [==============================] - 0s 2ms/step - loss: 0.2655 - accuracy: 0.9002 - val_loss: 0.2270 - val_accuracy: 0.9087\n",
      "Epoch 88/100\n",
      "64/64 [==============================] - 0s 2ms/step - loss: 0.2650 - accuracy: 0.8973 - val_loss: 0.2263 - val_accuracy: 0.9087\n",
      "Epoch 89/100\n",
      "64/64 [==============================] - 0s 2ms/step - loss: 0.2646 - accuracy: 0.8963 - val_loss: 0.2260 - val_accuracy: 0.9132\n",
      "Epoch 90/100\n",
      "64/64 [==============================] - 0s 2ms/step - loss: 0.2637 - accuracy: 0.8963 - val_loss: 0.2256 - val_accuracy: 0.9087\n",
      "Epoch 91/100\n",
      "64/64 [==============================] - 0s 2ms/step - loss: 0.2632 - accuracy: 0.9002 - val_loss: 0.2258 - val_accuracy: 0.9041\n",
      "Epoch 92/100\n",
      "64/64 [==============================] - 0s 2ms/step - loss: 0.2627 - accuracy: 0.8953 - val_loss: 0.2246 - val_accuracy: 0.9087\n",
      "Epoch 93/100\n",
      "64/64 [==============================] - 0s 2ms/step - loss: 0.2623 - accuracy: 0.8943 - val_loss: 0.2256 - val_accuracy: 0.9087\n",
      "Epoch 94/100\n",
      "64/64 [==============================] - 0s 2ms/step - loss: 0.2613 - accuracy: 0.8973 - val_loss: 0.2237 - val_accuracy: 0.9132\n",
      "Epoch 95/100\n",
      "64/64 [==============================] - 0s 2ms/step - loss: 0.2622 - accuracy: 0.9002 - val_loss: 0.2235 - val_accuracy: 0.9087\n",
      "Epoch 96/100\n",
      "64/64 [==============================] - 0s 2ms/step - loss: 0.2601 - accuracy: 0.9022 - val_loss: 0.2229 - val_accuracy: 0.9041\n",
      "Epoch 97/100\n",
      "64/64 [==============================] - 0s 2ms/step - loss: 0.2609 - accuracy: 0.8963 - val_loss: 0.2225 - val_accuracy: 0.9132\n",
      "Epoch 98/100\n",
      "64/64 [==============================] - 0s 2ms/step - loss: 0.2596 - accuracy: 0.8992 - val_loss: 0.2234 - val_accuracy: 0.9087\n",
      "Epoch 99/100\n",
      "64/64 [==============================] - 0s 2ms/step - loss: 0.2594 - accuracy: 0.8963 - val_loss: 0.2219 - val_accuracy: 0.9041\n",
      "Epoch 100/100\n",
      "64/64 [==============================] - 0s 2ms/step - loss: 0.2593 - accuracy: 0.8992 - val_loss: 0.2217 - val_accuracy: 0.9087\n"
     ]
    }
   ],
   "source": [
    "result = model.fit(X_train, Y_train,\n",
    "          batch_size=16, epochs=100, # these parameters can significantly change your accuracy.\n",
    "          validation_data=(X_val, Y_val))\n",
    "\n"
   ]
  },
  {
   "cell_type": "code",
   "execution_count": null,
   "metadata": {},
   "outputs": [],
   "source": []
  },
  {
   "cell_type": "raw",
   "metadata": {},
   "source": [
    "The function is called ‘fit’ as we are fitting the parameters to the data.\n",
    "We have to specify what data we are training on, which is X_train and Y_train.\n",
    "Then, we specify the size of our mini-batch and how long we want to train it for (epochs)."
   ]
  },
  {
   "cell_type": "code",
   "execution_count": null,
   "metadata": {},
   "outputs": [],
   "source": []
  },
  {
   "cell_type": "markdown",
   "metadata": {},
   "source": [
    "# Visualization"
   ]
  },
  {
   "cell_type": "code",
   "execution_count": 21,
   "metadata": {},
   "outputs": [],
   "source": [
    "import matplotlib.pyplot as plt"
   ]
  },
  {
   "cell_type": "code",
   "execution_count": 22,
   "metadata": {},
   "outputs": [
    {
     "data": {
      "image/png": "[encoded data removed]",
      "text/plain": [
       "<Figure size 432x288 with 1 Axes>"
      ]
     },
     "metadata": {
      "needs_background": "light"
     },
     "output_type": "display_data"
    }
   ],
   "source": [
    "plt.plot(result.history['loss'])\n",
    "plt.plot(result.history['val_loss'])\n",
    "plt.title('Model loss')\n",
    "plt.ylabel('Loss')\n",
    "plt.xlabel('Epoch')\n",
    "plt.legend(['Train', 'Val'], loc='upper right')\n",
    "plt.show()"
   ]
  },
  {
   "cell_type": "raw",
   "metadata": {},
   "source": [
    "- The first two lines says that we want to plot the loss and the val_loss. The third line specifies the title of this graph, “Model Loss”. The fourth and fifth line tells us what the y and x axis should be labelled respectively. The sixth line includes a legend for our graph, and the location of the legend will be in the upper right. And the seventh line tells Jupyter notebook to display the graph."
   ]
  },
  {
   "cell_type": "code",
   "execution_count": 23,
   "metadata": {},
   "outputs": [
    {
     "data": {
      "image/png": "[encoded data removed]",
      "text/plain": [
       "<Figure size 432x288 with 1 Axes>"
      ]
     },
     "metadata": {
      "needs_background": "light"
     },
     "output_type": "display_data"
    }
   ],
   "source": [
    "plt.plot(result.history['accuracy'])\n",
    "plt.plot(result.history['val_accuracy'])\n",
    "plt.title('Model accuracy')\n",
    "plt.ylabel('Accuracy')\n",
    "plt.xlabel('Epoch')\n",
    "plt.legend(['Train', 'Val'], loc='lower right')\n",
    "plt.show()"
   ]
  },
  {
   "cell_type": "markdown",
   "metadata": {},
   "source": [
    "## CHAPTER 2 ADDING REGULARIZATION AND DEALING WITH OVERFITTING"
   ]
  },
  {
   "cell_type": "code",
   "execution_count": 25,
   "metadata": {},
   "outputs": [
    {
     "name": "stdout",
     "output_type": "stream",
     "text": [
      "Epoch 1/100\n",
      "64/64 [==============================] - 1s 4ms/step - loss: 0.6542 - accuracy: 0.7387 - val_loss: 0.5748 - val_accuracy: 0.8174\n",
      "Epoch 2/100\n",
      "64/64 [==============================] - 0s 3ms/step - loss: 0.4826 - accuracy: 0.8513 - val_loss: 0.3511 - val_accuracy: 0.8539\n",
      "Epoch 3/100\n",
      "64/64 [==============================] - 0s 2ms/step - loss: 0.3615 - accuracy: 0.8601 - val_loss: 0.2980 - val_accuracy: 0.8676\n",
      "Epoch 4/100\n",
      "64/64 [==============================] - 0s 3ms/step - loss: 0.3374 - accuracy: 0.8630 - val_loss: 0.2835 - val_accuracy: 0.8721\n",
      "Epoch 5/100\n",
      "64/64 [==============================] - 0s 2ms/step - loss: 0.3219 - accuracy: 0.8708 - val_loss: 0.2711 - val_accuracy: 0.8858\n",
      "Epoch 6/100\n",
      "64/64 [==============================] - 0s 3ms/step - loss: 0.3118 - accuracy: 0.8796 - val_loss: 0.2635 - val_accuracy: 0.8813\n",
      "Epoch 7/100\n",
      "64/64 [==============================] - 0s 2ms/step - loss: 0.3061 - accuracy: 0.8748 - val_loss: 0.2589 - val_accuracy: 0.8813\n",
      "Epoch 8/100\n",
      "64/64 [==============================] - 0s 2ms/step - loss: 0.2951 - accuracy: 0.8777 - val_loss: 0.2536 - val_accuracy: 0.8858\n",
      "Epoch 9/100\n",
      "64/64 [==============================] - 0s 2ms/step - loss: 0.2829 - accuracy: 0.8894 - val_loss: 0.2683 - val_accuracy: 0.8676\n",
      "Epoch 10/100\n",
      "64/64 [==============================] - 0s 2ms/step - loss: 0.2859 - accuracy: 0.8885 - val_loss: 0.2418 - val_accuracy: 0.8950\n",
      "Epoch 11/100\n",
      "64/64 [==============================] - 0s 2ms/step - loss: 0.2777 - accuracy: 0.8943 - val_loss: 0.2363 - val_accuracy: 0.9041\n",
      "Epoch 12/100\n",
      "64/64 [==============================] - 0s 3ms/step - loss: 0.2677 - accuracy: 0.8885 - val_loss: 0.2339 - val_accuracy: 0.8904\n",
      "Epoch 13/100\n",
      "64/64 [==============================] - 0s 2ms/step - loss: 0.2610 - accuracy: 0.8904 - val_loss: 0.2336 - val_accuracy: 0.8950\n",
      "Epoch 14/100\n",
      "64/64 [==============================] - 0s 3ms/step - loss: 0.2618 - accuracy: 0.8914 - val_loss: 0.2259 - val_accuracy: 0.9041\n",
      "Epoch 15/100\n",
      "64/64 [==============================] - 0s 3ms/step - loss: 0.2517 - accuracy: 0.8982 - val_loss: 0.2231 - val_accuracy: 0.9041\n",
      "Epoch 16/100\n",
      "64/64 [==============================] - 0s 3ms/step - loss: 0.2530 - accuracy: 0.8992 - val_loss: 0.2194 - val_accuracy: 0.8995\n",
      "Epoch 17/100\n",
      "64/64 [==============================] - 0s 2ms/step - loss: 0.2558 - accuracy: 0.9002 - val_loss: 0.2435 - val_accuracy: 0.9087\n",
      "Epoch 18/100\n",
      "64/64 [==============================] - 0s 2ms/step - loss: 0.2447 - accuracy: 0.8992 - val_loss: 0.2203 - val_accuracy: 0.9087\n",
      "Epoch 19/100\n",
      "64/64 [==============================] - 0s 2ms/step - loss: 0.2418 - accuracy: 0.9022 - val_loss: 0.2167 - val_accuracy: 0.9087\n",
      "Epoch 20/100\n",
      "64/64 [==============================] - 0s 2ms/step - loss: 0.2423 - accuracy: 0.9041 - val_loss: 0.2361 - val_accuracy: 0.8721\n",
      "Epoch 21/100\n",
      "64/64 [==============================] - 0s 2ms/step - loss: 0.2374 - accuracy: 0.8914 - val_loss: 0.2118 - val_accuracy: 0.9087\n",
      "Epoch 22/100\n",
      "64/64 [==============================] - 0s 2ms/step - loss: 0.2534 - accuracy: 0.8963 - val_loss: 0.2100 - val_accuracy: 0.9178\n",
      "Epoch 23/100\n",
      "64/64 [==============================] - 0s 2ms/step - loss: 0.2383 - accuracy: 0.9031 - val_loss: 0.2098 - val_accuracy: 0.9132\n",
      "Epoch 24/100\n",
      "64/64 [==============================] - 0s 3ms/step - loss: 0.2303 - accuracy: 0.9051 - val_loss: 0.2045 - val_accuracy: 0.9132\n",
      "Epoch 25/100\n",
      "64/64 [==============================] - 0s 2ms/step - loss: 0.2312 - accuracy: 0.8973 - val_loss: 0.2057 - val_accuracy: 0.9132\n",
      "Epoch 26/100\n",
      "64/64 [==============================] - 0s 2ms/step - loss: 0.2207 - accuracy: 0.9061 - val_loss: 0.2309 - val_accuracy: 0.9041\n",
      "Epoch 27/100\n",
      "64/64 [==============================] - 0s 2ms/step - loss: 0.2292 - accuracy: 0.9031 - val_loss: 0.2020 - val_accuracy: 0.9041\n",
      "Epoch 28/100\n",
      "64/64 [==============================] - 0s 2ms/step - loss: 0.2177 - accuracy: 0.9061 - val_loss: 0.2202 - val_accuracy: 0.9087\n",
      "Epoch 29/100\n",
      "64/64 [==============================] - 0s 2ms/step - loss: 0.2205 - accuracy: 0.9070 - val_loss: 0.2120 - val_accuracy: 0.9087\n",
      "Epoch 30/100\n",
      "64/64 [==============================] - 0s 2ms/step - loss: 0.2194 - accuracy: 0.9022 - val_loss: 0.2213 - val_accuracy: 0.9132\n",
      "Epoch 31/100\n",
      "64/64 [==============================] - 0s 3ms/step - loss: 0.2224 - accuracy: 0.9022 - val_loss: 0.1998 - val_accuracy: 0.9132\n",
      "Epoch 32/100\n",
      "64/64 [==============================] - 0s 4ms/step - loss: 0.2141 - accuracy: 0.9129 - val_loss: 0.2059 - val_accuracy: 0.9132\n",
      "Epoch 33/100\n",
      "64/64 [==============================] - 0s 3ms/step - loss: 0.2226 - accuracy: 0.9031 - val_loss: 0.2156 - val_accuracy: 0.8995\n",
      "Epoch 34/100\n",
      "64/64 [==============================] - 0s 2ms/step - loss: 0.2161 - accuracy: 0.9129 - val_loss: 0.1998 - val_accuracy: 0.9087\n",
      "Epoch 35/100\n",
      "64/64 [==============================] - 0s 2ms/step - loss: 0.2092 - accuracy: 0.9168 - val_loss: 0.1988 - val_accuracy: 0.9132\n",
      "Epoch 36/100\n",
      "64/64 [==============================] - 0s 2ms/step - loss: 0.2119 - accuracy: 0.9129 - val_loss: 0.2322 - val_accuracy: 0.8950\n",
      "Epoch 37/100\n",
      "64/64 [==============================] - 0s 2ms/step - loss: 0.2277 - accuracy: 0.9051 - val_loss: 0.2284 - val_accuracy: 0.8950\n",
      "Epoch 38/100\n",
      "64/64 [==============================] - 0s 2ms/step - loss: 0.2092 - accuracy: 0.9159 - val_loss: 0.2233 - val_accuracy: 0.8995\n",
      "Epoch 39/100\n",
      "64/64 [==============================] - 0s 3ms/step - loss: 0.2156 - accuracy: 0.9051 - val_loss: 0.1968 - val_accuracy: 0.9087\n",
      "Epoch 40/100\n",
      "64/64 [==============================] - 0s 2ms/step - loss: 0.2065 - accuracy: 0.9168 - val_loss: 0.1980 - val_accuracy: 0.9132\n",
      "Epoch 41/100\n",
      "64/64 [==============================] - 0s 2ms/step - loss: 0.2011 - accuracy: 0.9129 - val_loss: 0.2107 - val_accuracy: 0.8904\n",
      "Epoch 42/100\n",
      "64/64 [==============================] - 0s 2ms/step - loss: 0.2052 - accuracy: 0.9100 - val_loss: 0.2049 - val_accuracy: 0.8904\n",
      "Epoch 43/100\n",
      "64/64 [==============================] - 0s 2ms/step - loss: 0.2043 - accuracy: 0.9100 - val_loss: 0.1967 - val_accuracy: 0.9224\n",
      "Epoch 44/100\n",
      "64/64 [==============================] - 0s 2ms/step - loss: 0.2039 - accuracy: 0.9188 - val_loss: 0.1959 - val_accuracy: 0.9132\n",
      "Epoch 45/100\n",
      "64/64 [==============================] - 0s 2ms/step - loss: 0.1995 - accuracy: 0.9217 - val_loss: 0.2120 - val_accuracy: 0.9087\n",
      "Epoch 46/100\n",
      "64/64 [==============================] - 0s 2ms/step - loss: 0.2061 - accuracy: 0.9139 - val_loss: 0.1953 - val_accuracy: 0.9132\n",
      "Epoch 47/100\n",
      "64/64 [==============================] - 0s 2ms/step - loss: 0.1979 - accuracy: 0.9168 - val_loss: 0.1959 - val_accuracy: 0.9087\n",
      "Epoch 48/100\n",
      "64/64 [==============================] - 0s 3ms/step - loss: 0.2074 - accuracy: 0.9031 - val_loss: 0.1978 - val_accuracy: 0.9087\n",
      "Epoch 49/100\n",
      "64/64 [==============================] - 0s 2ms/step - loss: 0.2062 - accuracy: 0.9198 - val_loss: 0.2051 - val_accuracy: 0.9041\n",
      "Epoch 50/100\n",
      "64/64 [==============================] - 0s 2ms/step - loss: 0.2005 - accuracy: 0.9178 - val_loss: 0.1999 - val_accuracy: 0.9041\n",
      "Epoch 51/100\n",
      "64/64 [==============================] - 0s 2ms/step - loss: 0.1983 - accuracy: 0.9129 - val_loss: 0.2192 - val_accuracy: 0.8858\n",
      "Epoch 52/100\n",
      "64/64 [==============================] - 0s 2ms/step - loss: 0.2034 - accuracy: 0.9149 - val_loss: 0.1996 - val_accuracy: 0.9132\n",
      "Epoch 53/100\n",
      "64/64 [==============================] - 0s 2ms/step - loss: 0.1908 - accuracy: 0.9217 - val_loss: 0.2103 - val_accuracy: 0.9132\n",
      "Epoch 54/100\n",
      "64/64 [==============================] - 0s 2ms/step - loss: 0.1957 - accuracy: 0.9198 - val_loss: 0.2006 - val_accuracy: 0.8995\n",
      "Epoch 55/100\n",
      "64/64 [==============================] - 0s 2ms/step - loss: 0.1973 - accuracy: 0.9247 - val_loss: 0.1984 - val_accuracy: 0.8995\n",
      "Epoch 56/100\n",
      "64/64 [==============================] - 0s 2ms/step - loss: 0.2007 - accuracy: 0.9129 - val_loss: 0.2166 - val_accuracy: 0.8995\n",
      "Epoch 57/100\n",
      "64/64 [==============================] - 0s 2ms/step - loss: 0.1969 - accuracy: 0.9198 - val_loss: 0.1987 - val_accuracy: 0.9041\n",
      "Epoch 58/100\n",
      "64/64 [==============================] - 0s 2ms/step - loss: 0.2161 - accuracy: 0.9110 - val_loss: 0.1997 - val_accuracy: 0.9132\n"
     ]
    },
    {
     "name": "stdout",
     "output_type": "stream",
     "text": [
      "Epoch 59/100\n",
      "64/64 [==============================] - 0s 2ms/step - loss: 0.1937 - accuracy: 0.9217 - val_loss: 0.2011 - val_accuracy: 0.9087\n",
      "Epoch 60/100\n",
      "64/64 [==============================] - 0s 2ms/step - loss: 0.2033 - accuracy: 0.9139 - val_loss: 0.2395 - val_accuracy: 0.8995\n",
      "Epoch 61/100\n",
      "64/64 [==============================] - 0s 2ms/step - loss: 0.1834 - accuracy: 0.9227 - val_loss: 0.2121 - val_accuracy: 0.9087\n",
      "Epoch 62/100\n",
      "64/64 [==============================] - 0s 2ms/step - loss: 0.1894 - accuracy: 0.9178 - val_loss: 0.2048 - val_accuracy: 0.9041\n",
      "Epoch 63/100\n",
      "64/64 [==============================] - 0s 2ms/step - loss: 0.1964 - accuracy: 0.9061 - val_loss: 0.2050 - val_accuracy: 0.9041\n",
      "Epoch 64/100\n",
      "64/64 [==============================] - 0s 2ms/step - loss: 0.1931 - accuracy: 0.9217 - val_loss: 0.2101 - val_accuracy: 0.8950\n",
      "Epoch 65/100\n",
      "64/64 [==============================] - 0s 2ms/step - loss: 0.1913 - accuracy: 0.9159 - val_loss: 0.1993 - val_accuracy: 0.9041\n",
      "Epoch 66/100\n",
      "64/64 [==============================] - 0s 2ms/step - loss: 0.1960 - accuracy: 0.9149 - val_loss: 0.2002 - val_accuracy: 0.9087\n",
      "Epoch 67/100\n",
      "64/64 [==============================] - 0s 2ms/step - loss: 0.1921 - accuracy: 0.9188 - val_loss: 0.2073 - val_accuracy: 0.9087\n",
      "Epoch 68/100\n",
      "64/64 [==============================] - 0s 2ms/step - loss: 0.1853 - accuracy: 0.9207 - val_loss: 0.1993 - val_accuracy: 0.9041\n",
      "Epoch 69/100\n",
      "64/64 [==============================] - 0s 2ms/step - loss: 0.1873 - accuracy: 0.9188 - val_loss: 0.1981 - val_accuracy: 0.9087\n",
      "Epoch 70/100\n",
      "64/64 [==============================] - 0s 2ms/step - loss: 0.1876 - accuracy: 0.9286 - val_loss: 0.1998 - val_accuracy: 0.9087\n",
      "Epoch 71/100\n",
      "64/64 [==============================] - 0s 2ms/step - loss: 0.1847 - accuracy: 0.9188 - val_loss: 0.2060 - val_accuracy: 0.8950\n",
      "Epoch 72/100\n",
      "64/64 [==============================] - 0s 2ms/step - loss: 0.1860 - accuracy: 0.9256 - val_loss: 0.2010 - val_accuracy: 0.9041\n",
      "Epoch 73/100\n",
      "64/64 [==============================] - 0s 2ms/step - loss: 0.1898 - accuracy: 0.9237 - val_loss: 0.2152 - val_accuracy: 0.8995\n",
      "Epoch 74/100\n",
      "64/64 [==============================] - 0s 3ms/step - loss: 0.1831 - accuracy: 0.9286 - val_loss: 0.2037 - val_accuracy: 0.9087\n",
      "Epoch 75/100\n",
      "64/64 [==============================] - 0s 3ms/step - loss: 0.2006 - accuracy: 0.9159 - val_loss: 0.3060 - val_accuracy: 0.8767\n",
      "Epoch 76/100\n",
      "64/64 [==============================] - 0s 2ms/step - loss: 0.1846 - accuracy: 0.9286 - val_loss: 0.2049 - val_accuracy: 0.8995\n",
      "Epoch 77/100\n",
      "64/64 [==============================] - 0s 2ms/step - loss: 0.1913 - accuracy: 0.9247 - val_loss: 0.2220 - val_accuracy: 0.9132\n",
      "Epoch 78/100\n",
      "64/64 [==============================] - 0s 2ms/step - loss: 0.1810 - accuracy: 0.9217 - val_loss: 0.2024 - val_accuracy: 0.9132\n",
      "Epoch 79/100\n",
      "64/64 [==============================] - 0s 2ms/step - loss: 0.1826 - accuracy: 0.9276 - val_loss: 0.2059 - val_accuracy: 0.9041\n",
      "Epoch 80/100\n",
      "64/64 [==============================] - 0s 2ms/step - loss: 0.1822 - accuracy: 0.9217 - val_loss: 0.2092 - val_accuracy: 0.9087\n",
      "Epoch 81/100\n",
      "64/64 [==============================] - 0s 2ms/step - loss: 0.1788 - accuracy: 0.9286 - val_loss: 0.2135 - val_accuracy: 0.9087\n",
      "Epoch 82/100\n",
      "64/64 [==============================] - 0s 2ms/step - loss: 0.1804 - accuracy: 0.9247 - val_loss: 0.2011 - val_accuracy: 0.9087\n",
      "Epoch 83/100\n",
      "64/64 [==============================] - 0s 2ms/step - loss: 0.1826 - accuracy: 0.9217 - val_loss: 0.2375 - val_accuracy: 0.9087\n",
      "Epoch 84/100\n",
      "64/64 [==============================] - 0s 2ms/step - loss: 0.1878 - accuracy: 0.9247 - val_loss: 0.2036 - val_accuracy: 0.8995\n",
      "Epoch 85/100\n",
      "64/64 [==============================] - 0s 2ms/step - loss: 0.1835 - accuracy: 0.9188 - val_loss: 0.2138 - val_accuracy: 0.9087\n",
      "Epoch 86/100\n",
      "64/64 [==============================] - 0s 2ms/step - loss: 0.1816 - accuracy: 0.9315 - val_loss: 0.2118 - val_accuracy: 0.9041\n",
      "Epoch 87/100\n",
      "64/64 [==============================] - 0s 3ms/step - loss: 0.1754 - accuracy: 0.9276 - val_loss: 0.2246 - val_accuracy: 0.8995\n",
      "Epoch 88/100\n",
      "64/64 [==============================] - 0s 2ms/step - loss: 0.1889 - accuracy: 0.9217 - val_loss: 0.2181 - val_accuracy: 0.8904\n",
      "Epoch 89/100\n",
      "64/64 [==============================] - 0s 2ms/step - loss: 0.1855 - accuracy: 0.9247 - val_loss: 0.2061 - val_accuracy: 0.9087\n",
      "Epoch 90/100\n",
      "64/64 [==============================] - 0s 3ms/step - loss: 0.1786 - accuracy: 0.9266 - val_loss: 0.2095 - val_accuracy: 0.9132\n",
      "Epoch 91/100\n",
      "64/64 [==============================] - 0s 3ms/step - loss: 0.1770 - accuracy: 0.9247 - val_loss: 0.1993 - val_accuracy: 0.9178\n",
      "Epoch 92/100\n",
      "64/64 [==============================] - 0s 2ms/step - loss: 0.1759 - accuracy: 0.9295 - val_loss: 0.2036 - val_accuracy: 0.9132\n",
      "Epoch 93/100\n",
      "64/64 [==============================] - 0s 2ms/step - loss: 0.1740 - accuracy: 0.9364 - val_loss: 0.2303 - val_accuracy: 0.9041\n",
      "Epoch 94/100\n",
      "64/64 [==============================] - 0s 2ms/step - loss: 0.1856 - accuracy: 0.9247 - val_loss: 0.2038 - val_accuracy: 0.8995\n",
      "Epoch 95/100\n",
      "64/64 [==============================] - 0s 2ms/step - loss: 0.1736 - accuracy: 0.9286 - val_loss: 0.2152 - val_accuracy: 0.9087\n",
      "Epoch 96/100\n",
      "64/64 [==============================] - 0s 2ms/step - loss: 0.1986 - accuracy: 0.9139 - val_loss: 0.2191 - val_accuracy: 0.8995\n",
      "Epoch 97/100\n",
      "64/64 [==============================] - 0s 2ms/step - loss: 0.1867 - accuracy: 0.9237 - val_loss: 0.2091 - val_accuracy: 0.9087\n",
      "Epoch 98/100\n",
      "64/64 [==============================] - 0s 2ms/step - loss: 0.1759 - accuracy: 0.9295 - val_loss: 0.2126 - val_accuracy: 0.8995\n",
      "Epoch 99/100\n",
      "64/64 [==============================] - 0s 2ms/step - loss: 0.1736 - accuracy: 0.9295 - val_loss: 0.2080 - val_accuracy: 0.8995\n",
      "Epoch 100/100\n",
      "64/64 [==============================] - 0s 2ms/step - loss: 0.1747 - accuracy: 0.9266 - val_loss: 0.2227 - val_accuracy: 0.8950\n"
     ]
    }
   ],
   "source": [
    "model_2 = Sequential([\n",
    "    Dense(32, activation='relu', input_shape=(10,)),\n",
    "    Dense(32, activation='relu'),\n",
    "    Dense(32, activation='relu'),\n",
    "   \n",
    "    Dense(1, activation='sigmoid'),\n",
    "])\n",
    "model_2.compile(optimizer='adam',\n",
    "              loss='binary_crossentropy',\n",
    "              metrics=['accuracy'])\n",
    "hist_2 = model_2.fit(X_train, Y_train,\n",
    "          batch_size=16, epochs=100,\n",
    "          validation_data=(X_val, Y_val))"
   ]
  },
  {
   "cell_type": "raw",
   "metadata": {},
   "source": [
    "Here, we have made a much larger model and we’ve use the Adam optimizer. Adam is one of the most common optimizers we use, which adds some tweaks to stochastic gradient descent such that it reaches the lower loss function faster. If we run this code and plot the loss graphs for hist_2 using the code below (note that the code is the same except that we use result2 instead of result):"
   ]
  },
  {
   "cell_type": "code",
   "execution_count": 26,
   "metadata": {},
   "outputs": [
    {
     "data": {
      "image/png": "[encoded data removed]",
      "text/plain": [
       "<Figure size 432x288 with 1 Axes>"
      ]
     },
     "metadata": {
      "needs_background": "light"
     },
     "output_type": "display_data"
    }
   ],
   "source": [
    "plt.plot(hist_2.history['loss'])\n",
    "plt.plot(hist_2.history['val_loss'])\n",
    "plt.title('Model loss')\n",
    "plt.ylabel('Loss')\n",
    "plt.xlabel('Epoch')\n",
    "plt.legend(['Train', 'Val'], loc='upper right')\n",
    "plt.show()"
   ]
  },
  {
   "cell_type": "code",
   "execution_count": 27,
   "metadata": {},
   "outputs": [
    {
     "data": {
      "image/png": "[encoded data removed]",
      "text/plain": [
       "<Figure size 432x288 with 1 Axes>"
      ]
     },
     "metadata": {
      "needs_background": "light"
     },
     "output_type": "display_data"
    }
   ],
   "source": [
    "plt.plot(hist_2.history['accuracy'])\n",
    "plt.plot(hist_2.history['val_accuracy'])\n",
    "plt.title('Model accuracy')\n",
    "plt.ylabel('Accuracy')\n",
    "plt.xlabel('Epoch')\n",
    "plt.legend(['Train', 'Val'], loc='lower right')\n",
    "plt.show()"
   ]
  },
  {
   "cell_type": "markdown",
   "metadata": {},
   "source": [
    " L2 regularization and dropout: why?\n",
    " This is a clear sign of over-fitting. The training loss is decreasing, but the validation loss is way above the training loss and increasing. high variance means you might be having overfitting scenario."
   ]
  },
  {
   "cell_type": "code",
   "execution_count": 55,
   "metadata": {},
   "outputs": [],
   "source": [
    "from keras.layers import Dropout\n",
    "from keras import regularizers"
   ]
  },
  {
   "cell_type": "code",
   "execution_count": 56,
   "metadata": {},
   "outputs": [],
   "source": [
    "model_3 = Sequential([\n",
    "    Dense(32, activation='relu', kernel_regularizer=regularizers.l2(0.005), input_shape=(10,)), # lambda sign\n",
    "    Dropout(0.3),\n",
    "    Dense(32, activation='relu', kernel_regularizer=regularizers.l2(0.005)),\n",
    "    Dropout(0.3),\n",
    "    Dense(32, activation='relu', kernel_regularizer=regularizers.l2(0.005)),\n",
    "    Dropout(0.3),\n",
    "    \n",
    "    Dense(32, activation='relu', kernel_regularizer=regularizers.l2(0.005)),\n",
    "    Dropout(0.3),\n",
    "    Dense(1, activation='sigmoid', kernel_regularizer=regularizers.l2(0.005)),\n",
    "])"
   ]
  },
  {
   "cell_type": "raw",
   "metadata": {},
   "source": [
    "model_3 = Sequential([\n",
    "    Dense(32, activation='relu', input_shape=(10,)),\n",
    "    Dense(32, activation='relu'),\n",
    "    Dense(32, activation='relu'),\n",
    "    Dense(32, activation='relu'),\n",
    "    Dense(1, activation='sigmoid'),  # 5 to 1000\n",
    "])    #(number of features +2) / 2"
   ]
  },
  {
   "cell_type": "raw",
   "metadata": {},
   "source": [
    "model_3 = Sequential([\n",
    "    Dense(10, activation='relu', kernel_regularizer=regularizers.l2(0.1), input_shape=(10,)), \n",
    "    \n",
    "    Dense(32, activation='relu', kernel_regularizer=regularizers.l2(0.1)),\n",
    "    #Dropout(0.1),\n",
    "    Dense(1, activation='sigmoid', kernel_regularizer=regularizers.l2(0.1)),\n",
    "])"
   ]
  },
  {
   "cell_type": "raw",
   "metadata": {},
   "source": [
    "differences between Model 3 and Model 2\n",
    "kernel_regularizer=regularizers.l2(0.01)\n",
    "This tells Keras to include the squared values of those parameters in our overall loss function, and weight them by 0.01 in the loss function.\n",
    "\n",
    "To add Dropout, we added a new layer like this:\n",
    "Dropout(0.3),\n",
    "This means that the neurons in the previous layer has a probability of 30% in dropping out during training. Let’s compile it and run it with the same parameters as our Model 2 (the overfitting one):\n",
    "\n",
    "\n"
   ]
  },
  {
   "cell_type": "code",
   "execution_count": 57,
   "metadata": {},
   "outputs": [
    {
     "name": "stdout",
     "output_type": "stream",
     "text": [
      "Epoch 1/200\n",
      "64/64 [==============================] - 1s 6ms/step - loss: 1.1683 - accuracy: 0.4687 - val_loss: 1.0591 - val_accuracy: 0.6712\n",
      "Epoch 2/200\n",
      "64/64 [==============================] - 0s 3ms/step - loss: 0.9965 - accuracy: 0.5646 - val_loss: 0.9154 - val_accuracy: 0.7945\n",
      "Epoch 3/200\n",
      "64/64 [==============================] - 0s 2ms/step - loss: 0.8695 - accuracy: 0.6663 - val_loss: 0.7693 - val_accuracy: 0.8174\n",
      "Epoch 4/200\n",
      "64/64 [==============================] - 0s 3ms/step - loss: 0.7357 - accuracy: 0.7681 - val_loss: 0.5811 - val_accuracy: 0.8676\n",
      "Epoch 5/200\n",
      "64/64 [==============================] - 0s 3ms/step - loss: 0.6105 - accuracy: 0.8092 - val_loss: 0.4963 - val_accuracy: 0.8721\n",
      "Epoch 6/200\n",
      "64/64 [==============================] - 0s 3ms/step - loss: 0.5895 - accuracy: 0.8229 - val_loss: 0.4631 - val_accuracy: 0.8767\n",
      "Epoch 7/200\n",
      "64/64 [==============================] - 0s 3ms/step - loss: 0.5313 - accuracy: 0.8513 - val_loss: 0.4470 - val_accuracy: 0.8904\n",
      "Epoch 8/200\n",
      "64/64 [==============================] - 0s 2ms/step - loss: 0.5124 - accuracy: 0.8611 - val_loss: 0.4258 - val_accuracy: 0.8813\n",
      "Epoch 9/200\n",
      "64/64 [==============================] - 0s 2ms/step - loss: 0.4769 - accuracy: 0.8640 - val_loss: 0.4115 - val_accuracy: 0.8995\n",
      "Epoch 10/200\n",
      "64/64 [==============================] - 0s 2ms/step - loss: 0.4761 - accuracy: 0.8620 - val_loss: 0.4179 - val_accuracy: 0.8539\n",
      "Epoch 11/200\n",
      "64/64 [==============================] - 0s 3ms/step - loss: 0.4814 - accuracy: 0.8650 - val_loss: 0.4012 - val_accuracy: 0.8813\n",
      "Epoch 12/200\n",
      "64/64 [==============================] - 0s 3ms/step - loss: 0.4674 - accuracy: 0.8767 - val_loss: 0.3890 - val_accuracy: 0.8950\n",
      "Epoch 13/200\n",
      "64/64 [==============================] - 0s 2ms/step - loss: 0.4580 - accuracy: 0.8611 - val_loss: 0.3848 - val_accuracy: 0.8950\n",
      "Epoch 14/200\n",
      "64/64 [==============================] - 0s 3ms/step - loss: 0.4538 - accuracy: 0.8659 - val_loss: 0.3766 - val_accuracy: 0.8950\n",
      "Epoch 15/200\n",
      "64/64 [==============================] - 0s 2ms/step - loss: 0.4534 - accuracy: 0.8669 - val_loss: 0.3742 - val_accuracy: 0.9087\n",
      "Epoch 16/200\n",
      "64/64 [==============================] - 0s 2ms/step - loss: 0.4449 - accuracy: 0.8796 - val_loss: 0.3723 - val_accuracy: 0.8995\n",
      "Epoch 17/200\n",
      "64/64 [==============================] - 0s 3ms/step - loss: 0.4504 - accuracy: 0.8581 - val_loss: 0.3995 - val_accuracy: 0.8767\n",
      "Epoch 18/200\n",
      "64/64 [==============================] - 0s 3ms/step - loss: 0.4219 - accuracy: 0.8845 - val_loss: 0.3852 - val_accuracy: 0.8813\n",
      "Epoch 19/200\n",
      "64/64 [==============================] - 0s 3ms/step - loss: 0.4202 - accuracy: 0.8826 - val_loss: 0.3636 - val_accuracy: 0.9041\n",
      "Epoch 20/200\n",
      "64/64 [==============================] - 0s 3ms/step - loss: 0.4190 - accuracy: 0.8816 - val_loss: 0.3733 - val_accuracy: 0.8904\n",
      "Epoch 21/200\n",
      "64/64 [==============================] - 0s 2ms/step - loss: 0.4269 - accuracy: 0.8787 - val_loss: 0.3861 - val_accuracy: 0.8813\n",
      "Epoch 22/200\n",
      "64/64 [==============================] - 0s 2ms/step - loss: 0.4286 - accuracy: 0.8836 - val_loss: 0.3705 - val_accuracy: 0.8813\n",
      "Epoch 23/200\n",
      "64/64 [==============================] - 0s 2ms/step - loss: 0.3985 - accuracy: 0.8875 - val_loss: 0.3538 - val_accuracy: 0.9087\n",
      "Epoch 24/200\n",
      "64/64 [==============================] - 0s 2ms/step - loss: 0.4159 - accuracy: 0.8748 - val_loss: 0.3534 - val_accuracy: 0.9041\n",
      "Epoch 25/200\n",
      "64/64 [==============================] - 0s 2ms/step - loss: 0.4149 - accuracy: 0.8826 - val_loss: 0.3543 - val_accuracy: 0.9087\n",
      "Epoch 26/200\n",
      "64/64 [==============================] - 0s 3ms/step - loss: 0.4296 - accuracy: 0.8855 - val_loss: 0.3531 - val_accuracy: 0.9087\n",
      "Epoch 27/200\n",
      "64/64 [==============================] - 0s 3ms/step - loss: 0.4116 - accuracy: 0.8748 - val_loss: 0.3486 - val_accuracy: 0.9087\n",
      "Epoch 28/200\n",
      "64/64 [==============================] - 0s 2ms/step - loss: 0.4073 - accuracy: 0.8757 - val_loss: 0.3479 - val_accuracy: 0.9178\n",
      "Epoch 29/200\n",
      "64/64 [==============================] - 0s 3ms/step - loss: 0.4088 - accuracy: 0.8865 - val_loss: 0.3461 - val_accuracy: 0.8995\n",
      "Epoch 30/200\n",
      "64/64 [==============================] - 0s 2ms/step - loss: 0.3854 - accuracy: 0.8924 - val_loss: 0.3423 - val_accuracy: 0.9041\n",
      "Epoch 31/200\n",
      "64/64 [==============================] - 0s 2ms/step - loss: 0.3968 - accuracy: 0.8973 - val_loss: 0.3427 - val_accuracy: 0.9087\n",
      "Epoch 32/200\n",
      "64/64 [==============================] - 0s 3ms/step - loss: 0.4061 - accuracy: 0.8806 - val_loss: 0.3542 - val_accuracy: 0.8904\n",
      "Epoch 33/200\n",
      "64/64 [==============================] - 0s 3ms/step - loss: 0.3980 - accuracy: 0.8885 - val_loss: 0.3408 - val_accuracy: 0.9087\n",
      "Epoch 34/200\n",
      "64/64 [==============================] - 0s 3ms/step - loss: 0.3957 - accuracy: 0.8836 - val_loss: 0.3368 - val_accuracy: 0.9041\n",
      "Epoch 35/200\n",
      "64/64 [==============================] - 0s 3ms/step - loss: 0.4013 - accuracy: 0.8865 - val_loss: 0.3368 - val_accuracy: 0.9087\n",
      "Epoch 36/200\n",
      "64/64 [==============================] - 0s 2ms/step - loss: 0.3900 - accuracy: 0.8953 - val_loss: 0.3369 - val_accuracy: 0.9087\n",
      "Epoch 37/200\n",
      "64/64 [==============================] - 0s 2ms/step - loss: 0.3960 - accuracy: 0.8885 - val_loss: 0.3374 - val_accuracy: 0.9178\n",
      "Epoch 38/200\n",
      "64/64 [==============================] - 0s 2ms/step - loss: 0.4001 - accuracy: 0.8787 - val_loss: 0.3308 - val_accuracy: 0.9087\n",
      "Epoch 39/200\n",
      "64/64 [==============================] - 0s 2ms/step - loss: 0.3992 - accuracy: 0.8875 - val_loss: 0.3420 - val_accuracy: 0.9041\n",
      "Epoch 40/200\n",
      "64/64 [==============================] - 0s 3ms/step - loss: 0.4126 - accuracy: 0.8855 - val_loss: 0.3358 - val_accuracy: 0.9087\n",
      "Epoch 41/200\n",
      "64/64 [==============================] - 0s 2ms/step - loss: 0.3778 - accuracy: 0.8992 - val_loss: 0.3510 - val_accuracy: 0.8858\n",
      "Epoch 42/200\n",
      "64/64 [==============================] - 0s 2ms/step - loss: 0.4096 - accuracy: 0.8855 - val_loss: 0.3358 - val_accuracy: 0.9087\n",
      "Epoch 43/200\n",
      "64/64 [==============================] - 0s 2ms/step - loss: 0.3956 - accuracy: 0.8787 - val_loss: 0.3331 - val_accuracy: 0.9087\n",
      "Epoch 44/200\n",
      "64/64 [==============================] - 0s 3ms/step - loss: 0.4002 - accuracy: 0.8777 - val_loss: 0.3373 - val_accuracy: 0.8995\n",
      "Epoch 45/200\n",
      "64/64 [==============================] - 0s 2ms/step - loss: 0.3744 - accuracy: 0.8924 - val_loss: 0.3302 - val_accuracy: 0.9087\n",
      "Epoch 46/200\n",
      "64/64 [==============================] - 0s 2ms/step - loss: 0.3835 - accuracy: 0.8904 - val_loss: 0.3308 - val_accuracy: 0.8995\n",
      "Epoch 47/200\n",
      "64/64 [==============================] - 0s 3ms/step - loss: 0.3792 - accuracy: 0.8914 - val_loss: 0.3263 - val_accuracy: 0.9087\n",
      "Epoch 48/200\n",
      "64/64 [==============================] - 0s 2ms/step - loss: 0.3978 - accuracy: 0.8845 - val_loss: 0.3605 - val_accuracy: 0.8904\n",
      "Epoch 49/200\n",
      "64/64 [==============================] - 0s 2ms/step - loss: 0.3864 - accuracy: 0.8865 - val_loss: 0.3248 - val_accuracy: 0.9087\n",
      "Epoch 50/200\n",
      "64/64 [==============================] - 0s 2ms/step - loss: 0.3652 - accuracy: 0.8992 - val_loss: 0.3209 - val_accuracy: 0.9087\n",
      "Epoch 51/200\n",
      "64/64 [==============================] - 0s 2ms/step - loss: 0.3873 - accuracy: 0.8894 - val_loss: 0.3294 - val_accuracy: 0.9087\n",
      "Epoch 52/200\n",
      "64/64 [==============================] - 0s 2ms/step - loss: 0.3839 - accuracy: 0.8875 - val_loss: 0.3230 - val_accuracy: 0.9087\n",
      "Epoch 53/200\n",
      "64/64 [==============================] - 0s 2ms/step - loss: 0.3687 - accuracy: 0.8953 - val_loss: 0.3454 - val_accuracy: 0.9132\n",
      "Epoch 54/200\n",
      "64/64 [==============================] - 0s 3ms/step - loss: 0.3833 - accuracy: 0.8943 - val_loss: 0.3283 - val_accuracy: 0.9132\n",
      "Epoch 55/200\n",
      "64/64 [==============================] - 0s 3ms/step - loss: 0.3963 - accuracy: 0.8757 - val_loss: 0.3448 - val_accuracy: 0.8904\n",
      "Epoch 56/200\n",
      "64/64 [==============================] - 0s 2ms/step - loss: 0.3807 - accuracy: 0.8894 - val_loss: 0.3264 - val_accuracy: 0.9087\n",
      "Epoch 57/200\n",
      "64/64 [==============================] - 0s 2ms/step - loss: 0.3847 - accuracy: 0.8924 - val_loss: 0.3284 - val_accuracy: 0.9087\n",
      "Epoch 58/200\n",
      "64/64 [==============================] - 0s 2ms/step - loss: 0.3924 - accuracy: 0.8806 - val_loss: 0.3245 - val_accuracy: 0.9087\n"
     ]
    },
    {
     "name": "stdout",
     "output_type": "stream",
     "text": [
      "Epoch 59/200\n",
      "64/64 [==============================] - 0s 3ms/step - loss: 0.3929 - accuracy: 0.8885 - val_loss: 0.3241 - val_accuracy: 0.9087\n",
      "Epoch 60/200\n",
      "64/64 [==============================] - 0s 2ms/step - loss: 0.3734 - accuracy: 0.8914 - val_loss: 0.3239 - val_accuracy: 0.9087\n",
      "Epoch 61/200\n",
      "64/64 [==============================] - 0s 2ms/step - loss: 0.3871 - accuracy: 0.8875 - val_loss: 0.3272 - val_accuracy: 0.9087\n",
      "Epoch 62/200\n",
      "64/64 [==============================] - 0s 3ms/step - loss: 0.3723 - accuracy: 0.8933 - val_loss: 0.3337 - val_accuracy: 0.9087\n",
      "Epoch 63/200\n",
      "64/64 [==============================] - 0s 2ms/step - loss: 0.3839 - accuracy: 0.8875 - val_loss: 0.3233 - val_accuracy: 0.9087\n",
      "Epoch 64/200\n",
      "64/64 [==============================] - 0s 2ms/step - loss: 0.3840 - accuracy: 0.8845 - val_loss: 0.3257 - val_accuracy: 0.9087\n",
      "Epoch 65/200\n",
      "64/64 [==============================] - 0s 2ms/step - loss: 0.3722 - accuracy: 0.8973 - val_loss: 0.3212 - val_accuracy: 0.9087\n",
      "Epoch 66/200\n",
      "64/64 [==============================] - 0s 2ms/step - loss: 0.3810 - accuracy: 0.8914 - val_loss: 0.3222 - val_accuracy: 0.9087\n",
      "Epoch 67/200\n",
      "64/64 [==============================] - 0s 2ms/step - loss: 0.3849 - accuracy: 0.8963 - val_loss: 0.3331 - val_accuracy: 0.9087\n",
      "Epoch 68/200\n",
      "64/64 [==============================] - 0s 2ms/step - loss: 0.3694 - accuracy: 0.8953 - val_loss: 0.3254 - val_accuracy: 0.9041\n",
      "Epoch 69/200\n",
      "64/64 [==============================] - 0s 2ms/step - loss: 0.3837 - accuracy: 0.8875 - val_loss: 0.3240 - val_accuracy: 0.9087\n",
      "Epoch 70/200\n",
      "64/64 [==============================] - 0s 2ms/step - loss: 0.3725 - accuracy: 0.8933 - val_loss: 0.3379 - val_accuracy: 0.8950\n",
      "Epoch 71/200\n",
      "64/64 [==============================] - 0s 2ms/step - loss: 0.3712 - accuracy: 0.8904 - val_loss: 0.3212 - val_accuracy: 0.9041\n",
      "Epoch 72/200\n",
      "64/64 [==============================] - 0s 2ms/step - loss: 0.3884 - accuracy: 0.8855 - val_loss: 0.3188 - val_accuracy: 0.9087\n",
      "Epoch 73/200\n",
      "64/64 [==============================] - 0s 2ms/step - loss: 0.3775 - accuracy: 0.8885 - val_loss: 0.3291 - val_accuracy: 0.9087\n",
      "Epoch 74/200\n",
      "64/64 [==============================] - 0s 3ms/step - loss: 0.3776 - accuracy: 0.8826 - val_loss: 0.3487 - val_accuracy: 0.8858\n",
      "Epoch 75/200\n",
      "64/64 [==============================] - 0s 3ms/step - loss: 0.3765 - accuracy: 0.8904 - val_loss: 0.3214 - val_accuracy: 0.9087\n",
      "Epoch 76/200\n",
      "64/64 [==============================] - 0s 2ms/step - loss: 0.3773 - accuracy: 0.8904 - val_loss: 0.3431 - val_accuracy: 0.8995\n",
      "Epoch 77/200\n",
      "64/64 [==============================] - 0s 3ms/step - loss: 0.3814 - accuracy: 0.8875 - val_loss: 0.3176 - val_accuracy: 0.9087\n",
      "Epoch 78/200\n",
      "64/64 [==============================] - 0s 2ms/step - loss: 0.3717 - accuracy: 0.8914 - val_loss: 0.3190 - val_accuracy: 0.9041\n",
      "Epoch 79/200\n",
      "64/64 [==============================] - 0s 2ms/step - loss: 0.3784 - accuracy: 0.8875 - val_loss: 0.3175 - val_accuracy: 0.9087\n",
      "Epoch 80/200\n",
      "64/64 [==============================] - 0s 2ms/step - loss: 0.3767 - accuracy: 0.8963 - val_loss: 0.3211 - val_accuracy: 0.9087\n",
      "Epoch 81/200\n",
      "64/64 [==============================] - 0s 2ms/step - loss: 0.3665 - accuracy: 0.8982 - val_loss: 0.3234 - val_accuracy: 0.9041\n",
      "Epoch 82/200\n",
      "64/64 [==============================] - 0s 2ms/step - loss: 0.3649 - accuracy: 0.8973 - val_loss: 0.3303 - val_accuracy: 0.9132\n",
      "Epoch 83/200\n",
      "64/64 [==============================] - 0s 2ms/step - loss: 0.3769 - accuracy: 0.8855 - val_loss: 0.3238 - val_accuracy: 0.9087\n",
      "Epoch 84/200\n",
      "64/64 [==============================] - 0s 3ms/step - loss: 0.3680 - accuracy: 0.8904 - val_loss: 0.3289 - val_accuracy: 0.9132\n",
      "Epoch 85/200\n",
      "64/64 [==============================] - 0s 2ms/step - loss: 0.3802 - accuracy: 0.8826 - val_loss: 0.3167 - val_accuracy: 0.9087\n",
      "Epoch 86/200\n",
      "64/64 [==============================] - 0s 2ms/step - loss: 0.3752 - accuracy: 0.8943 - val_loss: 0.3311 - val_accuracy: 0.9087\n",
      "Epoch 87/200\n",
      "64/64 [==============================] - 0s 2ms/step - loss: 0.3641 - accuracy: 0.8982 - val_loss: 0.3251 - val_accuracy: 0.9087\n",
      "Epoch 88/200\n",
      "64/64 [==============================] - 0s 2ms/step - loss: 0.3742 - accuracy: 0.8953 - val_loss: 0.3189 - val_accuracy: 0.9087\n",
      "Epoch 89/200\n",
      "64/64 [==============================] - 0s 2ms/step - loss: 0.3749 - accuracy: 0.8914 - val_loss: 0.3194 - val_accuracy: 0.9087\n",
      "Epoch 90/200\n",
      "64/64 [==============================] - 0s 2ms/step - loss: 0.3793 - accuracy: 0.9012 - val_loss: 0.3226 - val_accuracy: 0.9087\n",
      "Epoch 91/200\n",
      "64/64 [==============================] - 0s 2ms/step - loss: 0.3698 - accuracy: 0.8885 - val_loss: 0.3209 - val_accuracy: 0.9087\n",
      "Epoch 92/200\n",
      "64/64 [==============================] - 0s 2ms/step - loss: 0.3729 - accuracy: 0.8865 - val_loss: 0.3231 - val_accuracy: 0.9087\n",
      "Epoch 93/200\n",
      "64/64 [==============================] - 0s 3ms/step - loss: 0.3774 - accuracy: 0.8855 - val_loss: 0.3215 - val_accuracy: 0.9087\n",
      "Epoch 94/200\n",
      "64/64 [==============================] - 0s 3ms/step - loss: 0.3689 - accuracy: 0.8806 - val_loss: 0.3168 - val_accuracy: 0.9087\n",
      "Epoch 95/200\n",
      "64/64 [==============================] - 0s 2ms/step - loss: 0.3780 - accuracy: 0.8982 - val_loss: 0.3154 - val_accuracy: 0.9087\n",
      "Epoch 96/200\n",
      "64/64 [==============================] - 0s 3ms/step - loss: 0.3682 - accuracy: 0.8904 - val_loss: 0.3158 - val_accuracy: 0.9041\n",
      "Epoch 97/200\n",
      "64/64 [==============================] - 0s 3ms/step - loss: 0.3766 - accuracy: 0.8953 - val_loss: 0.3159 - val_accuracy: 0.9087\n",
      "Epoch 98/200\n",
      "64/64 [==============================] - 0s 4ms/step - loss: 0.3736 - accuracy: 0.8943 - val_loss: 0.3191 - val_accuracy: 0.9087\n",
      "Epoch 99/200\n",
      "64/64 [==============================] - 0s 3ms/step - loss: 0.3736 - accuracy: 0.8875 - val_loss: 0.3347 - val_accuracy: 0.8950\n",
      "Epoch 100/200\n",
      "64/64 [==============================] - 0s 3ms/step - loss: 0.3874 - accuracy: 0.8816 - val_loss: 0.3235 - val_accuracy: 0.9087\n",
      "Epoch 101/200\n",
      "64/64 [==============================] - 0s 3ms/step - loss: 0.3626 - accuracy: 0.8973 - val_loss: 0.3172 - val_accuracy: 0.9087\n",
      "Epoch 102/200\n",
      "64/64 [==============================] - 0s 4ms/step - loss: 0.3830 - accuracy: 0.8777 - val_loss: 0.3172 - val_accuracy: 0.9087\n",
      "Epoch 103/200\n",
      "64/64 [==============================] - 0s 2ms/step - loss: 0.3666 - accuracy: 0.8933 - val_loss: 0.3178 - val_accuracy: 0.9041\n",
      "Epoch 104/200\n",
      "64/64 [==============================] - 0s 3ms/step - loss: 0.3753 - accuracy: 0.8855 - val_loss: 0.3159 - val_accuracy: 0.9087\n",
      "Epoch 105/200\n",
      "64/64 [==============================] - 0s 2ms/step - loss: 0.3630 - accuracy: 0.8992 - val_loss: 0.3394 - val_accuracy: 0.8858\n",
      "Epoch 106/200\n",
      "64/64 [==============================] - 0s 3ms/step - loss: 0.3839 - accuracy: 0.8836 - val_loss: 0.3204 - val_accuracy: 0.9087\n",
      "Epoch 107/200\n",
      "64/64 [==============================] - 0s 3ms/step - loss: 0.3833 - accuracy: 0.8953 - val_loss: 0.3297 - val_accuracy: 0.9132\n",
      "Epoch 108/200\n",
      "64/64 [==============================] - 0s 2ms/step - loss: 0.3710 - accuracy: 0.8924 - val_loss: 0.3187 - val_accuracy: 0.9087\n",
      "Epoch 109/200\n",
      "64/64 [==============================] - 0s 3ms/step - loss: 0.3606 - accuracy: 0.8963 - val_loss: 0.3304 - val_accuracy: 0.9041\n",
      "Epoch 110/200\n",
      "64/64 [==============================] - 0s 2ms/step - loss: 0.3698 - accuracy: 0.8904 - val_loss: 0.3282 - val_accuracy: 0.9132\n",
      "Epoch 111/200\n",
      "64/64 [==============================] - 0s 2ms/step - loss: 0.3788 - accuracy: 0.8826 - val_loss: 0.3171 - val_accuracy: 0.9041\n",
      "Epoch 112/200\n",
      "64/64 [==============================] - 0s 2ms/step - loss: 0.3804 - accuracy: 0.8826 - val_loss: 0.3164 - val_accuracy: 0.9087\n",
      "Epoch 113/200\n",
      "64/64 [==============================] - 0s 2ms/step - loss: 0.3795 - accuracy: 0.8894 - val_loss: 0.3148 - val_accuracy: 0.9087\n",
      "Epoch 114/200\n",
      "64/64 [==============================] - 0s 2ms/step - loss: 0.3626 - accuracy: 0.8953 - val_loss: 0.3161 - val_accuracy: 0.9087\n",
      "Epoch 115/200\n",
      "64/64 [==============================] - 0s 2ms/step - loss: 0.3932 - accuracy: 0.8973 - val_loss: 0.3166 - val_accuracy: 0.9178\n",
      "Epoch 116/200\n"
     ]
    },
    {
     "name": "stdout",
     "output_type": "stream",
     "text": [
      "64/64 [==============================] - 0s 2ms/step - loss: 0.3799 - accuracy: 0.8904 - val_loss: 0.3315 - val_accuracy: 0.8995\n",
      "Epoch 117/200\n",
      "64/64 [==============================] - 0s 2ms/step - loss: 0.3805 - accuracy: 0.8885 - val_loss: 0.3221 - val_accuracy: 0.9087\n",
      "Epoch 118/200\n",
      "64/64 [==============================] - 0s 3ms/step - loss: 0.3773 - accuracy: 0.8904 - val_loss: 0.3212 - val_accuracy: 0.9087\n",
      "Epoch 119/200\n",
      "64/64 [==============================] - 0s 3ms/step - loss: 0.3729 - accuracy: 0.8875 - val_loss: 0.3170 - val_accuracy: 0.9087\n",
      "Epoch 120/200\n",
      "64/64 [==============================] - 0s 2ms/step - loss: 0.3871 - accuracy: 0.8836 - val_loss: 0.3234 - val_accuracy: 0.9041\n",
      "Epoch 121/200\n",
      "64/64 [==============================] - 0s 2ms/step - loss: 0.3589 - accuracy: 0.9051 - val_loss: 0.3191 - val_accuracy: 0.9041\n",
      "Epoch 122/200\n",
      "64/64 [==============================] - 0s 2ms/step - loss: 0.3788 - accuracy: 0.8875 - val_loss: 0.3225 - val_accuracy: 0.9041\n",
      "Epoch 123/200\n",
      "64/64 [==============================] - 0s 3ms/step - loss: 0.3871 - accuracy: 0.8855 - val_loss: 0.3443 - val_accuracy: 0.8858\n",
      "Epoch 124/200\n",
      "64/64 [==============================] - 0s 3ms/step - loss: 0.3691 - accuracy: 0.8855 - val_loss: 0.3221 - val_accuracy: 0.9087\n",
      "Epoch 125/200\n",
      "64/64 [==============================] - 0s 2ms/step - loss: 0.3876 - accuracy: 0.8796 - val_loss: 0.3196 - val_accuracy: 0.9087\n",
      "Epoch 126/200\n",
      "64/64 [==============================] - 0s 2ms/step - loss: 0.3681 - accuracy: 0.9061 - val_loss: 0.3273 - val_accuracy: 0.9087\n",
      "Epoch 127/200\n",
      "64/64 [==============================] - 0s 2ms/step - loss: 0.3706 - accuracy: 0.8894 - val_loss: 0.3252 - val_accuracy: 0.9087\n",
      "Epoch 128/200\n",
      "64/64 [==============================] - 0s 3ms/step - loss: 0.3812 - accuracy: 0.8982 - val_loss: 0.3204 - val_accuracy: 0.9041\n",
      "Epoch 129/200\n",
      "64/64 [==============================] - 0s 2ms/step - loss: 0.3762 - accuracy: 0.8943 - val_loss: 0.3191 - val_accuracy: 0.9087\n",
      "Epoch 130/200\n",
      "64/64 [==============================] - 0s 3ms/step - loss: 0.3697 - accuracy: 0.8963 - val_loss: 0.3211 - val_accuracy: 0.9087\n",
      "Epoch 131/200\n",
      "64/64 [==============================] - 0s 3ms/step - loss: 0.3766 - accuracy: 0.8982 - val_loss: 0.3332 - val_accuracy: 0.8995\n",
      "Epoch 132/200\n",
      "64/64 [==============================] - 0s 2ms/step - loss: 0.3748 - accuracy: 0.8963 - val_loss: 0.3172 - val_accuracy: 0.9087\n",
      "Epoch 133/200\n",
      "64/64 [==============================] - 0s 2ms/step - loss: 0.3775 - accuracy: 0.8855 - val_loss: 0.3260 - val_accuracy: 0.9087\n",
      "Epoch 134/200\n",
      "64/64 [==============================] - 0s 3ms/step - loss: 0.3727 - accuracy: 0.8943 - val_loss: 0.3231 - val_accuracy: 0.9041\n",
      "Epoch 135/200\n",
      "64/64 [==============================] - 0s 3ms/step - loss: 0.3670 - accuracy: 0.8953 - val_loss: 0.3211 - val_accuracy: 0.9132\n",
      "Epoch 136/200\n",
      "64/64 [==============================] - 0s 3ms/step - loss: 0.3785 - accuracy: 0.8914 - val_loss: 0.3165 - val_accuracy: 0.9041\n",
      "Epoch 137/200\n",
      "64/64 [==============================] - 0s 2ms/step - loss: 0.3792 - accuracy: 0.9012 - val_loss: 0.3371 - val_accuracy: 0.8858\n",
      "Epoch 138/200\n",
      "64/64 [==============================] - 0s 2ms/step - loss: 0.3667 - accuracy: 0.8963 - val_loss: 0.3211 - val_accuracy: 0.9087\n",
      "Epoch 139/200\n",
      "64/64 [==============================] - 0s 3ms/step - loss: 0.3763 - accuracy: 0.8836 - val_loss: 0.3189 - val_accuracy: 0.9087\n",
      "Epoch 140/200\n",
      "64/64 [==============================] - 0s 2ms/step - loss: 0.3588 - accuracy: 0.8953 - val_loss: 0.3177 - val_accuracy: 0.9041\n",
      "Epoch 141/200\n",
      "64/64 [==============================] - 0s 3ms/step - loss: 0.3628 - accuracy: 0.8973 - val_loss: 0.3182 - val_accuracy: 0.9087\n",
      "Epoch 142/200\n",
      "64/64 [==============================] - 0s 2ms/step - loss: 0.3860 - accuracy: 0.8806 - val_loss: 0.3141 - val_accuracy: 0.9087\n",
      "Epoch 143/200\n",
      "64/64 [==============================] - 0s 3ms/step - loss: 0.3735 - accuracy: 0.8836 - val_loss: 0.3301 - val_accuracy: 0.9041\n",
      "Epoch 144/200\n",
      "64/64 [==============================] - 0s 3ms/step - loss: 0.3714 - accuracy: 0.9022 - val_loss: 0.3201 - val_accuracy: 0.9132\n",
      "Epoch 145/200\n",
      "64/64 [==============================] - 0s 2ms/step - loss: 0.3990 - accuracy: 0.8787 - val_loss: 0.3209 - val_accuracy: 0.9132\n",
      "Epoch 146/200\n",
      "64/64 [==============================] - 0s 2ms/step - loss: 0.3674 - accuracy: 0.8914 - val_loss: 0.3598 - val_accuracy: 0.8904\n",
      "Epoch 147/200\n",
      "64/64 [==============================] - 0s 2ms/step - loss: 0.3819 - accuracy: 0.8777 - val_loss: 0.3179 - val_accuracy: 0.9041\n",
      "Epoch 148/200\n",
      "64/64 [==============================] - 0s 2ms/step - loss: 0.3793 - accuracy: 0.8924 - val_loss: 0.3330 - val_accuracy: 0.8995\n",
      "Epoch 149/200\n",
      "64/64 [==============================] - 0s 2ms/step - loss: 0.3674 - accuracy: 0.8904 - val_loss: 0.3166 - val_accuracy: 0.9087\n",
      "Epoch 150/200\n",
      "64/64 [==============================] - 0s 2ms/step - loss: 0.3620 - accuracy: 0.8924 - val_loss: 0.3244 - val_accuracy: 0.9132\n",
      "Epoch 151/200\n",
      "64/64 [==============================] - 0s 3ms/step - loss: 0.3504 - accuracy: 0.8943 - val_loss: 0.3255 - val_accuracy: 0.9041\n",
      "Epoch 152/200\n",
      "64/64 [==============================] - 0s 3ms/step - loss: 0.3842 - accuracy: 0.8865 - val_loss: 0.3279 - val_accuracy: 0.9087\n",
      "Epoch 153/200\n",
      "64/64 [==============================] - 0s 3ms/step - loss: 0.3723 - accuracy: 0.8963 - val_loss: 0.3432 - val_accuracy: 0.8813\n",
      "Epoch 154/200\n",
      "64/64 [==============================] - 0s 3ms/step - loss: 0.3893 - accuracy: 0.8855 - val_loss: 0.3197 - val_accuracy: 0.9041\n",
      "Epoch 155/200\n",
      "64/64 [==============================] - 0s 2ms/step - loss: 0.3695 - accuracy: 0.8924 - val_loss: 0.3178 - val_accuracy: 0.9132\n",
      "Epoch 156/200\n",
      "64/64 [==============================] - 0s 2ms/step - loss: 0.3700 - accuracy: 0.8953 - val_loss: 0.3190 - val_accuracy: 0.9087\n",
      "Epoch 157/200\n",
      "64/64 [==============================] - 0s 3ms/step - loss: 0.3714 - accuracy: 0.8885 - val_loss: 0.3218 - val_accuracy: 0.9087\n",
      "Epoch 158/200\n",
      "64/64 [==============================] - 0s 2ms/step - loss: 0.3791 - accuracy: 0.8924 - val_loss: 0.3309 - val_accuracy: 0.8950\n",
      "Epoch 159/200\n",
      "64/64 [==============================] - 0s 3ms/step - loss: 0.3687 - accuracy: 0.8914 - val_loss: 0.3272 - val_accuracy: 0.9087\n",
      "Epoch 160/200\n",
      "64/64 [==============================] - 0s 3ms/step - loss: 0.3607 - accuracy: 0.8953 - val_loss: 0.3160 - val_accuracy: 0.9041\n",
      "Epoch 161/200\n",
      "64/64 [==============================] - 0s 2ms/step - loss: 0.3703 - accuracy: 0.8875 - val_loss: 0.3264 - val_accuracy: 0.9087\n",
      "Epoch 162/200\n",
      "64/64 [==============================] - 0s 3ms/step - loss: 0.3736 - accuracy: 0.8924 - val_loss: 0.3145 - val_accuracy: 0.9087\n",
      "Epoch 163/200\n",
      "64/64 [==============================] - 0s 2ms/step - loss: 0.3700 - accuracy: 0.8953 - val_loss: 0.3208 - val_accuracy: 0.9087\n",
      "Epoch 164/200\n",
      "64/64 [==============================] - 0s 3ms/step - loss: 0.3612 - accuracy: 0.8953 - val_loss: 0.3189 - val_accuracy: 0.9132\n",
      "Epoch 165/200\n",
      "64/64 [==============================] - 0s 2ms/step - loss: 0.3671 - accuracy: 0.8953 - val_loss: 0.3158 - val_accuracy: 0.9041\n",
      "Epoch 166/200\n",
      "64/64 [==============================] - 0s 3ms/step - loss: 0.3640 - accuracy: 0.8992 - val_loss: 0.3182 - val_accuracy: 0.9087\n",
      "Epoch 167/200\n",
      "64/64 [==============================] - 0s 2ms/step - loss: 0.3648 - accuracy: 0.8943 - val_loss: 0.3234 - val_accuracy: 0.9087\n",
      "Epoch 168/200\n",
      "64/64 [==============================] - 0s 3ms/step - loss: 0.3724 - accuracy: 0.8904 - val_loss: 0.3185 - val_accuracy: 0.9087\n",
      "Epoch 169/200\n",
      "64/64 [==============================] - 0s 2ms/step - loss: 0.3769 - accuracy: 0.8855 - val_loss: 0.3257 - val_accuracy: 0.9087\n",
      "Epoch 170/200\n",
      "64/64 [==============================] - 0s 2ms/step - loss: 0.3636 - accuracy: 0.8924 - val_loss: 0.3145 - val_accuracy: 0.9087\n",
      "Epoch 171/200\n",
      "64/64 [==============================] - 0s 2ms/step - loss: 0.3712 - accuracy: 0.8914 - val_loss: 0.3174 - val_accuracy: 0.9087\n",
      "Epoch 172/200\n",
      "64/64 [==============================] - 0s 2ms/step - loss: 0.3683 - accuracy: 0.8933 - val_loss: 0.3214 - val_accuracy: 0.9041\n",
      "Epoch 173/200\n"
     ]
    },
    {
     "name": "stdout",
     "output_type": "stream",
     "text": [
      "64/64 [==============================] - 0s 2ms/step - loss: 0.3694 - accuracy: 0.8826 - val_loss: 0.3171 - val_accuracy: 0.9041\n",
      "Epoch 174/200\n",
      "64/64 [==============================] - 0s 2ms/step - loss: 0.3691 - accuracy: 0.8933 - val_loss: 0.3228 - val_accuracy: 0.9041\n",
      "Epoch 175/200\n",
      "64/64 [==============================] - 0s 3ms/step - loss: 0.3660 - accuracy: 0.8904 - val_loss: 0.3154 - val_accuracy: 0.9087\n",
      "Epoch 176/200\n",
      "64/64 [==============================] - 0s 2ms/step - loss: 0.3614 - accuracy: 0.8933 - val_loss: 0.3397 - val_accuracy: 0.8858\n",
      "Epoch 177/200\n",
      "64/64 [==============================] - 0s 2ms/step - loss: 0.3614 - accuracy: 0.8914 - val_loss: 0.3133 - val_accuracy: 0.9132\n",
      "Epoch 178/200\n",
      "64/64 [==============================] - 0s 2ms/step - loss: 0.3805 - accuracy: 0.8953 - val_loss: 0.3239 - val_accuracy: 0.9041\n",
      "Epoch 179/200\n",
      "64/64 [==============================] - 0s 2ms/step - loss: 0.3781 - accuracy: 0.8924 - val_loss: 0.3169 - val_accuracy: 0.9132\n",
      "Epoch 180/200\n",
      "64/64 [==============================] - 0s 3ms/step - loss: 0.3652 - accuracy: 0.8836 - val_loss: 0.3143 - val_accuracy: 0.9087\n",
      "Epoch 181/200\n",
      "64/64 [==============================] - 0s 3ms/step - loss: 0.3967 - accuracy: 0.8796 - val_loss: 0.3225 - val_accuracy: 0.9087\n",
      "Epoch 182/200\n",
      "64/64 [==============================] - 0s 2ms/step - loss: 0.3641 - accuracy: 0.8933 - val_loss: 0.3241 - val_accuracy: 0.9087\n",
      "Epoch 183/200\n",
      "64/64 [==============================] - 0s 2ms/step - loss: 0.3842 - accuracy: 0.8865 - val_loss: 0.3187 - val_accuracy: 0.9087\n",
      "Epoch 184/200\n",
      "64/64 [==============================] - 0s 2ms/step - loss: 0.3662 - accuracy: 0.8904 - val_loss: 0.3371 - val_accuracy: 0.8950\n",
      "Epoch 185/200\n",
      "64/64 [==============================] - 0s 2ms/step - loss: 0.3788 - accuracy: 0.8845 - val_loss: 0.3178 - val_accuracy: 0.9087\n",
      "Epoch 186/200\n",
      "64/64 [==============================] - 0s 3ms/step - loss: 0.3766 - accuracy: 0.8894 - val_loss: 0.3255 - val_accuracy: 0.9087\n",
      "Epoch 187/200\n",
      "64/64 [==============================] - 0s 2ms/step - loss: 0.3613 - accuracy: 0.8973 - val_loss: 0.3254 - val_accuracy: 0.9087\n",
      "Epoch 188/200\n",
      "64/64 [==============================] - 0s 2ms/step - loss: 0.3824 - accuracy: 0.8894 - val_loss: 0.3197 - val_accuracy: 0.9041\n",
      "Epoch 189/200\n",
      "64/64 [==============================] - 0s 2ms/step - loss: 0.3936 - accuracy: 0.8816 - val_loss: 0.3196 - val_accuracy: 0.9132\n",
      "Epoch 190/200\n",
      "64/64 [==============================] - 0s 3ms/step - loss: 0.3674 - accuracy: 0.8836 - val_loss: 0.3186 - val_accuracy: 0.9087\n",
      "Epoch 191/200\n",
      "64/64 [==============================] - 0s 2ms/step - loss: 0.3607 - accuracy: 0.8855 - val_loss: 0.3167 - val_accuracy: 0.9087\n",
      "Epoch 192/200\n",
      "64/64 [==============================] - 0s 2ms/step - loss: 0.3590 - accuracy: 0.8992 - val_loss: 0.3276 - val_accuracy: 0.9041\n",
      "Epoch 193/200\n",
      "64/64 [==============================] - 0s 3ms/step - loss: 0.3613 - accuracy: 0.8904 - val_loss: 0.3173 - val_accuracy: 0.9087\n",
      "Epoch 194/200\n",
      "64/64 [==============================] - 0s 2ms/step - loss: 0.3888 - accuracy: 0.8806 - val_loss: 0.3224 - val_accuracy: 0.9132\n",
      "Epoch 195/200\n",
      "64/64 [==============================] - 0s 3ms/step - loss: 0.3767 - accuracy: 0.8914 - val_loss: 0.3196 - val_accuracy: 0.9087\n",
      "Epoch 196/200\n",
      "64/64 [==============================] - 0s 3ms/step - loss: 0.3825 - accuracy: 0.8875 - val_loss: 0.3248 - val_accuracy: 0.9087\n",
      "Epoch 197/200\n",
      "64/64 [==============================] - 0s 2ms/step - loss: 0.3608 - accuracy: 0.8953 - val_loss: 0.3231 - val_accuracy: 0.9132\n",
      "Epoch 198/200\n",
      "64/64 [==============================] - 0s 3ms/step - loss: 0.3670 - accuracy: 0.8953 - val_loss: 0.3260 - val_accuracy: 0.9041\n",
      "Epoch 199/200\n",
      "64/64 [==============================] - 0s 2ms/step - loss: 0.3744 - accuracy: 0.8855 - val_loss: 0.3253 - val_accuracy: 0.9041\n",
      "Epoch 200/200\n",
      "64/64 [==============================] - 0s 3ms/step - loss: 0.3721 - accuracy: 0.8924 - val_loss: 0.3431 - val_accuracy: 0.8858\n"
     ]
    }
   ],
   "source": [
    "model_3.compile(optimizer='adam',\n",
    "              loss='binary_crossentropy',\n",
    "              metrics=['accuracy'])\n",
    "hist_3 = model_3.fit(X_train, Y_train,\n",
    "          batch_size=16, epochs=200,\n",
    "          validation_data=(X_val, Y_val))"
   ]
  },
  {
   "cell_type": "code",
   "execution_count": 58,
   "metadata": {},
   "outputs": [
    {
     "data": {
      "image/png": "[encoded data removed]",
      "text/plain": [
       "<Figure size 432x288 with 1 Axes>"
      ]
     },
     "metadata": {
      "needs_background": "light"
     },
     "output_type": "display_data"
    }
   ],
   "source": [
    "plt.plot(hist_3.history['loss'])\n",
    "plt.plot(hist_3.history['val_loss'])\n",
    "plt.title('Model loss')\n",
    "plt.ylabel('Loss')\n",
    "plt.xlabel('Epoch')\n",
    "plt.legend(['Train', 'Val'], loc='upper right')\n",
    "plt.ylim(top=1.2, bottom=0)\n",
    "plt.show()"
   ]
  },
  {
   "cell_type": "code",
   "execution_count": 59,
   "metadata": {},
   "outputs": [
    {
     "data": {
      "image/png": "[encoded data removed]",
      "text/plain": [
       "<Figure size 432x288 with 1 Axes>"
      ]
     },
     "metadata": {
      "needs_background": "light"
     },
     "output_type": "display_data"
    }
   ],
   "source": [
    "plt.plot(hist_3.history['accuracy'])\n",
    "plt.plot(hist_3.history['val_accuracy'])\n",
    "plt.title('Model accuracy')\n",
    "plt.ylabel('Accuracy')\n",
    "plt.xlabel('Epoch')\n",
    "plt.legend(['Train', 'Val'], loc='lower right')\n",
    "plt.show()"
   ]
  },
  {
   "cell_type": "code",
   "execution_count": null,
   "metadata": {},
   "outputs": [],
   "source": []
  },
  {
   "cell_type": "raw",
   "metadata": {},
   "source": [
    "You can see that the validation loss much more closely matches our training loss. \n",
    "To deal with overfitting, we can code in the following strategies into our model each with about one line of code:\n",
    "*L2 Regularization\n",
    "*Dropout\n",
    "If we visualize the training / validation loss and accuracy, we can see that these additions have helped deal with overfitting!"
   ]
  },
  {
   "cell_type": "code",
   "execution_count": 60,
   "metadata": {},
   "outputs": [
    {
     "data": {
      "image/png": "[encoded data removed]",
      "text/plain": [
       "<IPython.core.display.Image object>"
      ]
     },
     "execution_count": 60,
     "metadata": {},
     "output_type": "execute_result"
    }
   ],
   "source": [
    "from IPython.display import Image\n",
    "Image(filename='softmax1.png')"
   ]
  },
  {
   "cell_type": "code",
   "execution_count": 53,
   "metadata": {},
   "outputs": [],
   "source": [
    "# rectified linear function\n",
    "def rectified(x):\n",
    "    return max(0.0, x)"
   ]
  },
  {
   "cell_type": "code",
   "execution_count": 54,
   "metadata": {},
   "outputs": [
    {
     "name": "stdout",
     "output_type": "stream",
     "text": [
      "rectified(1.0) is 1.0\n",
      "rectified(1000.0) is 1000.0\n",
      "rectified(0.0) is 0.0\n",
      "rectified(-1.0) is 0.0\n",
      "rectified(-1000.0) is 0.0\n"
     ]
    }
   ],
   "source": [
    "# demonstrate the rectified linear function\n",
    " \n",
    "# rectified linear function\n",
    "def rectified(x):\n",
    "    return max(0.0, x)\n",
    " \n",
    "# demonstrate with a positive input\n",
    "x = 1.0\n",
    "print('rectified(%.1f) is %.1f' % (x, rectified(x)))\n",
    "x = 1000.0\n",
    "print('rectified(%.1f) is %.1f' % (x, rectified(x)))\n",
    "# demonstrate with a zero input\n",
    "x = 0.0\n",
    "print('rectified(%.1f) is %.1f' % (x, rectified(x)))\n",
    "# demonstrate with a negative input\n",
    "x = -1.0\n",
    "print('rectified(%.1f) is %.1f' % (x, rectified(x)))\n",
    "x = -1000.0\n",
    "print('rectified(%.1f) is %.1f' % (x, rectified(x)))"
   ]
  },
  {
   "cell_type": "raw",
   "metadata": {},
   "source": [
    "The RELU(Rectified Linear Units) activation function is used in input and hidden layers. The advantages of using RELU are: it converges faster than traditional activations(tanh, sigmoid) and more importantly;  RELU is non-saturation of its gradient, that means it greatly accelerates the convergence of stochastic gradient descent[6].Therefore RELU is used as the main activation function of neurons.\n",
    "http://www.cs.toronto.edu/~fritz/absps/imagenet.pdf   \n",
    "here is the reference of this information"
   ]
  },
  {
   "cell_type": "raw",
   "metadata": {},
   "source": [
    "A general problem with both the sigmoid and tanh functions is that they saturate. This means that large values snap to 1.0 and small values snap to -1 or 0 for tanh and sigmoid respectively. Further, the functions are only really sensitive to changes around their mid-point of their input, such as 0.5 for sigmoid and 0.0 for tanh."
   ]
  },
  {
   "cell_type": "raw",
   "metadata": {},
   "source": [
    "Layers deep in large networks using these nonlinear activation functions fail to receive useful gradient information. Error is back propagated through the network and used to update the weights. The amount of error decreases dramatically with each additional layer through which it is propagated, given the derivative of the chosen activation function. This is called the vanishing gradient problem and prevents deep (multi-layered) networks from learning effectively.\n",
    "this will be MORE CLEAR IN RNN SECTION DONT WORRY!"
   ]
  },
  {
   "cell_type": "code",
   "execution_count": null,
   "metadata": {},
   "outputs": [],
   "source": [
    "#y = max(0, x)  GENERAL FORMULA OF RELU"
   ]
  },
  {
   "cell_type": "raw",
   "metadata": {},
   "source": [
    "ReLU is linear (identity) for all positive values, and zero for all negative values. This means that:\n",
    "It’s cheap to compute as there is no complicated math. The model can therefore take less time to train or run.\n",
    "It converges faster. Linearity means that the slope doesn’t plateau, or \"SATURATE\" when x gets large. It doesn’t have the vanishing gradient problem suffered by other activation functions like sigmoid or tanh.\n",
    "It’s sparsely activated. Since ReLU is zero for all negative inputs, it’s likely for any given unit to not activate at all. This is often desirable (see below)."
   ]
  },
  {
   "cell_type": "code",
   "execution_count": 24,
   "metadata": {},
   "outputs": [
    {
     "data": {
      "image/png": "[encoded data removed]",
      "text/plain": [
       "<IPython.core.display.Image object>"
      ]
     },
     "execution_count": 24,
     "metadata": {},
     "output_type": "execute_result"
    }
   ],
   "source": [
    "from IPython.display import Image\n",
    "Image(filename='RELLU1.png')"
   ]
  },
  {
   "cell_type": "code",
   "execution_count": null,
   "metadata": {},
   "outputs": [],
   "source": []
  },
  {
   "cell_type": "raw",
   "metadata": {},
   "source": []
  },
  {
   "cell_type": "code",
   "execution_count": null,
   "metadata": {},
   "outputs": [],
   "source": []
  },
  {
   "cell_type": "code",
   "execution_count": null,
   "metadata": {},
   "outputs": [],
   "source": []
  },
  {
   "cell_type": "code",
   "execution_count": null,
   "metadata": {},
   "outputs": [],
   "source": []
  },
  {
   "cell_type": "code",
   "execution_count": null,
   "metadata": {},
   "outputs": [],
   "source": []
  },
  {
   "cell_type": "code",
   "execution_count": null,
   "metadata": {},
   "outputs": [],
   "source": []
  },
  {
   "cell_type": "code",
   "execution_count": null,
   "metadata": {},
   "outputs": [],
   "source": []
  },
  {
   "cell_type": "code",
   "execution_count": null,
   "metadata": {},
   "outputs": [],
   "source": []
  },
  {
   "cell_type": "code",
   "execution_count": null,
   "metadata": {},
   "outputs": [],
   "source": []
  },
  {
   "cell_type": "code",
   "execution_count": null,
   "metadata": {},
   "outputs": [],
   "source": []
  },
  {
   "cell_type": "code",
   "execution_count": null,
   "metadata": {},
   "outputs": [],
   "source": []
  },
  {
   "cell_type": "code",
   "execution_count": null,
   "metadata": {},
   "outputs": [],
   "source": []
  },
  {
   "cell_type": "code",
   "execution_count": null,
   "metadata": {},
   "outputs": [],
   "source": []
  },
  {
   "cell_type": "code",
   "execution_count": null,
   "metadata": {},
   "outputs": [],
   "source": []
  }
 ],
 "metadata": {
  "kernelspec": {
   "display_name": "Python 3 (ipykernel)",
   "language": "python",
   "name": "python3"
  },
  "language_info": {
   "codemirror_mode": {
    "name": "ipython",
    "version": 3
   },
   "file_extension": ".py",
   "mimetype": "text/x-python",
   "name": "python",
   "nbconvert_exporter": "python",
   "pygments_lexer": "ipython3",
   "version": "3.9.7"
  }
 },
 "nbformat": 4,
 "nbformat_minor": 2
}
