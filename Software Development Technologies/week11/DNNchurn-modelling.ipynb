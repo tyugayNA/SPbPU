{
 "cells": [
  {
   "cell_type": "markdown",
   "metadata": {
    "colab_type": "text",
    "id": "gWZyYmS_UE_L"
   },
   "source": [
    "### Importing the libraries"
   ]
  },
  {
   "cell_type": "code",
   "execution_count": 1,
   "metadata": {
    "colab": {},
    "colab_type": "code",
    "id": "MxkJoQBkUIHC"
   },
   "outputs": [],
   "source": [
    "import numpy as np\n",
    "import pandas as pd\n",
    "import tensorflow as tf\n",
    "#https://www.kaggle.com/datasets/shrutimechlearn/churn-modelling"
   ]
  },
  {
   "cell_type": "code",
   "execution_count": 2,
   "metadata": {
    "colab": {
     "base_uri": "https://localhost:8080/",
     "height": 34
    },
    "colab_type": "code",
    "id": "ZaTwK7ojXr2F",
    "outputId": "0b27a96d-d11a-43e8-ab4b-87c1f01896fe"
   },
   "outputs": [
    {
     "data": {
      "text/plain": [
       "'2.8.0'"
      ]
     },
     "execution_count": 2,
     "metadata": {},
     "output_type": "execute_result"
    }
   ],
   "source": [
    "tf.__version__"
   ]
  },
  {
   "cell_type": "markdown",
   "metadata": {
    "colab_type": "text",
    "id": "cKWAkFVGUU0Z"
   },
   "source": [
    "### Importing the dataset"
   ]
  },
  {
   "cell_type": "code",
   "execution_count": 3,
   "metadata": {
    "colab": {},
    "colab_type": "code",
    "id": "MXUkhkMfU4wq"
   },
   "outputs": [
    {
     "data": {
      "text/html": [
       "<div>\n",
       "<style scoped>\n",
       "    .dataframe tbody tr th:only-of-type {\n",
       "        vertical-align: middle;\n",
       "    }\n",
       "\n",
       "    .dataframe tbody tr th {\n",
       "        vertical-align: top;\n",
       "    }\n",
       "\n",
       "    .dataframe thead th {\n",
       "        text-align: right;\n",
       "    }\n",
       "</style>\n",
       "<table border=\"1\" class=\"dataframe\">\n",
       "  <thead>\n",
       "    <tr style=\"text-align: right;\">\n",
       "      <th></th>\n",
       "      <th>RowNumber</th>\n",
       "      <th>CustomerId</th>\n",
       "      <th>Surname</th>\n",
       "      <th>CreditScore</th>\n",
       "      <th>Geography</th>\n",
       "      <th>Gender</th>\n",
       "      <th>Age</th>\n",
       "      <th>Tenure</th>\n",
       "      <th>Balance</th>\n",
       "      <th>NumOfProducts</th>\n",
       "      <th>HasCrCard</th>\n",
       "      <th>IsActiveMember</th>\n",
       "      <th>EstimatedSalary</th>\n",
       "      <th>Exited</th>\n",
       "    </tr>\n",
       "  </thead>\n",
       "  <tbody>\n",
       "    <tr>\n",
       "      <th>9975</th>\n",
       "      <td>9976</td>\n",
       "      <td>15666295</td>\n",
       "      <td>Smith</td>\n",
       "      <td>610</td>\n",
       "      <td>Germany</td>\n",
       "      <td>Male</td>\n",
       "      <td>50</td>\n",
       "      <td>1</td>\n",
       "      <td>113957.01</td>\n",
       "      <td>2</td>\n",
       "      <td>1</td>\n",
       "      <td>0</td>\n",
       "      <td>196526.55</td>\n",
       "      <td>1</td>\n",
       "    </tr>\n",
       "    <tr>\n",
       "      <th>9976</th>\n",
       "      <td>9977</td>\n",
       "      <td>15656062</td>\n",
       "      <td>Azikiwe</td>\n",
       "      <td>637</td>\n",
       "      <td>France</td>\n",
       "      <td>Female</td>\n",
       "      <td>33</td>\n",
       "      <td>7</td>\n",
       "      <td>103377.81</td>\n",
       "      <td>1</td>\n",
       "      <td>1</td>\n",
       "      <td>0</td>\n",
       "      <td>84419.78</td>\n",
       "      <td>0</td>\n",
       "    </tr>\n",
       "    <tr>\n",
       "      <th>9977</th>\n",
       "      <td>9978</td>\n",
       "      <td>15579969</td>\n",
       "      <td>Mancini</td>\n",
       "      <td>683</td>\n",
       "      <td>France</td>\n",
       "      <td>Female</td>\n",
       "      <td>32</td>\n",
       "      <td>9</td>\n",
       "      <td>0.00</td>\n",
       "      <td>2</td>\n",
       "      <td>1</td>\n",
       "      <td>1</td>\n",
       "      <td>24991.92</td>\n",
       "      <td>0</td>\n",
       "    </tr>\n",
       "    <tr>\n",
       "      <th>9978</th>\n",
       "      <td>9979</td>\n",
       "      <td>15703563</td>\n",
       "      <td>P'eng</td>\n",
       "      <td>774</td>\n",
       "      <td>France</td>\n",
       "      <td>Male</td>\n",
       "      <td>40</td>\n",
       "      <td>9</td>\n",
       "      <td>93017.47</td>\n",
       "      <td>2</td>\n",
       "      <td>1</td>\n",
       "      <td>0</td>\n",
       "      <td>191608.97</td>\n",
       "      <td>0</td>\n",
       "    </tr>\n",
       "    <tr>\n",
       "      <th>9979</th>\n",
       "      <td>9980</td>\n",
       "      <td>15692664</td>\n",
       "      <td>Diribe</td>\n",
       "      <td>677</td>\n",
       "      <td>France</td>\n",
       "      <td>Female</td>\n",
       "      <td>58</td>\n",
       "      <td>1</td>\n",
       "      <td>90022.85</td>\n",
       "      <td>1</td>\n",
       "      <td>0</td>\n",
       "      <td>1</td>\n",
       "      <td>2988.28</td>\n",
       "      <td>0</td>\n",
       "    </tr>\n",
       "    <tr>\n",
       "      <th>9980</th>\n",
       "      <td>9981</td>\n",
       "      <td>15719276</td>\n",
       "      <td>T'ao</td>\n",
       "      <td>741</td>\n",
       "      <td>Spain</td>\n",
       "      <td>Male</td>\n",
       "      <td>35</td>\n",
       "      <td>6</td>\n",
       "      <td>74371.49</td>\n",
       "      <td>1</td>\n",
       "      <td>0</td>\n",
       "      <td>0</td>\n",
       "      <td>99595.67</td>\n",
       "      <td>0</td>\n",
       "    </tr>\n",
       "    <tr>\n",
       "      <th>9981</th>\n",
       "      <td>9982</td>\n",
       "      <td>15672754</td>\n",
       "      <td>Burbidge</td>\n",
       "      <td>498</td>\n",
       "      <td>Germany</td>\n",
       "      <td>Male</td>\n",
       "      <td>42</td>\n",
       "      <td>3</td>\n",
       "      <td>152039.70</td>\n",
       "      <td>1</td>\n",
       "      <td>1</td>\n",
       "      <td>1</td>\n",
       "      <td>53445.17</td>\n",
       "      <td>1</td>\n",
       "    </tr>\n",
       "    <tr>\n",
       "      <th>9982</th>\n",
       "      <td>9983</td>\n",
       "      <td>15768163</td>\n",
       "      <td>Griffin</td>\n",
       "      <td>655</td>\n",
       "      <td>Germany</td>\n",
       "      <td>Female</td>\n",
       "      <td>46</td>\n",
       "      <td>7</td>\n",
       "      <td>137145.12</td>\n",
       "      <td>1</td>\n",
       "      <td>1</td>\n",
       "      <td>0</td>\n",
       "      <td>115146.40</td>\n",
       "      <td>1</td>\n",
       "    </tr>\n",
       "    <tr>\n",
       "      <th>9983</th>\n",
       "      <td>9984</td>\n",
       "      <td>15656710</td>\n",
       "      <td>Cocci</td>\n",
       "      <td>613</td>\n",
       "      <td>France</td>\n",
       "      <td>Male</td>\n",
       "      <td>40</td>\n",
       "      <td>4</td>\n",
       "      <td>0.00</td>\n",
       "      <td>1</td>\n",
       "      <td>0</td>\n",
       "      <td>0</td>\n",
       "      <td>151325.24</td>\n",
       "      <td>0</td>\n",
       "    </tr>\n",
       "    <tr>\n",
       "      <th>9984</th>\n",
       "      <td>9985</td>\n",
       "      <td>15696175</td>\n",
       "      <td>Echezonachukwu</td>\n",
       "      <td>602</td>\n",
       "      <td>Germany</td>\n",
       "      <td>Male</td>\n",
       "      <td>35</td>\n",
       "      <td>7</td>\n",
       "      <td>90602.42</td>\n",
       "      <td>2</td>\n",
       "      <td>1</td>\n",
       "      <td>1</td>\n",
       "      <td>51695.41</td>\n",
       "      <td>0</td>\n",
       "    </tr>\n",
       "    <tr>\n",
       "      <th>9985</th>\n",
       "      <td>9986</td>\n",
       "      <td>15586914</td>\n",
       "      <td>Nepean</td>\n",
       "      <td>659</td>\n",
       "      <td>France</td>\n",
       "      <td>Male</td>\n",
       "      <td>36</td>\n",
       "      <td>6</td>\n",
       "      <td>123841.49</td>\n",
       "      <td>2</td>\n",
       "      <td>1</td>\n",
       "      <td>0</td>\n",
       "      <td>96833.00</td>\n",
       "      <td>0</td>\n",
       "    </tr>\n",
       "    <tr>\n",
       "      <th>9986</th>\n",
       "      <td>9987</td>\n",
       "      <td>15581736</td>\n",
       "      <td>Bartlett</td>\n",
       "      <td>673</td>\n",
       "      <td>Germany</td>\n",
       "      <td>Male</td>\n",
       "      <td>47</td>\n",
       "      <td>1</td>\n",
       "      <td>183579.54</td>\n",
       "      <td>2</td>\n",
       "      <td>0</td>\n",
       "      <td>1</td>\n",
       "      <td>34047.54</td>\n",
       "      <td>0</td>\n",
       "    </tr>\n",
       "    <tr>\n",
       "      <th>9987</th>\n",
       "      <td>9988</td>\n",
       "      <td>15588839</td>\n",
       "      <td>Mancini</td>\n",
       "      <td>606</td>\n",
       "      <td>Spain</td>\n",
       "      <td>Male</td>\n",
       "      <td>30</td>\n",
       "      <td>8</td>\n",
       "      <td>180307.73</td>\n",
       "      <td>2</td>\n",
       "      <td>1</td>\n",
       "      <td>1</td>\n",
       "      <td>1914.41</td>\n",
       "      <td>0</td>\n",
       "    </tr>\n",
       "    <tr>\n",
       "      <th>9988</th>\n",
       "      <td>9989</td>\n",
       "      <td>15589329</td>\n",
       "      <td>Pirozzi</td>\n",
       "      <td>775</td>\n",
       "      <td>France</td>\n",
       "      <td>Male</td>\n",
       "      <td>30</td>\n",
       "      <td>4</td>\n",
       "      <td>0.00</td>\n",
       "      <td>2</td>\n",
       "      <td>1</td>\n",
       "      <td>0</td>\n",
       "      <td>49337.84</td>\n",
       "      <td>0</td>\n",
       "    </tr>\n",
       "    <tr>\n",
       "      <th>9989</th>\n",
       "      <td>9990</td>\n",
       "      <td>15605622</td>\n",
       "      <td>McMillan</td>\n",
       "      <td>841</td>\n",
       "      <td>Spain</td>\n",
       "      <td>Male</td>\n",
       "      <td>28</td>\n",
       "      <td>4</td>\n",
       "      <td>0.00</td>\n",
       "      <td>2</td>\n",
       "      <td>1</td>\n",
       "      <td>1</td>\n",
       "      <td>179436.60</td>\n",
       "      <td>0</td>\n",
       "    </tr>\n",
       "    <tr>\n",
       "      <th>9990</th>\n",
       "      <td>9991</td>\n",
       "      <td>15798964</td>\n",
       "      <td>Nkemakonam</td>\n",
       "      <td>714</td>\n",
       "      <td>Germany</td>\n",
       "      <td>Male</td>\n",
       "      <td>33</td>\n",
       "      <td>3</td>\n",
       "      <td>35016.60</td>\n",
       "      <td>1</td>\n",
       "      <td>1</td>\n",
       "      <td>0</td>\n",
       "      <td>53667.08</td>\n",
       "      <td>0</td>\n",
       "    </tr>\n",
       "    <tr>\n",
       "      <th>9991</th>\n",
       "      <td>9992</td>\n",
       "      <td>15769959</td>\n",
       "      <td>Ajuluchukwu</td>\n",
       "      <td>597</td>\n",
       "      <td>France</td>\n",
       "      <td>Female</td>\n",
       "      <td>53</td>\n",
       "      <td>4</td>\n",
       "      <td>88381.21</td>\n",
       "      <td>1</td>\n",
       "      <td>1</td>\n",
       "      <td>0</td>\n",
       "      <td>69384.71</td>\n",
       "      <td>1</td>\n",
       "    </tr>\n",
       "    <tr>\n",
       "      <th>9992</th>\n",
       "      <td>9993</td>\n",
       "      <td>15657105</td>\n",
       "      <td>Chukwualuka</td>\n",
       "      <td>726</td>\n",
       "      <td>Spain</td>\n",
       "      <td>Male</td>\n",
       "      <td>36</td>\n",
       "      <td>2</td>\n",
       "      <td>0.00</td>\n",
       "      <td>1</td>\n",
       "      <td>1</td>\n",
       "      <td>0</td>\n",
       "      <td>195192.40</td>\n",
       "      <td>0</td>\n",
       "    </tr>\n",
       "    <tr>\n",
       "      <th>9993</th>\n",
       "      <td>9994</td>\n",
       "      <td>15569266</td>\n",
       "      <td>Rahman</td>\n",
       "      <td>644</td>\n",
       "      <td>France</td>\n",
       "      <td>Male</td>\n",
       "      <td>28</td>\n",
       "      <td>7</td>\n",
       "      <td>155060.41</td>\n",
       "      <td>1</td>\n",
       "      <td>1</td>\n",
       "      <td>0</td>\n",
       "      <td>29179.52</td>\n",
       "      <td>0</td>\n",
       "    </tr>\n",
       "    <tr>\n",
       "      <th>9994</th>\n",
       "      <td>9995</td>\n",
       "      <td>15719294</td>\n",
       "      <td>Wood</td>\n",
       "      <td>800</td>\n",
       "      <td>France</td>\n",
       "      <td>Female</td>\n",
       "      <td>29</td>\n",
       "      <td>2</td>\n",
       "      <td>0.00</td>\n",
       "      <td>2</td>\n",
       "      <td>0</td>\n",
       "      <td>0</td>\n",
       "      <td>167773.55</td>\n",
       "      <td>0</td>\n",
       "    </tr>\n",
       "    <tr>\n",
       "      <th>9995</th>\n",
       "      <td>9996</td>\n",
       "      <td>15606229</td>\n",
       "      <td>Obijiaku</td>\n",
       "      <td>771</td>\n",
       "      <td>France</td>\n",
       "      <td>Male</td>\n",
       "      <td>39</td>\n",
       "      <td>5</td>\n",
       "      <td>0.00</td>\n",
       "      <td>2</td>\n",
       "      <td>1</td>\n",
       "      <td>0</td>\n",
       "      <td>96270.64</td>\n",
       "      <td>0</td>\n",
       "    </tr>\n",
       "    <tr>\n",
       "      <th>9996</th>\n",
       "      <td>9997</td>\n",
       "      <td>15569892</td>\n",
       "      <td>Johnstone</td>\n",
       "      <td>516</td>\n",
       "      <td>France</td>\n",
       "      <td>Male</td>\n",
       "      <td>35</td>\n",
       "      <td>10</td>\n",
       "      <td>57369.61</td>\n",
       "      <td>1</td>\n",
       "      <td>1</td>\n",
       "      <td>1</td>\n",
       "      <td>101699.77</td>\n",
       "      <td>0</td>\n",
       "    </tr>\n",
       "    <tr>\n",
       "      <th>9997</th>\n",
       "      <td>9998</td>\n",
       "      <td>15584532</td>\n",
       "      <td>Liu</td>\n",
       "      <td>709</td>\n",
       "      <td>France</td>\n",
       "      <td>Female</td>\n",
       "      <td>36</td>\n",
       "      <td>7</td>\n",
       "      <td>0.00</td>\n",
       "      <td>1</td>\n",
       "      <td>0</td>\n",
       "      <td>1</td>\n",
       "      <td>42085.58</td>\n",
       "      <td>1</td>\n",
       "    </tr>\n",
       "    <tr>\n",
       "      <th>9998</th>\n",
       "      <td>9999</td>\n",
       "      <td>15682355</td>\n",
       "      <td>Sabbatini</td>\n",
       "      <td>772</td>\n",
       "      <td>Germany</td>\n",
       "      <td>Male</td>\n",
       "      <td>42</td>\n",
       "      <td>3</td>\n",
       "      <td>75075.31</td>\n",
       "      <td>2</td>\n",
       "      <td>1</td>\n",
       "      <td>0</td>\n",
       "      <td>92888.52</td>\n",
       "      <td>1</td>\n",
       "    </tr>\n",
       "    <tr>\n",
       "      <th>9999</th>\n",
       "      <td>10000</td>\n",
       "      <td>15628319</td>\n",
       "      <td>Walker</td>\n",
       "      <td>792</td>\n",
       "      <td>France</td>\n",
       "      <td>Female</td>\n",
       "      <td>28</td>\n",
       "      <td>4</td>\n",
       "      <td>130142.79</td>\n",
       "      <td>1</td>\n",
       "      <td>1</td>\n",
       "      <td>0</td>\n",
       "      <td>38190.78</td>\n",
       "      <td>0</td>\n",
       "    </tr>\n",
       "  </tbody>\n",
       "</table>\n",
       "</div>"
      ],
      "text/plain": [
       "      RowNumber  CustomerId         Surname  CreditScore Geography  Gender  \\\n",
       "9975       9976    15666295           Smith          610   Germany    Male   \n",
       "9976       9977    15656062         Azikiwe          637    France  Female   \n",
       "9977       9978    15579969         Mancini          683    France  Female   \n",
       "9978       9979    15703563           P'eng          774    France    Male   \n",
       "9979       9980    15692664          Diribe          677    France  Female   \n",
       "9980       9981    15719276            T'ao          741     Spain    Male   \n",
       "9981       9982    15672754        Burbidge          498   Germany    Male   \n",
       "9982       9983    15768163         Griffin          655   Germany  Female   \n",
       "9983       9984    15656710           Cocci          613    France    Male   \n",
       "9984       9985    15696175  Echezonachukwu          602   Germany    Male   \n",
       "9985       9986    15586914          Nepean          659    France    Male   \n",
       "9986       9987    15581736        Bartlett          673   Germany    Male   \n",
       "9987       9988    15588839         Mancini          606     Spain    Male   \n",
       "9988       9989    15589329         Pirozzi          775    France    Male   \n",
       "9989       9990    15605622        McMillan          841     Spain    Male   \n",
       "9990       9991    15798964      Nkemakonam          714   Germany    Male   \n",
       "9991       9992    15769959     Ajuluchukwu          597    France  Female   \n",
       "9992       9993    15657105     Chukwualuka          726     Spain    Male   \n",
       "9993       9994    15569266          Rahman          644    France    Male   \n",
       "9994       9995    15719294            Wood          800    France  Female   \n",
       "9995       9996    15606229        Obijiaku          771    France    Male   \n",
       "9996       9997    15569892       Johnstone          516    France    Male   \n",
       "9997       9998    15584532             Liu          709    France  Female   \n",
       "9998       9999    15682355       Sabbatini          772   Germany    Male   \n",
       "9999      10000    15628319          Walker          792    France  Female   \n",
       "\n",
       "      Age  Tenure    Balance  NumOfProducts  HasCrCard  IsActiveMember  \\\n",
       "9975   50       1  113957.01              2          1               0   \n",
       "9976   33       7  103377.81              1          1               0   \n",
       "9977   32       9       0.00              2          1               1   \n",
       "9978   40       9   93017.47              2          1               0   \n",
       "9979   58       1   90022.85              1          0               1   \n",
       "9980   35       6   74371.49              1          0               0   \n",
       "9981   42       3  152039.70              1          1               1   \n",
       "9982   46       7  137145.12              1          1               0   \n",
       "9983   40       4       0.00              1          0               0   \n",
       "9984   35       7   90602.42              2          1               1   \n",
       "9985   36       6  123841.49              2          1               0   \n",
       "9986   47       1  183579.54              2          0               1   \n",
       "9987   30       8  180307.73              2          1               1   \n",
       "9988   30       4       0.00              2          1               0   \n",
       "9989   28       4       0.00              2          1               1   \n",
       "9990   33       3   35016.60              1          1               0   \n",
       "9991   53       4   88381.21              1          1               0   \n",
       "9992   36       2       0.00              1          1               0   \n",
       "9993   28       7  155060.41              1          1               0   \n",
       "9994   29       2       0.00              2          0               0   \n",
       "9995   39       5       0.00              2          1               0   \n",
       "9996   35      10   57369.61              1          1               1   \n",
       "9997   36       7       0.00              1          0               1   \n",
       "9998   42       3   75075.31              2          1               0   \n",
       "9999   28       4  130142.79              1          1               0   \n",
       "\n",
       "      EstimatedSalary  Exited  \n",
       "9975        196526.55       1  \n",
       "9976         84419.78       0  \n",
       "9977         24991.92       0  \n",
       "9978        191608.97       0  \n",
       "9979          2988.28       0  \n",
       "9980         99595.67       0  \n",
       "9981         53445.17       1  \n",
       "9982        115146.40       1  \n",
       "9983        151325.24       0  \n",
       "9984         51695.41       0  \n",
       "9985         96833.00       0  \n",
       "9986         34047.54       0  \n",
       "9987          1914.41       0  \n",
       "9988         49337.84       0  \n",
       "9989        179436.60       0  \n",
       "9990         53667.08       0  \n",
       "9991         69384.71       1  \n",
       "9992        195192.40       0  \n",
       "9993         29179.52       0  \n",
       "9994        167773.55       0  \n",
       "9995         96270.64       0  \n",
       "9996        101699.77       0  \n",
       "9997         42085.58       1  \n",
       "9998         92888.52       1  \n",
       "9999         38190.78       0  "
      ]
     },
     "execution_count": 3,
     "metadata": {},
     "output_type": "execute_result"
    }
   ],
   "source": [
    "dataset = pd.read_csv('Churn_Modelling.csv')\n",
    "dataset.tail(25)  "
   ]
  },
  {
   "cell_type": "code",
   "execution_count": 4,
   "metadata": {},
   "outputs": [],
   "source": [
    "\n",
    "X = dataset.iloc[:, 3:-1].values\n",
    "y = dataset.iloc[:, -1].values"
   ]
  },
  {
   "cell_type": "code",
   "execution_count": 5,
   "metadata": {
    "colab": {
     "base_uri": "https://localhost:8080/",
     "height": 137
    },
    "colab_type": "code",
    "id": "VYP9cQTWbzuI",
    "outputId": "797e7a64-9bac-436a-8c9c-94437e5e7587"
   },
   "outputs": [
    {
     "data": {
      "text/plain": [
       "array([[619, 'France', 'Female', ..., 1, 1, 101348.88],\n",
       "       [608, 'Spain', 'Female', ..., 0, 1, 112542.58],\n",
       "       [502, 'France', 'Female', ..., 1, 0, 113931.57],\n",
       "       ...,\n",
       "       [709, 'France', 'Female', ..., 0, 1, 42085.58],\n",
       "       [772, 'Germany', 'Male', ..., 1, 0, 92888.52],\n",
       "       [792, 'France', 'Female', ..., 1, 0, 38190.78]], dtype=object)"
      ]
     },
     "execution_count": 5,
     "metadata": {},
     "output_type": "execute_result"
    }
   ],
   "source": [
    "X"
   ]
  },
  {
   "cell_type": "code",
   "execution_count": 6,
   "metadata": {},
   "outputs": [
    {
     "name": "stdout",
     "output_type": "stream",
     "text": [
      "[1 0 1 ... 1 1 0]\n"
     ]
    }
   ],
   "source": [
    "print(y)"
   ]
  },
  {
   "cell_type": "code",
   "execution_count": null,
   "metadata": {
    "colab": {
     "base_uri": "https://localhost:8080/",
     "height": 34
    },
    "colab_type": "code",
    "id": "38vKGE6Nb2RR",
    "outputId": "a815e42a-e0dd-4cb5-ab97-b17ead98fbc3"
   },
   "outputs": [],
   "source": []
  },
  {
   "cell_type": "markdown",
   "metadata": {
    "colab_type": "text",
    "id": "N6bQ0UgSU-NJ"
   },
   "source": [
    "### Encoding categorical data"
   ]
  },
  {
   "cell_type": "markdown",
   "metadata": {
    "colab_type": "text",
    "id": "le5MJreAbW52"
   },
   "source": [
    "Label Encoding the \"Gender\" column"
   ]
  },
  {
   "cell_type": "code",
   "execution_count": 7,
   "metadata": {
    "colab": {},
    "colab_type": "code",
    "id": "PxVKWXxLbczC"
   },
   "outputs": [],
   "source": [
    "from sklearn.preprocessing import LabelEncoder\n",
    "le = LabelEncoder()\n",
    "X[:, 2] = le.fit_transform(X[:, 2])"
   ]
  },
  {
   "cell_type": "code",
   "execution_count": 8,
   "metadata": {
    "colab": {
     "base_uri": "https://localhost:8080/",
     "height": 137
    },
    "colab_type": "code",
    "id": "-M1KboxFb6OO",
    "outputId": "e2b8c7e8-0cbc-4cdf-f4eb-7f0853a00b88"
   },
   "outputs": [
    {
     "name": "stdout",
     "output_type": "stream",
     "text": [
      "[[619 'France' 0 ... 1 1 101348.88]\n",
      " [608 'Spain' 0 ... 0 1 112542.58]\n",
      " [502 'France' 0 ... 1 0 113931.57]\n",
      " ...\n",
      " [709 'France' 0 ... 0 1 42085.58]\n",
      " [772 'Germany' 1 ... 1 0 92888.52]\n",
      " [792 'France' 0 ... 1 0 38190.78]]\n"
     ]
    }
   ],
   "source": [
    "print(X)"
   ]
  },
  {
   "cell_type": "markdown",
   "metadata": {
    "colab_type": "text",
    "id": "CUxGZezpbMcb"
   },
   "source": [
    "One Hot Encoding the \"Geography\" column"
   ]
  },
  {
   "cell_type": "code",
   "execution_count": 9,
   "metadata": {
    "colab": {},
    "colab_type": "code",
    "id": "AMXC8-KMVirw"
   },
   "outputs": [],
   "source": [
    "from sklearn.compose import ColumnTransformer\n",
    "from sklearn.preprocessing import OneHotEncoder\n",
    "ct = ColumnTransformer(transformers=[('encoder', OneHotEncoder(), [1])], remainder='passthrough')\n",
    "X = np.array(ct.fit_transform(X))"
   ]
  },
  {
   "cell_type": "code",
   "execution_count": 10,
   "metadata": {
    "colab": {
     "base_uri": "https://localhost:8080/",
     "height": 137
    },
    "colab_type": "code",
    "id": "ZcxwEon-b8nV",
    "outputId": "23a98af4-5e33-4b26-c27b-f06e3c5d2baf"
   },
   "outputs": [
    {
     "name": "stdout",
     "output_type": "stream",
     "text": [
      "[[1.0 0.0 0.0 ... 1 1 101348.88]\n",
      " [0.0 0.0 1.0 ... 0 1 112542.58]\n",
      " [1.0 0.0 0.0 ... 1 0 113931.57]\n",
      " ...\n",
      " [1.0 0.0 0.0 ... 0 1 42085.58]\n",
      " [0.0 1.0 0.0 ... 1 0 92888.52]\n",
      " [1.0 0.0 0.0 ... 1 0 38190.78]]\n"
     ]
    }
   ],
   "source": [
    "print(X)"
   ]
  },
  {
   "cell_type": "markdown",
   "metadata": {
    "colab_type": "text",
    "id": "vHol938cW8zd"
   },
   "source": [
    "### Splitting the dataset into the Training set and Test set"
   ]
  },
  {
   "cell_type": "code",
   "execution_count": 11,
   "metadata": {
    "colab": {},
    "colab_type": "code",
    "id": "Z-TDt0Y_XEfc"
   },
   "outputs": [],
   "source": [
    "from sklearn.model_selection import train_test_split\n",
    "X_train, X_val_and_test, y_train, Y_val_and_test = train_test_split(X, y, test_size = 0.3, random_state = 42)\n",
    "X_val, X_test, Y_val, Y_test = train_test_split(X_val_and_test, Y_val_and_test, test_size=0.5) "
   ]
  },
  {
   "cell_type": "markdown",
   "metadata": {
    "colab_type": "text",
    "id": "RE_FcHyfV3TQ"
   },
   "source": [
    "### Feature Scaling"
   ]
  },
  {
   "cell_type": "code",
   "execution_count": 12,
   "metadata": {
    "colab": {},
    "colab_type": "code",
    "id": "ViCrE00rV8Sk"
   },
   "outputs": [],
   "source": [
    "from sklearn.preprocessing import StandardScaler\n",
    "sc = StandardScaler()\n",
    "X_train = sc.fit_transform(X_train)\n",
    "X_test = sc.transform(X_test)\n",
    "X_val= sc.transform(X_val)"
   ]
  },
  {
   "cell_type": "code",
   "execution_count": null,
   "metadata": {
    "colab": {},
    "colab_type": "code",
    "id": "3dtrScHxXQox"
   },
   "outputs": [],
   "source": []
  },
  {
   "cell_type": "markdown",
   "metadata": {
    "colab_type": "text",
    "id": "rP6urV6SX7kS"
   },
   "source": [
    "### Adding the input layer and the first hidden layer"
   ]
  },
  {
   "cell_type": "code",
   "execution_count": 13,
   "metadata": {
    "colab": {},
    "colab_type": "code",
    "id": "bppGycBXYCQr"
   },
   "outputs": [],
   "source": [
    "from keras.models import Sequential\n",
    "from keras.layers import Dense"
   ]
  },
  {
   "cell_type": "code",
   "execution_count": 14,
   "metadata": {
    "colab": {},
    "colab_type": "code",
    "id": "JneR0u0sYRTd"
   },
   "outputs": [],
   "source": [
    "model = Sequential([\n",
    "    Dense(6, activation='relu', input_shape=(12,)),  \n",
    "    Dense(1, activation='sigmoid'),\n",
    "])"
   ]
  },
  {
   "cell_type": "code",
   "execution_count": 15,
   "metadata": {
    "colab": {},
    "colab_type": "code",
    "id": "Cn3x41RBYfvY"
   },
   "outputs": [
    {
     "name": "stdout",
     "output_type": "stream",
     "text": [
      "You must install pydot (`pip install pydot`) and install graphviz (see instructions at https://graphviz.gitlab.io/download/) for plot_model/model_to_dot to work.\n"
     ]
    }
   ],
   "source": [
    "import keras.utils.vis_utils\n",
    "from importlib import reload\n",
    "reload(keras.utils.vis_utils)\n",
    "\n",
    "\n",
    "from keras.utils.vis_utils import plot_model    \n",
    "plot_model(model, to_file='model_plot.png', show_shapes=True, show_layer_names=True)\n",
    "# I FIXED THIS PROBLEM USING GOOGLE COLAB, USE IT"
   ]
  },
  {
   "cell_type": "markdown",
   "metadata": {
    "colab_type": "text",
    "id": "8GWlJChhY_ZI"
   },
   "source": [
    "### Compiling the ANN"
   ]
  },
  {
   "cell_type": "code",
   "execution_count": 16,
   "metadata": {
    "colab": {},
    "colab_type": "code",
    "id": "fG3RrwDXZEaS"
   },
   "outputs": [],
   "source": [
    "model.compile(optimizer = 'adam', loss = 'binary_crossentropy', metrics = ['accuracy'])"
   ]
  },
  {
   "cell_type": "code",
   "execution_count": 17,
   "metadata": {},
   "outputs": [
    {
     "name": "stdout",
     "output_type": "stream",
     "text": [
      "(7000, 12) (1500, 12) (1500, 12) (7000,) (1500,) (1500,)\n"
     ]
    }
   ],
   "source": [
    "print(X_train.shape, X_val.shape, X_test.shape, y_train.shape, Y_val.shape, Y_test.shape)"
   ]
  },
  {
   "cell_type": "markdown",
   "metadata": {
    "colab_type": "text",
    "id": "0QR_G5u7ZLSM"
   },
   "source": [
    "### Training the ANN on the Training set"
   ]
  },
  {
   "cell_type": "code",
   "execution_count": 18,
   "metadata": {
    "colab": {
     "base_uri": "https://localhost:8080/",
     "height": 1000
    },
    "colab_type": "code",
    "id": "nHZ-LKv_ZRb3",
    "outputId": "718cc4b0-b5aa-40f0-9b20-d3d31730a531"
   },
   "outputs": [
    {
     "name": "stdout",
     "output_type": "stream",
     "text": [
      "Epoch 1/100\n",
      "438/438 [==============================] - 3s 2ms/step - loss: 0.7190 - accuracy: 0.5644 - val_loss: 0.5430 - val_accuracy: 0.7473\n",
      "Epoch 2/100\n",
      "438/438 [==============================] - 1s 2ms/step - loss: 0.4951 - accuracy: 0.8037 - val_loss: 0.4633 - val_accuracy: 0.8093\n",
      "Epoch 3/100\n",
      "438/438 [==============================] - 1s 2ms/step - loss: 0.4478 - accuracy: 0.8220 - val_loss: 0.4216 - val_accuracy: 0.8253\n",
      "Epoch 4/100\n",
      "438/438 [==============================] - 1s 2ms/step - loss: 0.4199 - accuracy: 0.8311 - val_loss: 0.3935 - val_accuracy: 0.8467\n",
      "Epoch 5/100\n",
      "438/438 [==============================] - 1s 2ms/step - loss: 0.4004 - accuracy: 0.8373 - val_loss: 0.3736 - val_accuracy: 0.8593\n",
      "Epoch 6/100\n",
      "438/438 [==============================] - 1s 2ms/step - loss: 0.3859 - accuracy: 0.8423 - val_loss: 0.3595 - val_accuracy: 0.8660\n",
      "Epoch 7/100\n",
      "438/438 [==============================] - 1s 2ms/step - loss: 0.3751 - accuracy: 0.8424 - val_loss: 0.3487 - val_accuracy: 0.8680\n",
      "Epoch 8/100\n",
      "438/438 [==============================] - 1s 2ms/step - loss: 0.3672 - accuracy: 0.8443 - val_loss: 0.3427 - val_accuracy: 0.8713\n",
      "Epoch 9/100\n",
      "438/438 [==============================] - 1s 2ms/step - loss: 0.3619 - accuracy: 0.8471 - val_loss: 0.3385 - val_accuracy: 0.8713\n",
      "Epoch 10/100\n",
      "438/438 [==============================] - 1s 2ms/step - loss: 0.3580 - accuracy: 0.8479 - val_loss: 0.3348 - val_accuracy: 0.8713\n",
      "Epoch 11/100\n",
      "438/438 [==============================] - 1s 2ms/step - loss: 0.3552 - accuracy: 0.8486 - val_loss: 0.3328 - val_accuracy: 0.8707\n",
      "Epoch 12/100\n",
      "438/438 [==============================] - 1s 2ms/step - loss: 0.3528 - accuracy: 0.8514 - val_loss: 0.3314 - val_accuracy: 0.8660\n",
      "Epoch 13/100\n",
      "438/438 [==============================] - 1s 2ms/step - loss: 0.3515 - accuracy: 0.8529 - val_loss: 0.3315 - val_accuracy: 0.8733\n",
      "Epoch 14/100\n",
      "438/438 [==============================] - 1s 2ms/step - loss: 0.3501 - accuracy: 0.8559 - val_loss: 0.3295 - val_accuracy: 0.8733\n",
      "Epoch 15/100\n",
      "438/438 [==============================] - 1s 1ms/step - loss: 0.3487 - accuracy: 0.8540 - val_loss: 0.3298 - val_accuracy: 0.8693\n",
      "Epoch 16/100\n",
      "438/438 [==============================] - 1s 2ms/step - loss: 0.3475 - accuracy: 0.8556 - val_loss: 0.3271 - val_accuracy: 0.8760\n",
      "Epoch 17/100\n",
      "438/438 [==============================] - 1s 2ms/step - loss: 0.3474 - accuracy: 0.8537 - val_loss: 0.3284 - val_accuracy: 0.8747\n",
      "Epoch 18/100\n",
      "438/438 [==============================] - 1s 1ms/step - loss: 0.3463 - accuracy: 0.8567 - val_loss: 0.3272 - val_accuracy: 0.8727\n",
      "Epoch 19/100\n",
      "438/438 [==============================] - 1s 2ms/step - loss: 0.3453 - accuracy: 0.8563 - val_loss: 0.3280 - val_accuracy: 0.8720\n",
      "Epoch 20/100\n",
      "438/438 [==============================] - 1s 2ms/step - loss: 0.3452 - accuracy: 0.8587 - val_loss: 0.3274 - val_accuracy: 0.8713\n",
      "Epoch 21/100\n",
      "438/438 [==============================] - 1s 2ms/step - loss: 0.3449 - accuracy: 0.8577 - val_loss: 0.3278 - val_accuracy: 0.8733\n",
      "Epoch 22/100\n",
      "438/438 [==============================] - 1s 2ms/step - loss: 0.3444 - accuracy: 0.8569 - val_loss: 0.3278 - val_accuracy: 0.8700\n",
      "Epoch 23/100\n",
      "438/438 [==============================] - 1s 2ms/step - loss: 0.3442 - accuracy: 0.8589 - val_loss: 0.3283 - val_accuracy: 0.8713\n",
      "Epoch 24/100\n",
      "438/438 [==============================] - 1s 2ms/step - loss: 0.3440 - accuracy: 0.8583 - val_loss: 0.3266 - val_accuracy: 0.8727\n",
      "Epoch 25/100\n",
      "438/438 [==============================] - 1s 2ms/step - loss: 0.3437 - accuracy: 0.8574 - val_loss: 0.3288 - val_accuracy: 0.8700\n",
      "Epoch 26/100\n",
      "438/438 [==============================] - 1s 2ms/step - loss: 0.3434 - accuracy: 0.8579 - val_loss: 0.3269 - val_accuracy: 0.8740\n",
      "Epoch 27/100\n",
      "438/438 [==============================] - 1s 2ms/step - loss: 0.3434 - accuracy: 0.8564 - val_loss: 0.3283 - val_accuracy: 0.8707\n",
      "Epoch 28/100\n",
      "438/438 [==============================] - 1s 2ms/step - loss: 0.3430 - accuracy: 0.8576 - val_loss: 0.3282 - val_accuracy: 0.8740\n",
      "Epoch 29/100\n",
      "438/438 [==============================] - 1s 2ms/step - loss: 0.3433 - accuracy: 0.8580 - val_loss: 0.3280 - val_accuracy: 0.8727\n",
      "Epoch 30/100\n",
      "438/438 [==============================] - 1s 2ms/step - loss: 0.3429 - accuracy: 0.8571 - val_loss: 0.3266 - val_accuracy: 0.8713\n",
      "Epoch 31/100\n",
      "438/438 [==============================] - 1s 2ms/step - loss: 0.3427 - accuracy: 0.8577 - val_loss: 0.3274 - val_accuracy: 0.8693\n",
      "Epoch 32/100\n",
      "438/438 [==============================] - 1s 2ms/step - loss: 0.3424 - accuracy: 0.8590 - val_loss: 0.3271 - val_accuracy: 0.8707\n",
      "Epoch 33/100\n",
      "438/438 [==============================] - 1s 2ms/step - loss: 0.3425 - accuracy: 0.8586 - val_loss: 0.3274 - val_accuracy: 0.8713\n",
      "Epoch 34/100\n",
      "438/438 [==============================] - 1s 1ms/step - loss: 0.3422 - accuracy: 0.8593 - val_loss: 0.3278 - val_accuracy: 0.8713\n",
      "Epoch 35/100\n",
      "438/438 [==============================] - 1s 2ms/step - loss: 0.3422 - accuracy: 0.8567 - val_loss: 0.3279 - val_accuracy: 0.8673\n",
      "Epoch 36/100\n",
      "438/438 [==============================] - 1s 2ms/step - loss: 0.3422 - accuracy: 0.8573 - val_loss: 0.3272 - val_accuracy: 0.8727\n",
      "Epoch 37/100\n",
      "438/438 [==============================] - 1s 2ms/step - loss: 0.3415 - accuracy: 0.8580 - val_loss: 0.3273 - val_accuracy: 0.8707\n",
      "Epoch 38/100\n",
      "438/438 [==============================] - 1s 2ms/step - loss: 0.3419 - accuracy: 0.8580 - val_loss: 0.3273 - val_accuracy: 0.8687\n",
      "Epoch 39/100\n",
      "438/438 [==============================] - 1s 2ms/step - loss: 0.3417 - accuracy: 0.8581 - val_loss: 0.3273 - val_accuracy: 0.8713\n",
      "Epoch 40/100\n",
      "438/438 [==============================] - 1s 2ms/step - loss: 0.3417 - accuracy: 0.8577 - val_loss: 0.3278 - val_accuracy: 0.8707\n",
      "Epoch 41/100\n",
      "438/438 [==============================] - 1s 2ms/step - loss: 0.3415 - accuracy: 0.8574 - val_loss: 0.3267 - val_accuracy: 0.8720\n",
      "Epoch 42/100\n",
      "438/438 [==============================] - 1s 2ms/step - loss: 0.3417 - accuracy: 0.8600 - val_loss: 0.3254 - val_accuracy: 0.8713\n",
      "Epoch 43/100\n",
      "438/438 [==============================] - 1s 2ms/step - loss: 0.3413 - accuracy: 0.8583 - val_loss: 0.3259 - val_accuracy: 0.8727\n",
      "Epoch 44/100\n",
      "438/438 [==============================] - 1s 2ms/step - loss: 0.3411 - accuracy: 0.8589 - val_loss: 0.3275 - val_accuracy: 0.8707\n",
      "Epoch 45/100\n",
      "438/438 [==============================] - 1s 2ms/step - loss: 0.3413 - accuracy: 0.8606 - val_loss: 0.3257 - val_accuracy: 0.8747\n",
      "Epoch 46/100\n",
      "438/438 [==============================] - 1s 2ms/step - loss: 0.3410 - accuracy: 0.8589 - val_loss: 0.3279 - val_accuracy: 0.8700\n",
      "Epoch 47/100\n",
      "438/438 [==============================] - 1s 2ms/step - loss: 0.3405 - accuracy: 0.8589 - val_loss: 0.3260 - val_accuracy: 0.8693\n",
      "Epoch 48/100\n",
      "438/438 [==============================] - 1s 2ms/step - loss: 0.3405 - accuracy: 0.8573 - val_loss: 0.3263 - val_accuracy: 0.8700\n",
      "Epoch 49/100\n",
      "438/438 [==============================] - 1s 2ms/step - loss: 0.3406 - accuracy: 0.8596 - val_loss: 0.3271 - val_accuracy: 0.8693\n",
      "Epoch 50/100\n",
      "438/438 [==============================] - 1s 2ms/step - loss: 0.3405 - accuracy: 0.8583 - val_loss: 0.3254 - val_accuracy: 0.8713\n",
      "Epoch 51/100\n",
      "438/438 [==============================] - 1s 2ms/step - loss: 0.3405 - accuracy: 0.8599 - val_loss: 0.3254 - val_accuracy: 0.8733\n",
      "Epoch 52/100\n",
      "438/438 [==============================] - 1s 2ms/step - loss: 0.3404 - accuracy: 0.8597 - val_loss: 0.3251 - val_accuracy: 0.8733\n",
      "Epoch 53/100\n",
      "438/438 [==============================] - 1s 2ms/step - loss: 0.3399 - accuracy: 0.8613 - val_loss: 0.3252 - val_accuracy: 0.8707\n",
      "Epoch 54/100\n",
      "438/438 [==============================] - 1s 2ms/step - loss: 0.3399 - accuracy: 0.8591 - val_loss: 0.3247 - val_accuracy: 0.8687\n",
      "Epoch 55/100\n",
      "438/438 [==============================] - 1s 2ms/step - loss: 0.3398 - accuracy: 0.8593 - val_loss: 0.3262 - val_accuracy: 0.8720\n",
      "Epoch 56/100\n",
      "438/438 [==============================] - 1s 2ms/step - loss: 0.3397 - accuracy: 0.8584 - val_loss: 0.3242 - val_accuracy: 0.8707\n",
      "Epoch 57/100\n",
      "438/438 [==============================] - 1s 2ms/step - loss: 0.3397 - accuracy: 0.8594 - val_loss: 0.3234 - val_accuracy: 0.8727\n"
     ]
    },
    {
     "name": "stdout",
     "output_type": "stream",
     "text": [
      "Epoch 58/100\n",
      "438/438 [==============================] - 1s 2ms/step - loss: 0.3394 - accuracy: 0.8594 - val_loss: 0.3231 - val_accuracy: 0.8747\n",
      "Epoch 59/100\n",
      "438/438 [==============================] - 1s 2ms/step - loss: 0.3393 - accuracy: 0.8597 - val_loss: 0.3249 - val_accuracy: 0.8720\n",
      "Epoch 60/100\n",
      "438/438 [==============================] - 1s 2ms/step - loss: 0.3391 - accuracy: 0.8601 - val_loss: 0.3227 - val_accuracy: 0.8733\n",
      "Epoch 61/100\n",
      "438/438 [==============================] - 1s 1ms/step - loss: 0.3394 - accuracy: 0.8614 - val_loss: 0.3225 - val_accuracy: 0.8720\n",
      "Epoch 62/100\n",
      "438/438 [==============================] - 1s 2ms/step - loss: 0.3390 - accuracy: 0.8583 - val_loss: 0.3231 - val_accuracy: 0.8753\n",
      "Epoch 63/100\n",
      "438/438 [==============================] - 1s 2ms/step - loss: 0.3388 - accuracy: 0.8600 - val_loss: 0.3229 - val_accuracy: 0.8727\n",
      "Epoch 64/100\n",
      "438/438 [==============================] - 1s 2ms/step - loss: 0.3389 - accuracy: 0.8599 - val_loss: 0.3223 - val_accuracy: 0.8700\n",
      "Epoch 65/100\n",
      "438/438 [==============================] - 1s 2ms/step - loss: 0.3385 - accuracy: 0.8601 - val_loss: 0.3231 - val_accuracy: 0.8740\n",
      "Epoch 66/100\n",
      "438/438 [==============================] - 1s 2ms/step - loss: 0.3387 - accuracy: 0.8594 - val_loss: 0.3236 - val_accuracy: 0.8693\n",
      "Epoch 67/100\n",
      "438/438 [==============================] - 1s 2ms/step - loss: 0.3385 - accuracy: 0.8606 - val_loss: 0.3228 - val_accuracy: 0.8760\n",
      "Epoch 68/100\n",
      "438/438 [==============================] - 1s 2ms/step - loss: 0.3384 - accuracy: 0.8601 - val_loss: 0.3235 - val_accuracy: 0.8720\n",
      "Epoch 69/100\n",
      "438/438 [==============================] - 1s 2ms/step - loss: 0.3383 - accuracy: 0.8614 - val_loss: 0.3227 - val_accuracy: 0.8720\n",
      "Epoch 70/100\n",
      "438/438 [==============================] - 1s 2ms/step - loss: 0.3384 - accuracy: 0.8584 - val_loss: 0.3231 - val_accuracy: 0.8707\n",
      "Epoch 71/100\n",
      "438/438 [==============================] - 1s 2ms/step - loss: 0.3382 - accuracy: 0.8597 - val_loss: 0.3224 - val_accuracy: 0.8753\n",
      "Epoch 72/100\n",
      "438/438 [==============================] - 1s 2ms/step - loss: 0.3381 - accuracy: 0.8597 - val_loss: 0.3225 - val_accuracy: 0.8747\n",
      "Epoch 73/100\n",
      "438/438 [==============================] - 1s 2ms/step - loss: 0.3383 - accuracy: 0.8616 - val_loss: 0.3224 - val_accuracy: 0.8687\n",
      "Epoch 74/100\n",
      "438/438 [==============================] - 1s 2ms/step - loss: 0.3384 - accuracy: 0.8589 - val_loss: 0.3237 - val_accuracy: 0.8727\n",
      "Epoch 75/100\n",
      "438/438 [==============================] - 1s 2ms/step - loss: 0.3384 - accuracy: 0.8590 - val_loss: 0.3226 - val_accuracy: 0.8740\n",
      "Epoch 76/100\n",
      "438/438 [==============================] - 1s 2ms/step - loss: 0.3381 - accuracy: 0.8584 - val_loss: 0.3234 - val_accuracy: 0.8713\n",
      "Epoch 77/100\n",
      "438/438 [==============================] - 1s 2ms/step - loss: 0.3378 - accuracy: 0.8613 - val_loss: 0.3228 - val_accuracy: 0.8747\n",
      "Epoch 78/100\n",
      "438/438 [==============================] - 1s 2ms/step - loss: 0.3381 - accuracy: 0.8591 - val_loss: 0.3215 - val_accuracy: 0.8733\n",
      "Epoch 79/100\n",
      "438/438 [==============================] - 1s 2ms/step - loss: 0.3380 - accuracy: 0.8593 - val_loss: 0.3211 - val_accuracy: 0.8747\n",
      "Epoch 80/100\n",
      "438/438 [==============================] - 1s 2ms/step - loss: 0.3376 - accuracy: 0.8610 - val_loss: 0.3224 - val_accuracy: 0.8760\n",
      "Epoch 81/100\n",
      "438/438 [==============================] - 1s 2ms/step - loss: 0.3376 - accuracy: 0.8586 - val_loss: 0.3235 - val_accuracy: 0.8727\n",
      "Epoch 82/100\n",
      "438/438 [==============================] - 1s 2ms/step - loss: 0.3375 - accuracy: 0.8583 - val_loss: 0.3228 - val_accuracy: 0.8733\n",
      "Epoch 83/100\n",
      "438/438 [==============================] - 1s 2ms/step - loss: 0.3378 - accuracy: 0.8596 - val_loss: 0.3230 - val_accuracy: 0.8720\n",
      "Epoch 84/100\n",
      "438/438 [==============================] - 1s 2ms/step - loss: 0.3376 - accuracy: 0.8606 - val_loss: 0.3212 - val_accuracy: 0.8733\n",
      "Epoch 85/100\n",
      "438/438 [==============================] - 1s 2ms/step - loss: 0.3374 - accuracy: 0.8597 - val_loss: 0.3221 - val_accuracy: 0.8740\n",
      "Epoch 86/100\n",
      "438/438 [==============================] - 1s 2ms/step - loss: 0.3377 - accuracy: 0.8597 - val_loss: 0.3225 - val_accuracy: 0.8747\n",
      "Epoch 87/100\n",
      "438/438 [==============================] - 1s 2ms/step - loss: 0.3375 - accuracy: 0.8590 - val_loss: 0.3218 - val_accuracy: 0.8767\n",
      "Epoch 88/100\n",
      "438/438 [==============================] - 1s 2ms/step - loss: 0.3377 - accuracy: 0.8577 - val_loss: 0.3212 - val_accuracy: 0.8760\n",
      "Epoch 89/100\n",
      "438/438 [==============================] - 1s 2ms/step - loss: 0.3375 - accuracy: 0.8586 - val_loss: 0.3233 - val_accuracy: 0.8733\n",
      "Epoch 90/100\n",
      "438/438 [==============================] - 1s 2ms/step - loss: 0.3376 - accuracy: 0.8597 - val_loss: 0.3215 - val_accuracy: 0.8747\n",
      "Epoch 91/100\n",
      "438/438 [==============================] - 1s 2ms/step - loss: 0.3376 - accuracy: 0.8589 - val_loss: 0.3213 - val_accuracy: 0.8733\n",
      "Epoch 92/100\n",
      "438/438 [==============================] - 1s 2ms/step - loss: 0.3372 - accuracy: 0.8599 - val_loss: 0.3202 - val_accuracy: 0.8753\n",
      "Epoch 93/100\n",
      "438/438 [==============================] - 1s 2ms/step - loss: 0.3373 - accuracy: 0.8581 - val_loss: 0.3224 - val_accuracy: 0.8733\n",
      "Epoch 94/100\n",
      "438/438 [==============================] - 1s 2ms/step - loss: 0.3372 - accuracy: 0.8600 - val_loss: 0.3214 - val_accuracy: 0.8747\n",
      "Epoch 95/100\n",
      "438/438 [==============================] - 1s 2ms/step - loss: 0.3373 - accuracy: 0.8597 - val_loss: 0.3204 - val_accuracy: 0.8733\n",
      "Epoch 96/100\n",
      "438/438 [==============================] - 1s 2ms/step - loss: 0.3373 - accuracy: 0.8574 - val_loss: 0.3220 - val_accuracy: 0.8713\n",
      "Epoch 97/100\n",
      "438/438 [==============================] - 1s 2ms/step - loss: 0.3372 - accuracy: 0.8597 - val_loss: 0.3217 - val_accuracy: 0.8767\n",
      "Epoch 98/100\n",
      "438/438 [==============================] - 1s 2ms/step - loss: 0.3374 - accuracy: 0.8586 - val_loss: 0.3218 - val_accuracy: 0.8727\n",
      "Epoch 99/100\n",
      "438/438 [==============================] - 1s 2ms/step - loss: 0.3372 - accuracy: 0.8599 - val_loss: 0.3208 - val_accuracy: 0.8713\n",
      "Epoch 100/100\n",
      "438/438 [==============================] - 1s 2ms/step - loss: 0.3372 - accuracy: 0.8596 - val_loss: 0.3219 - val_accuracy: 0.8760\n"
     ]
    }
   ],
   "source": [
    "myModel = model.fit(X_train, y_train, batch_size = 16, epochs = 100,validation_data=(X_val, Y_val))"
   ]
  },
  {
   "cell_type": "markdown",
   "metadata": {
    "colab_type": "text",
    "id": "84QFoqGYeXHL"
   },
   "source": [
    "### Predicting the result of a single observation"
   ]
  },
  {
   "cell_type": "markdown",
   "metadata": {
    "colab_type": "text",
    "id": "CGRo3eacgDdC"
   },
   "source": [
    "\n",
    "\n",
    "Use  ANN model to predict if the customer with the following informations will leave the bank: \n",
    "\n",
    "Geography: France\n",
    "\n",
    "Credit Score: 600\n",
    "\n",
    "Gender: Male\n",
    "\n",
    "Age: 40 years old\n",
    "\n",
    "Tenure: 3 years\n",
    "\n",
    "Balance: \\$ 60000\n",
    "\n",
    "Number of Products: 2\n",
    "\n",
    "Does this customer have a credit card ? Yes\n",
    "\n",
    "Is this customer an Active Member: Yes\n",
    "\n",
    "Estimated Salary: \\$ 50000\n",
    "\n",
    "So, should we say no to that customer ?"
   ]
  },
  {
   "cell_type": "markdown",
   "metadata": {
    "colab_type": "text",
    "id": "ZhU1LTgPg-kH"
   },
   "source": [
    "**Solution**"
   ]
  },
  {
   "cell_type": "code",
   "execution_count": 19,
   "metadata": {
    "colab": {
     "base_uri": "https://localhost:8080/",
     "height": 34
    },
    "colab_type": "code",
    "id": "2d8IoCCkeWGL",
    "outputId": "957f3970-e197-4c3b-a150-7f69dc567f5d"
   },
   "outputs": [
    {
     "name": "stdout",
     "output_type": "stream",
     "text": [
      "[[False]]\n"
     ]
    }
   ],
   "source": [
    "print(model.predict(sc.transform([[1, 0, 0, 600, 1, 40, 3, 60000, 2, 1, 1, 50000]])) > 0.5)"
   ]
  },
  {
   "cell_type": "markdown",
   "metadata": {
    "colab_type": "text",
    "id": "wGjx94g2n7OV"
   },
   "source": [
    "Therefore, our ANN/DNN model predicts that this customer stays in the bank!\n",
    "\n",
    "**Important note 1:** Notice that the values of the features were all input in a double pair of square brackets. That's because the \"predict\" method always expects a 2D array as the format of its inputs. And putting our values into a double pair of square brackets makes the input exactly a 2D array.\n",
    "\n",
    "**Important note 2:** Notice also that the \"France\" country was not input as a string in the last column but as \"1, 0, 0\" in the first three columns. That's because of course the predict method expects the one-hot-encoded values of the state, and as we see in the first row of the matrix of features X, \"France\" was encoded as \"1, 0, 0\". And be careful to include these values in the first three columns, because the dummy variables are always created in the first columns."
   ]
  },
  {
   "cell_type": "markdown",
   "metadata": {
    "colab_type": "text",
    "id": "u7yx47jPZt11"
   },
   "source": [
    "### Predicting the Test set results"
   ]
  },
  {
   "cell_type": "code",
   "execution_count": 20,
   "metadata": {
    "colab": {
     "base_uri": "https://localhost:8080/",
     "height": 137
    },
    "colab_type": "code",
    "id": "nIyEeQdRZwgs",
    "outputId": "82330ba8-9bdc-4fd1-d3cf-b6d78ee7c2a3"
   },
   "outputs": [
    {
     "name": "stdout",
     "output_type": "stream",
     "text": [
      "[[1 1]\n",
      " [0 0]\n",
      " [0 0]\n",
      " ...\n",
      " [0 0]\n",
      " [0 0]\n",
      " [0 0]]\n"
     ]
    }
   ],
   "source": [
    "y_pred = model.predict(X_test)\n",
    "y_pred = (y_pred > 0.5)\n",
    "print(np.concatenate((y_pred.reshape(len(y_pred),1), Y_test.reshape(len(Y_test),1)),1))"
   ]
  },
  {
   "cell_type": "markdown",
   "metadata": {
    "colab_type": "text",
    "id": "o0oyfLWoaEGw"
   },
   "source": [
    "### Making the Confusion Matrix"
   ]
  },
  {
   "cell_type": "code",
   "execution_count": 21,
   "metadata": {
    "colab": {
     "base_uri": "https://localhost:8080/",
     "height": 68
    },
    "colab_type": "code",
    "id": "ci6K_r6LaF6P",
    "outputId": "4d854e9e-22d5-432f-f6e5-a102fe3ae0bd"
   },
   "outputs": [
    {
     "name": "stdout",
     "output_type": "stream",
     "text": [
      "[[1167   47]\n",
      " [ 161  125]]\n"
     ]
    },
    {
     "data": {
      "text/plain": [
       "0.8613333333333333"
      ]
     },
     "execution_count": 21,
     "metadata": {},
     "output_type": "execute_result"
    }
   ],
   "source": [
    "from sklearn.metrics import confusion_matrix, accuracy_score\n",
    "cm = confusion_matrix(Y_test, y_pred)\n",
    "print(cm)\n",
    "accuracy_score(Y_test, y_pred)"
   ]
  },
  {
   "cell_type": "code",
   "execution_count": 22,
   "metadata": {},
   "outputs": [
    {
     "data": {
      "image/png": "[encoded data removed]",
      "text/plain": [
       "<Figure size 432x288 with 1 Axes>"
      ]
     },
     "metadata": {
      "needs_background": "light"
     },
     "output_type": "display_data"
    }
   ],
   "source": [
    "import matplotlib.pyplot as plt\n",
    "plt.plot(myModel.history['loss'])\n",
    "plt.plot(myModel.history['val_loss'])\n",
    "plt.title('Model loss')\n",
    "plt.ylabel('Loss')\n",
    "plt.xlabel('Epoch')\n",
    "plt.legend(['Train', 'Val'], loc='upper right')\n",
    "plt.show()"
   ]
  },
  {
   "cell_type": "code",
   "execution_count": 23,
   "metadata": {},
   "outputs": [
    {
     "data": {
      "image/png": "[encoded data removed]",
      "text/plain": [
       "<Figure size 432x288 with 1 Axes>"
      ]
     },
     "metadata": {
      "needs_background": "light"
     },
     "output_type": "display_data"
    }
   ],
   "source": [
    "plt.plot(myModel.history['accuracy'])\n",
    "plt.plot(myModel.history['val_accuracy'])\n",
    "plt.title('Model accuracy')\n",
    "plt.ylabel('Accuracy')\n",
    "plt.xlabel('Epoch')\n",
    "plt.legend(['Train', 'Val'], loc='lower right')\n",
    "plt.show()"
   ]
  },
  {
   "cell_type": "code",
   "execution_count": null,
   "metadata": {},
   "outputs": [],
   "source": []
  },
  {
   "cell_type": "code",
   "execution_count": null,
   "metadata": {},
   "outputs": [],
   "source": []
  },
  {
   "cell_type": "code",
   "execution_count": null,
   "metadata": {},
   "outputs": [],
   "source": []
  },
  {
   "cell_type": "code",
   "execution_count": null,
   "metadata": {},
   "outputs": [],
   "source": []
  }
 ],
 "metadata": {
  "colab": {
   "collapsed_sections": [],
   "name": "artificial_neural_network.ipynb",
   "provenance": [],
   "toc_visible": true
  },
  "kernelspec": {
   "display_name": "Python 3 (ipykernel)",
   "language": "python",
   "name": "python3"
  },
  "language_info": {
   "codemirror_mode": {
    "name": "ipython",
    "version": 3
   },
   "file_extension": ".py",
   "mimetype": "text/x-python",
   "name": "python",
   "nbconvert_exporter": "python",
   "pygments_lexer": "ipython3",
   "version": "3.9.7"
  }
 },
 "nbformat": 4,
 "nbformat_minor": 1
}
