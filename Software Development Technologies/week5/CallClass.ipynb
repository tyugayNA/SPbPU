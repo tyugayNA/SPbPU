{
 "cells": [
  {
   "cell_type": "code",
   "execution_count": 1,
   "id": "7d3409e0",
   "metadata": {},
   "outputs": [
    {
     "name": "stdout",
     "output_type": "stream",
     "text": [
      "150\n",
      "8\n",
      "GFG\n"
     ]
    }
   ],
   "source": [
    "import myModule\n",
    "   \n",
    "# Created a class object\n",
    "Ogul = myModule.GFG()\n",
    "   \n",
    "# Calling and printing class methods\n",
    "print(Ogul.add(145,5))\n",
    "print(Ogul.sub(13,5))\n",
    "   \n",
    "# Calling the function\n",
    "myModule.method()"
   ]
  },
  {
   "cell_type": "code",
   "execution_count": null,
   "id": "1adf3d17",
   "metadata": {},
   "outputs": [],
   "source": []
  }
 ],
 "metadata": {
  "kernelspec": {
   "display_name": "Python 3 (ipykernel)",
   "language": "python",
   "name": "python3"
  },
  "language_info": {
   "codemirror_mode": {
    "name": "ipython",
    "version": 3
   },
   "file_extension": ".py",
   "mimetype": "text/x-python",
   "name": "python",
   "nbconvert_exporter": "python",
   "pygments_lexer": "ipython3",
   "version": "3.9.7"
  }
 },
 "nbformat": 4,
 "nbformat_minor": 5
}
