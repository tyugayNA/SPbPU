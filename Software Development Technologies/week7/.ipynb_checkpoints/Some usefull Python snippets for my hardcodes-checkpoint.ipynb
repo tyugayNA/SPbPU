{
 "cells": [
  {
   "cell_type": "code",
   "execution_count": 5,
   "metadata": {},
   "outputs": [
    {
     "name": "stdout",
     "output_type": "stream",
     "text": [
      "Peter\n",
      "David\n"
     ]
    }
   ],
   "source": [
    "#Swap values between two variables\n",
    "a = 'David'                               \n",
    "b = 'Peter'                                                        \n",
    "a, b = b, a                                                           \n",
    "print(a) # 10                               \n",
    "print(b) # 5"
   ]
  },
  {
   "cell_type": "code",
   "execution_count": 2,
   "metadata": {},
   "outputs": [
    {
     "data": {
      "text/plain": [
       "True"
      ]
     },
     "execution_count": 2,
     "metadata": {},
     "output_type": "execute_result"
    }
   ],
   "source": [
    "# Check if the given number is even\n",
    "def is_even(num):\n",
    "    return num % 2 == 0\n",
    "is_even(10) # True"
   ]
  },
  {
   "cell_type": "code",
   "execution_count": 3,
   "metadata": {},
   "outputs": [
    {
     "data": {
      "text/plain": [
       "['50', ' python', ' snippets']"
      ]
     },
     "execution_count": 3,
     "metadata": {},
     "output_type": "execute_result"
    }
   ],
   "source": [
    "#  Split a multiline string into a list of lines\n",
    "def split_lines(s):\n",
    "    return s.split('\\n')\n",
    "split_lines('50\\n python\\n snippets') # ['50', ' python', ' snippets']"
   ]
  },
  {
   "cell_type": "code",
   "execution_count": 9,
   "metadata": {},
   "outputs": [
    {
     "name": "stdout",
     "output_type": "stream",
     "text": [
      "28\n",
      "55\n"
     ]
    }
   ],
   "source": [
    "#  Find memory used by an object\n",
    "import sys\n",
    "print(sys.getsizeof(5)) # 28\n",
    "print(sys.getsizeof(\"Python\")) # 55"
   ]
  },
  {
   "cell_type": "code",
   "execution_count": 2,
   "metadata": {},
   "outputs": [
    {
     "name": "stdout",
     "output_type": "stream",
     "text": [
      "lugO\n"
     ]
    }
   ],
   "source": [
    "#Reverse a string\n",
    "language = \"Ogul\"                                \n",
    "reversed_language = language[::-1]                 \n",
    "print(reversed_language) # nohtyp"
   ]
  },
  {
   "cell_type": "code",
   "execution_count": 6,
   "metadata": {},
   "outputs": [
    {
     "data": {
      "text/plain": [
       "'ogulogulogulogulogul'"
      ]
     },
     "execution_count": 6,
     "metadata": {},
     "output_type": "execute_result"
    }
   ],
   "source": [
    "#Print a string n times\n",
    "def repeat(string, n):\n",
    "    return (string * n)\n",
    "repeat('ogul', 5) # pythonpythonpython"
   ]
  },
  {
   "cell_type": "code",
   "execution_count": 7,
   "metadata": {},
   "outputs": [
    {
     "data": {
      "text/plain": [
       "False"
      ]
     },
     "execution_count": 7,
     "metadata": {},
     "output_type": "execute_result"
    }
   ],
   "source": [
    "#Check if a string is a palindrome\n",
    "def palindrome(string):\n",
    "    return string == string[::-1]\n",
    "palindrome('TeneTd') # Fals"
   ]
  },
  {
   "cell_type": "code",
   "execution_count": 13,
   "metadata": {},
   "outputs": [
    {
     "name": "stdout",
     "output_type": "stream",
     "text": [
      "50,python,snippets\n"
     ]
    }
   ],
   "source": [
    "#Combine a list of strings into a single string\n",
    "strings = ['50', 'python', 'snippets']\n",
    "print(','.join(strings)) # 50,python,snippets"
   ]
  },
  {
   "cell_type": "code",
   "execution_count": 16,
   "metadata": {},
   "outputs": [
    {
     "name": "stdout",
     "output_type": "stream",
     "text": [
      "1\n"
     ]
    }
   ],
   "source": [
    "#Find the first element of a list\n",
    "def head(list):\n",
    "    return list[0]\n",
    "print(head([1, 2, 3, 4, 5])) # 1"
   ]
  },
  {
   "cell_type": "code",
   "execution_count": 17,
   "metadata": {},
   "outputs": [
    {
     "data": {
      "text/plain": [
       "[1, 2, 3, 4, 5, 6, 8]"
      ]
     },
     "execution_count": 17,
     "metadata": {},
     "output_type": "execute_result"
    }
   ],
   "source": [
    "#Find elements that exist in either of the two lists\n",
    "def union(a,b):\n",
    "    return list(set(a + b))\n",
    "union([1, 2, 3, 4, 5], [6, 2, 8, 1, 4]) # [1,2,3,4,5,6,8]"
   ]
  },
  {
   "cell_type": "code",
   "execution_count": 18,
   "metadata": {},
   "outputs": [
    {
     "data": {
      "text/plain": [
       "[1, 2, 3, 4]"
      ]
     },
     "execution_count": 18,
     "metadata": {},
     "output_type": "execute_result"
    }
   ],
   "source": [
    "#Find all the unique elements present in a given list\n",
    "def unique_elements(numbers):\n",
    "    return list(set(numbers))\n",
    "unique_elements([1, 2, 3, 2, 4]) # [1, 2, 3, 4]"
   ]
  },
  {
   "cell_type": "code",
   "execution_count": 19,
   "metadata": {},
   "outputs": [
    {
     "data": {
      "text/plain": [
       "5.0"
      ]
     },
     "execution_count": 19,
     "metadata": {},
     "output_type": "execute_result"
    }
   ],
   "source": [
    "#Find the average of a list of numbers\n",
    "def average(*args): #mean\n",
    "    return sum(args, 0.0) / len(args)\n",
    "average(5, 8, 2) # 5.0"
   ]
  },
  {
   "cell_type": "code",
   "execution_count": 1,
   "metadata": {},
   "outputs": [
    {
     "name": "stdout",
     "output_type": "stream",
     "text": [
      "List has duplicates\n"
     ]
    }
   ],
   "source": [
    "#Check if a list contains all unique values\n",
    "def unique(list):\n",
    "    if len(list)==len(set(list)):\n",
    "        print(\"All elements are unique\")\n",
    "    else:\n",
    "        print(\"List has duplicates\")\n",
    "unique([1,2,3,3,5,5]) # All elements are unique"
   ]
  },
  {
   "cell_type": "code",
   "execution_count": 22,
   "metadata": {},
   "outputs": [
    {
     "name": "stdout",
     "output_type": "stream",
     "text": [
      "Counter({2: 3, 3: 3, 1: 1, 4: 1})\n"
     ]
    }
   ],
   "source": [
    "#Track frequency of elements in a list\n",
    "from collections import Counter\n",
    "list = [1, 2, 3, 2, 4, 3, 2, 3]\n",
    "count = Counter(list)\n",
    "print(count) # {2: 3, 3: 3, 1: 1, 4: 1}"
   ]
  },
  {
   "cell_type": "code",
   "execution_count": 24,
   "metadata": {},
   "outputs": [
    {
     "data": {
      "text/plain": [
       "3"
      ]
     },
     "execution_count": 24,
     "metadata": {},
     "output_type": "execute_result"
    }
   ],
   "source": [
    "#Find the most frequent element in a list\n",
    "def most_frequent(list):\n",
    "    return max(set(list), key = list.count)\n",
    "numbers = [1, 2, 3, 2, 4, 3, 1, 3]\n",
    "most_frequent(numbers) # 3"
   ]
  },
  {
   "cell_type": "code",
   "execution_count": 27,
   "metadata": {},
   "outputs": [
    {
     "data": {
      "text/plain": [
       "1.5707963267948966"
      ]
     },
     "execution_count": 27,
     "metadata": {},
     "output_type": "execute_result"
    }
   ],
   "source": [
    "#Convert an angle from degrees to radians\n",
    "import math\n",
    "def degrees_to_radians(deg):\n",
    "    return (deg * math.pi) / 180.0\n",
    "degrees_to_radians(90) "
   ]
  },
  {
   "cell_type": "code",
   "execution_count": 28,
   "metadata": {},
   "outputs": [
    {
     "name": "stdout",
     "output_type": "stream",
     "text": [
      "Time taken in micro_seconds: 0.0\n"
     ]
    }
   ],
   "source": [
    "#Calculate time taken to execute a piece of code\n",
    "import time\n",
    "start_time = time.time()\n",
    "a,b = 5,10\n",
    "c = a+b\n",
    "end_time = time.time()\n",
    "time_taken = (end_time- start_time)*(10**6)\n",
    "print(\"Time taken in micro_seconds:\", time_taken) "
   ]
  },
  {
   "cell_type": "code",
   "execution_count": 29,
   "metadata": {},
   "outputs": [
    {
     "data": {
      "text/plain": [
       "6"
      ]
     },
     "execution_count": 29,
     "metadata": {},
     "output_type": "execute_result"
    }
   ],
   "source": [
    "#Find gcd of a list of numbers\n",
    "from functools import reduce\n",
    "import math\n",
    "def gcd(numbers):\n",
    "    return reduce(math.gcd, numbers)\n",
    "gcd([24,108,90]) "
   ]
  },
  {
   "cell_type": "code",
   "execution_count": 30,
   "metadata": {},
   "outputs": [
    {
     "name": "stdout",
     "output_type": "stream",
     "text": [
      "cdab\n"
     ]
    }
   ],
   "source": [
    "#Find unique characters in a string\n",
    "string = \"abcbcabdb\"   \n",
    "unique = set(string)\n",
    "new_string = ''.join(unique)\n",
    "print(new_string) "
   ]
  },
  {
   "cell_type": "code",
   "execution_count": 31,
   "metadata": {},
   "outputs": [
    {
     "name": "stdout",
     "output_type": "stream",
     "text": [
      "35\n"
     ]
    }
   ],
   "source": [
    "# Use lambda functions --Lambda is an anonymous function with the capability of holding a single expression only.\n",
    "x = lambda a, b, c : a + b + c\n",
    "print(x(5, 10, 20)) # 35"
   ]
  },
  {
   "cell_type": "code",
   "execution_count": 37,
   "metadata": {},
   "outputs": [
    {
     "name": "stdout",
     "output_type": "stream",
     "text": [
      "[3, 4, 5, 1, 2]\n"
     ]
    }
   ],
   "source": [
    "\"\"\"Slicing is used to extract a continuous sequence or subsequence of elements from a given sequence. \n",
    "The following function is used for concatenating the results of two slicing operations. First, we are slicing the list \n",
    "from index d to end, then from start to index d.\"\"\"\n",
    "def rotate(arr, d):\n",
    "\n",
    "    return arr[d:] + arr[:d]\n",
    "  \n",
    "if __name__ == '__main__':\n",
    "    arr = [1, 2, 3, 4, 5]\n",
    "    arr = rotate(arr, 2)\n",
    "    print (arr) # [3, 4, 5, 1, 2]"
   ]
  },
  {
   "cell_type": "code",
   "execution_count": 40,
   "metadata": {},
   "outputs": [
    {
     "name": "stdout",
     "output_type": "stream",
     "text": [
      "15\n"
     ]
    }
   ],
   "source": [
    "#The final snippet is used to call multiple functions from a single line\n",
    "def add(a, b):\n",
    "    return a + b\n",
    "def subtract(a, b):   \n",
    "    return a - b\n",
    "a, b = 5, 10\n",
    "print((subtract if a > b else add)(a, b)) "
   ]
  },
  {
   "cell_type": "code",
   "execution_count": null,
   "metadata": {},
   "outputs": [],
   "source": []
  }
 ],
 "metadata": {
  "kernelspec": {
   "display_name": "Python 3 (ipykernel)",
   "language": "python",
   "name": "python3"
  },
  "language_info": {
   "codemirror_mode": {
    "name": "ipython",
    "version": 3
   },
   "file_extension": ".py",
   "mimetype": "text/x-python",
   "name": "python",
   "nbconvert_exporter": "python",
   "pygments_lexer": "ipython3",
   "version": "3.9.13"
  }
 },
 "nbformat": 4,
 "nbformat_minor": 2
}
