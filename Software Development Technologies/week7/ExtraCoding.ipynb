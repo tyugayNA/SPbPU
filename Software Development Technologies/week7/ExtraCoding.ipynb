{
 "cells": [
  {
   "cell_type": "code",
   "execution_count": 1,
   "metadata": {},
   "outputs": [
    {
     "data": {
      "text/plain": [
       "(4, 5, 6, 7)"
      ]
     },
     "execution_count": 1,
     "metadata": {},
     "output_type": "execute_result"
    }
   ],
   "source": [
    "t = (4,5,6,7)\n",
    "t"
   ]
  },
  {
   "cell_type": "code",
   "execution_count": 2,
   "metadata": {},
   "outputs": [
    {
     "data": {
      "text/plain": [
       "[10, 4, 20.4, 30.0]"
      ]
     },
     "execution_count": 2,
     "metadata": {},
     "output_type": "execute_result"
    }
   ],
   "source": [
    "l= [10,4,20.4,30.00]\n",
    "l"
   ]
  },
  {
   "cell_type": "code",
   "execution_count": 3,
   "metadata": {},
   "outputs": [
    {
     "data": {
      "text/plain": [
       "'xyztr'"
      ]
     },
     "execution_count": 3,
     "metadata": {},
     "output_type": "execute_result"
    }
   ],
   "source": [
    "s = 'xyztr'\n",
    "s"
   ]
  },
  {
   "cell_type": "code",
   "execution_count": 5,
   "metadata": {},
   "outputs": [
    {
     "name": "stdout",
     "output_type": "stream",
     "text": [
      "4 5 6 7 "
     ]
    }
   ],
   "source": [
    "for i in t:  # iterable is any object that you can use looping\n",
    "    print(i, end =' ')\n"
   ]
  },
  {
   "cell_type": "code",
   "execution_count": 1,
   "metadata": {},
   "outputs": [
    {
     "name": "stdout",
     "output_type": "stream",
     "text": [
      "Help on class range in module builtins:\n",
      "\n",
      "class range(object)\n",
      " |  range(stop) -> range object\n",
      " |  range(start, stop[, step]) -> range object\n",
      " |  \n",
      " |  Return an object that produces a sequence of integers from start (inclusive)\n",
      " |  to stop (exclusive) by step.  range(i, j) produces i, i+1, i+2, ..., j-1.\n",
      " |  start defaults to 0, and stop is omitted!  range(4) produces 0, 1, 2, 3.\n",
      " |  These are exactly the valid indices for a list of 4 elements.\n",
      " |  When step is given, it specifies the increment (or decrement).\n",
      " |  \n",
      " |  Methods defined here:\n",
      " |  \n",
      " |  __bool__(self, /)\n",
      " |      self != 0\n",
      " |  \n",
      " |  __contains__(self, key, /)\n",
      " |      Return key in self.\n",
      " |  \n",
      " |  __eq__(self, value, /)\n",
      " |      Return self==value.\n",
      " |  \n",
      " |  __ge__(self, value, /)\n",
      " |      Return self>=value.\n",
      " |  \n",
      " |  __getattribute__(self, name, /)\n",
      " |      Return getattr(self, name).\n",
      " |  \n",
      " |  __getitem__(self, key, /)\n",
      " |      Return self[key].\n",
      " |  \n",
      " |  __gt__(self, value, /)\n",
      " |      Return self>value.\n",
      " |  \n",
      " |  __hash__(self, /)\n",
      " |      Return hash(self).\n",
      " |  \n",
      " |  __iter__(self, /)\n",
      " |      Implement iter(self).\n",
      " |  \n",
      " |  __le__(self, value, /)\n",
      " |      Return self<=value.\n",
      " |  \n",
      " |  __len__(self, /)\n",
      " |      Return len(self).\n",
      " |  \n",
      " |  __lt__(self, value, /)\n",
      " |      Return self<value.\n",
      " |  \n",
      " |  __ne__(self, value, /)\n",
      " |      Return self!=value.\n",
      " |  \n",
      " |  __new__(*args, **kwargs) from builtins.type\n",
      " |      Create and return a new object.  See help(type) for accurate signature.\n",
      " |  \n",
      " |  __reduce__(...)\n",
      " |      helper for pickle\n",
      " |  \n",
      " |  __repr__(self, /)\n",
      " |      Return repr(self).\n",
      " |  \n",
      " |  __reversed__(...)\n",
      " |      Return a reverse iterator.\n",
      " |  \n",
      " |  count(...)\n",
      " |      rangeobject.count(value) -> integer -- return number of occurrences of value\n",
      " |  \n",
      " |  index(...)\n",
      " |      rangeobject.index(value, [start, [stop]]) -> integer -- return index of value.\n",
      " |      Raise ValueError if the value is not present.\n",
      " |  \n",
      " |  ----------------------------------------------------------------------\n",
      " |  Data descriptors defined here:\n",
      " |  \n",
      " |  start\n",
      " |  \n",
      " |  step\n",
      " |  \n",
      " |  stop\n",
      "\n"
     ]
    }
   ],
   "source": [
    "help('range')\n",
    "# run this code to get more help"
   ]
  },
  {
   "cell_type": "code",
   "execution_count": 9,
   "metadata": {},
   "outputs": [
    {
     "name": "stdout",
     "output_type": "stream",
     "text": [
      "0 1 2 3 4 "
     ]
    }
   ],
   "source": [
    "for i in range(5):\n",
    "    print(i,end=' ')"
   ]
  },
  {
   "cell_type": "code",
   "execution_count": 10,
   "metadata": {},
   "outputs": [
    {
     "name": "stdout",
     "output_type": "stream",
     "text": [
      "0\n",
      "1\n"
     ]
    }
   ],
   "source": [
    "#nested loops  are important in any programming language\n",
    "for i in range(2):\n",
    "    print(i)\n"
   ]
  },
  {
   "cell_type": "code",
   "execution_count": 11,
   "metadata": {},
   "outputs": [
    {
     "name": "stdout",
     "output_type": "stream",
     "text": [
      "0\n",
      "1\n",
      "2\n",
      "3\n",
      "4\n"
     ]
    }
   ],
   "source": [
    "for j in range(5):\n",
    "    print(j)"
   ]
  },
  {
   "cell_type": "code",
   "execution_count": 12,
   "metadata": {},
   "outputs": [
    {
     "name": "stdout",
     "output_type": "stream",
     "text": [
      "[0, 0]\n",
      "[0, 1]\n",
      "[0, 2]\n",
      "[0, 3]\n",
      "[0, 4]\n",
      "[1, 0]\n",
      "[1, 1]\n",
      "[1, 2]\n",
      "[1, 3]\n",
      "[1, 4]\n"
     ]
    }
   ],
   "source": [
    "#nested loops are loop inside loop \n",
    "\n",
    "for i in range(2): #outer\n",
    "    for j in range(5):  #inner loop\n",
    "        print([i,j])"
   ]
  },
  {
   "cell_type": "code",
   "execution_count": 18,
   "metadata": {},
   "outputs": [
    {
     "name": "stdout",
     "output_type": "stream",
     "text": [
      "['product A', 0]\n",
      "['product A', 1]\n",
      "['product A', 2]\n",
      "['product A', 3]\n",
      "['product A', 4]\n",
      "['product B', 0]\n",
      "['product B', 1]\n",
      "['product B', 2]\n",
      "['product B', 3]\n",
      "['product B', 4]\n",
      "['product C', 0]\n",
      "['product C', 1]\n",
      "['product C', 2]\n",
      "['product C', 3]\n",
      "['product C', 4]\n"
     ]
    }
   ],
   "source": [
    "for i in ['product A' , 'product B','product C']:  #,'product C'\n",
    "    for j in range(5):\n",
    "        print([i,j])"
   ]
  },
  {
   "cell_type": "code",
   "execution_count": 25,
   "metadata": {},
   "outputs": [
    {
     "name": "stdout",
     "output_type": "stream",
     "text": [
      "['product A', 1000]\n",
      "['product A', 1200]\n",
      "['product A', 5000]\n",
      "['product A', 3400]\n",
      "['product A', 2330]\n",
      "['product B', 1000]\n",
      "['product B', 1200]\n",
      "['product B', 5000]\n",
      "['product B', 3400]\n",
      "['product B', 2330]\n"
     ]
    }
   ],
   "source": [
    "products= ['product A' , 'product B']\n",
    "exp_sales= [1000,1200,5000,3400,2330]\n",
    "\n",
    "for i in products:\n",
    "    for j in sales:\n",
    "        print([i,j])"
   ]
  },
  {
   "cell_type": "code",
   "execution_count": 31,
   "metadata": {},
   "outputs": [
    {
     "name": "stdout",
     "output_type": "stream",
     "text": [
      "Expected sales for specific period of 1 months for product A: $1000\n",
      "Expected sales for specific period of 3 months for product A: $3000\n",
      "Expected sales for specific period of 12 months for product A: $12000\n",
      "Expected sales for specific period of 1 months for product A: $1200\n",
      "Expected sales for specific period of 3 months for product A: $3600\n",
      "Expected sales for specific period of 12 months for product A: $14400\n",
      "Expected sales for specific period of 1 months for product A: $5000\n",
      "Expected sales for specific period of 3 months for product A: $15000\n",
      "Expected sales for specific period of 12 months for product A: $60000\n",
      "Expected sales for specific period of 1 months for product A: $3400\n",
      "Expected sales for specific period of 3 months for product A: $10200\n",
      "Expected sales for specific period of 12 months for product A: $40800\n",
      "Expected sales for specific period of 1 months for product A: $2330\n",
      "Expected sales for specific period of 3 months for product A: $6990\n",
      "Expected sales for specific period of 12 months for product A: $27960\n",
      "\n",
      "\n",
      "SPACE\n",
      "\n",
      "\n",
      "Expected sales for specific period of 1 months for product B: $1000\n",
      "Expected sales for specific period of 3 months for product B: $3000\n",
      "Expected sales for specific period of 12 months for product B: $12000\n",
      "Expected sales for specific period of 1 months for product B: $1200\n",
      "Expected sales for specific period of 3 months for product B: $3600\n",
      "Expected sales for specific period of 12 months for product B: $14400\n",
      "Expected sales for specific period of 1 months for product B: $5000\n",
      "Expected sales for specific period of 3 months for product B: $15000\n",
      "Expected sales for specific period of 12 months for product B: $60000\n",
      "Expected sales for specific period of 1 months for product B: $3400\n",
      "Expected sales for specific period of 3 months for product B: $10200\n",
      "Expected sales for specific period of 12 months for product B: $40800\n",
      "Expected sales for specific period of 1 months for product B: $2330\n",
      "Expected sales for specific period of 3 months for product B: $6990\n",
      "Expected sales for specific period of 12 months for product B: $27960\n",
      "\n",
      "\n",
      "SPACE\n",
      "\n",
      "\n"
     ]
    }
   ],
   "source": [
    "products= ['product A' , 'product B'] #triple nested loop just like your triple whoper menu\n",
    "sales= [1000,1200,5000,3400,2330]\n",
    "timeHorizon = (1,3,12)\n",
    "for prods in products:  # outer loop\n",
    "    \n",
    "    for sale in exp_sales:   #inner loop\n",
    "        \n",
    "        for t_hor in timeHorizon:  # the most inner loop\n",
    "            print('Expected sales for specific period of {0} months for {1}: ${sales}'.format(t_hor,prods,sales= sale*t_hor))\n",
    "    print('\\n')\n",
    "    print('SPACE')\n",
    "    print('\\n')\n",
    "    \n",
    "            "
   ]
  },
  {
   "cell_type": "code",
   "execution_count": 32,
   "metadata": {},
   "outputs": [
    {
     "data": {
      "text/plain": [
       "[1, 2, 3, 4, 5, 664, 7456]"
      ]
     },
     "execution_count": 32,
     "metadata": {},
     "output_type": "execute_result"
    }
   ],
   "source": [
    "# list operations\n",
    "\n",
    "numbers = [1,2,3,4,5,664,7456]\n",
    "numbers"
   ]
  },
  {
   "cell_type": "code",
   "execution_count": 33,
   "metadata": {},
   "outputs": [
    {
     "name": "stdout",
     "output_type": "stream",
     "text": [
      "[2, 4, 6, 8, 10, 1328, 14912]\n"
     ]
    }
   ],
   "source": [
    "new_numbers = []\n",
    "for n in numbers:\n",
    "    new_numbers.append(n*2)\n",
    "print(new_numbers)"
   ]
  },
  {
   "cell_type": "code",
   "execution_count": 1,
   "metadata": {},
   "outputs": [
    {
     "name": "stdout",
     "output_type": "stream",
     "text": [
      "0 1 2 3 4 1 2 3 4 5 "
     ]
    }
   ],
   "source": [
    "for i in range(2):\n",
    "    for j in range(5):\n",
    "        print(i+j,end = ' ')"
   ]
  },
  {
   "cell_type": "code",
   "execution_count": null,
   "metadata": {},
   "outputs": [],
   "source": []
  },
  {
   "cell_type": "code",
   "execution_count": 12,
   "metadata": {},
   "outputs": [
    {
     "data": {
      "text/plain": [
       "[0, 1, 2, 3, 4, 1, 2, 3, 4, 5]"
      ]
     },
     "execution_count": 12,
     "metadata": {},
     "output_type": "execute_result"
    }
   ],
   "source": [
    "new_list_comprehension_1 = [i+j for i in range(2) for j in range(5)]\n",
    "new_list_comprehension_1"
   ]
  },
  {
   "cell_type": "code",
   "execution_count": 36,
   "metadata": {},
   "outputs": [
    {
     "data": {
      "text/plain": [
       "list"
      ]
     },
     "execution_count": 36,
     "metadata": {},
     "output_type": "execute_result"
    }
   ],
   "source": [
    "type(new_list_comprehension_1)"
   ]
  },
  {
   "cell_type": "code",
   "execution_count": 37,
   "metadata": {},
   "outputs": [
    {
     "name": "stdout",
     "output_type": "stream",
     "text": [
      "[0, 1, 2, 3, 4, 1, 2, 3, 4, 5]\n"
     ]
    }
   ],
   "source": [
    "print(new_list_comprehension_1)"
   ]
  },
  {
   "cell_type": "code",
   "execution_count": 38,
   "metadata": {},
   "outputs": [
    {
     "data": {
      "text/plain": [
       "[1, 2, 3, 4, 5, 6, 7, 8, 9, 10]"
      ]
     },
     "execution_count": 38,
     "metadata": {},
     "output_type": "execute_result"
    }
   ],
   "source": [
    "list(range(1, 11))"
   ]
  },
  {
   "cell_type": "code",
   "execution_count": 39,
   "metadata": {},
   "outputs": [
    {
     "data": {
      "text/plain": [
       "[1, 27, 125, 343, 729]"
      ]
     },
     "execution_count": 39,
     "metadata": {},
     "output_type": "execute_result"
    }
   ],
   "source": [
    "[num ** 3 for num in range(1, 11) if num % 2 != 0 ]"
   ]
  },
  {
   "cell_type": "code",
   "execution_count": 40,
   "metadata": {},
   "outputs": [
    {
     "name": "stdout",
     "output_type": "stream",
     "text": [
      "1 27 125 343 729 "
     ]
    }
   ],
   "source": [
    "for i in range(1, 11):\n",
    "    if i % 2 != 0:\n",
    "        print(i ** 3, end = \" \")"
   ]
  },
  {
   "cell_type": "code",
   "execution_count": null,
   "metadata": {},
   "outputs": [],
   "source": []
  },
  {
   "cell_type": "code",
   "execution_count": 42,
   "metadata": {},
   "outputs": [],
   "source": [
    "def raise_to_the_power_of_2(x):   #lambda functions to make yourself look cool\n",
    "    return x ** 2"
   ]
  },
  {
   "cell_type": "code",
   "execution_count": 43,
   "metadata": {},
   "outputs": [
    {
     "data": {
      "text/plain": [
       "9"
      ]
     },
     "execution_count": 43,
     "metadata": {},
     "output_type": "execute_result"
    }
   ],
   "source": [
    "raise_to_the_power_of_2(3)"
   ]
  },
  {
   "cell_type": "code",
   "execution_count": 44,
   "metadata": {},
   "outputs": [
    {
     "data": {
      "text/plain": [
       "<function __main__.<lambda>(x)>"
      ]
     },
     "execution_count": 44,
     "metadata": {},
     "output_type": "execute_result"
    }
   ],
   "source": [
    "lambda x: x ** 2"
   ]
  },
  {
   "cell_type": "code",
   "execution_count": 45,
   "metadata": {},
   "outputs": [],
   "source": [
    "raise_to_the_power_of_2_lambda = lambda x: x ** 2"
   ]
  },
  {
   "cell_type": "code",
   "execution_count": 52,
   "metadata": {},
   "outputs": [
    {
     "data": {
      "text/plain": [
       "25"
      ]
     },
     "execution_count": 52,
     "metadata": {},
     "output_type": "execute_result"
    }
   ],
   "source": [
    "raise_to_the_power_of_2_lambda(5)"
   ]
  },
  {
   "cell_type": "code",
   "execution_count": 53,
   "metadata": {},
   "outputs": [
    {
     "data": {
      "text/plain": [
       "5.5"
      ]
     },
     "execution_count": 53,
     "metadata": {},
     "output_type": "execute_result"
    }
   ],
   "source": [
    "(lambda x: x / 2)(11)"
   ]
  },
  {
   "cell_type": "code",
   "execution_count": 59,
   "metadata": {},
   "outputs": [
    {
     "data": {
      "text/plain": [
       "9"
      ]
     },
     "execution_count": 59,
     "metadata": {},
     "output_type": "execute_result"
    }
   ],
   "source": [
    "sum_xy = lambda x, y: x + y\n",
    "sum_xy(2,7)"
   ]
  },
  {
   "cell_type": "code",
   "execution_count": 61,
   "metadata": {},
   "outputs": [
    {
     "data": {
      "text/plain": [
       "12"
      ]
     },
     "execution_count": 61,
     "metadata": {},
     "output_type": "execute_result"
    }
   ],
   "source": [
    "sum_xy = lambda x, y,z: x + y + z  # lambda functions are good when you want to add a mathematical formulation!\n",
    "sum_xy(2,7,3)"
   ]
  },
  {
   "cell_type": "code",
   "execution_count": 54,
   "metadata": {},
   "outputs": [
    {
     "data": {
      "text/plain": [
       "53.792"
      ]
     },
     "execution_count": 54,
     "metadata": {},
     "output_type": "execute_result"
    }
   ],
   "source": [
    "(lambda x: (2 + 5 * x ** 4) ** 2 / (x + 3) ** 3)(2)"
   ]
  },
  {
   "cell_type": "markdown",
   "metadata": {},
   "source": [
    "Create a Lambda function that returns the output of the following mathematical expression. Execute it with an argument of 3.\n",
    "<br> $$\n",
    "\\frac{(135 - x^3)^4}{(1 + x)^5}\n",
    "$$"
   ]
  },
  {
   "cell_type": "code",
   "execution_count": null,
   "metadata": {},
   "outputs": [],
   "source": []
  },
  {
   "cell_type": "markdown",
   "metadata": {},
   "source": [
    "Define a Lambda function named **product_xy** that returns the product of two parameters, x and y. Execute it with arguments 4 and 20."
   ]
  },
  {
   "cell_type": "code",
   "execution_count": null,
   "metadata": {},
   "outputs": [],
   "source": []
  },
  {
   "cell_type": "markdown",
   "metadata": {},
   "source": [
    "Create a nested loop that delivers all possible combinations of the elements from the following two lists in the form of lists:"
   ]
  },
  {
   "cell_type": "code",
   "execution_count": 56,
   "metadata": {},
   "outputs": [],
   "source": [
    "products_on_sale = ['Chair_Type_1', 'Chair_Type_2', 'Chair_Type_3', 'Chair_Type_4']\n",
    "sale_prices = [100, 120, 135, 150]"
   ]
  },
  {
   "cell_type": "code",
   "execution_count": null,
   "metadata": {},
   "outputs": [],
   "source": []
  },
  {
   "cell_type": "markdown",
   "metadata": {},
   "source": [
    "Consider the following list with data, which is our third for this exercise. It represents the possible quantities in which the relevant items can be put on sale.  triple nested loop"
   ]
  },
  {
   "cell_type": "code",
   "execution_count": 57,
   "metadata": {},
   "outputs": [],
   "source": [
    "quantities = [1000, 1500, 1300]"
   ]
  },
  {
   "cell_type": "code",
   "execution_count": null,
   "metadata": {},
   "outputs": [],
   "source": []
  }
 ],
 "metadata": {
  "kernelspec": {
   "display_name": "Python 3 (ipykernel)",
   "language": "python",
   "name": "python3"
  },
  "language_info": {
   "codemirror_mode": {
    "name": "ipython",
    "version": 3
   },
   "file_extension": ".py",
   "mimetype": "text/x-python",
   "name": "python",
   "nbconvert_exporter": "python",
   "pygments_lexer": "ipython3",
   "version": "3.9.7"
  }
 },
 "nbformat": 4,
 "nbformat_minor": 2
}
