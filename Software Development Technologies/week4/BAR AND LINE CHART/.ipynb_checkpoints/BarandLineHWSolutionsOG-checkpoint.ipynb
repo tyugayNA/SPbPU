{
 "cells": [
  {
   "cell_type": "raw",
   "metadata": {},
   "source": [
    "Your goal for this homework task is to create a Pareto(bars and lines) chart. A Pareto is a specific case of a bar and line chart. The specificity comes from the fact that the bars on the Pareto bar chart are displayed in decreasing order of frequency. The line chart on the other hand always shows the cumulative frequency on a Pareto. Cumulative frequency means the sum of frequencies occurring up to this point. So, for the first element, it will show the frequency of occurrence for the first element only. For the second element it will be the sum of frequency for the first and second element, and so on. The last cumulative frequency is 100% as it is the sum of all individual frequencies.¶\n",
    "Related to the Pareto chart is the Pareto principle, also known as the 80/20 rule. Observed for the first time by Italian economist Wilfredo Pareto, who realized that around 80% of the land in Italy was owned by about 20% of the people. As such, this phenomenon shows that usually around 80% of problems are caused by 20% of the people.\n",
    "Our data set for this task contains the top 5 Movie Goers complaints. Your task is to create a Pareto chart, based on the data.\n",
    "The complaints must be ordered in decreasing order of frequency. This will represent your bar chart.\n",
    "The cumulative frequency will be your line chart, represented as percentages. It must sum up to 100%, so your last value on the line chart must show 100%."
   ]
  },
  {
   "cell_type": "code",
   "execution_count": 1,
   "metadata": {},
   "outputs": [],
   "source": [
    "import pandas as pd # library for data manipulation\n",
    "import matplotlib.pyplot as plt # library for visualization\n",
    "import seaborn as sns # library for visualization\n",
    "sns.set() # this command sets the seaborn chart style as the default\n",
    "\n",
    "from matplotlib.ticker import PercentFormatter #converts values into percentage format"
   ]
  },
  {
   "cell_type": "code",
   "execution_count": 2,
   "metadata": {},
   "outputs": [],
   "source": [
    "df_movie_complaints = pd.read_csv(\"bar_line_chart_homework.csv\")"
   ]
  },
  {
   "cell_type": "code",
   "execution_count": 3,
   "metadata": {},
   "outputs": [
    {
     "data": {
      "text/html": [
       "<div>\n",
       "<style scoped>\n",
       "    .dataframe tbody tr th:only-of-type {\n",
       "        vertical-align: middle;\n",
       "    }\n",
       "\n",
       "    .dataframe tbody tr th {\n",
       "        vertical-align: top;\n",
       "    }\n",
       "\n",
       "    .dataframe thead th {\n",
       "        text-align: right;\n",
       "    }\n",
       "</style>\n",
       "<table border=\"1\" class=\"dataframe\">\n",
       "  <thead>\n",
       "    <tr style=\"text-align: right;\">\n",
       "      <th></th>\n",
       "      <th>Movie Theater Goers Complaints</th>\n",
       "      <th>Number of complaints</th>\n",
       "      <th>frequency</th>\n",
       "    </tr>\n",
       "  </thead>\n",
       "  <tbody>\n",
       "    <tr>\n",
       "      <th>0</th>\n",
       "      <td>Poor Projection Quality</td>\n",
       "      <td>3821</td>\n",
       "      <td>0.727532</td>\n",
       "    </tr>\n",
       "    <tr>\n",
       "      <th>1</th>\n",
       "      <td>Bad Volume</td>\n",
       "      <td>684</td>\n",
       "      <td>0.857768</td>\n",
       "    </tr>\n",
       "    <tr>\n",
       "      <th>2</th>\n",
       "      <td>Screen Size</td>\n",
       "      <td>298</td>\n",
       "      <td>0.914509</td>\n",
       "    </tr>\n",
       "    <tr>\n",
       "      <th>3</th>\n",
       "      <td>Bad Seats</td>\n",
       "      <td>232</td>\n",
       "      <td>0.958682</td>\n",
       "    </tr>\n",
       "    <tr>\n",
       "      <th>4</th>\n",
       "      <td>Queues</td>\n",
       "      <td>217</td>\n",
       "      <td>1.000000</td>\n",
       "    </tr>\n",
       "  </tbody>\n",
       "</table>\n",
       "</div>"
      ],
      "text/plain": [
       "  Movie Theater Goers Complaints  Number of complaints  frequency\n",
       "0        Poor Projection Quality                  3821   0.727532\n",
       "1                     Bad Volume                   684   0.857768\n",
       "2                    Screen Size                   298   0.914509\n",
       "3                      Bad Seats                   232   0.958682\n",
       "4                         Queues                   217   1.000000"
      ]
     },
     "execution_count": 3,
     "metadata": {},
     "output_type": "execute_result"
    }
   ],
   "source": [
    "df_movie_complaints"
   ]
  },
  {
   "cell_type": "code",
   "execution_count": 4,
   "metadata": {},
   "outputs": [
    {
     "data": {
      "image/png": "[encoded data removed]",
      "text/plain": [
       "<Figure size 720x504 with 2 Axes>"
      ]
     },
     "metadata": {
      "needs_background": "light"
     },
     "output_type": "display_data"
    }
   ],
   "source": [
    "# Creating the pareto chart of the movie goers complaints data by creating a figure with two axes. \n",
    "# The top two complaints make up fo around 90% of the overall complaints. \n",
    "# If the theaters address the first two or even the first complaint only for the poor projection quality,\n",
    "# the number of complaints will be reduced drastically.\n",
    "fig, ax = plt.subplots(figsize = (10, 7))\n",
    "\n",
    "ax.bar(df_movie_complaints[\"Movie Theater Goers Complaints\"],\n",
    "       df_movie_complaints[\"Number of complaints\"],\n",
    "       color = \"midnightblue\")\n",
    "ax.set_ylabel(\"Number of Complaints\",\n",
    "              color = \"midnightblue\",\n",
    "              weight = \"bold\")\n",
    "ax.tick_params(axis = \"y\", \n",
    "               width = 2, \n",
    "               labelsize = \"large\",\n",
    "               colors = \"midnightblue\")\n",
    "ax1 = ax.twinx()\n",
    "ax1.set_ylim(0, 1.1) #increase the limit slightly, so the line chart isn't cut\n",
    "ax1.yaxis.set_major_formatter(PercentFormatter(xmax = 1.0))\n",
    "ax1.plot(df_movie_complaints[\"Movie Theater Goers Complaints\"],\n",
    "         df_movie_complaints[\"frequency\"],\n",
    "         color = \"#b60000\", \n",
    "         marker = \"D\")\n",
    "ax1.set_ylabel(\"Frequency\", \n",
    "               color = \"#b60000\", \n",
    "               weight = \"bold\")\n",
    "ax1.tick_params(axis = \"y\", \n",
    "                colors = \"#b60000\", \n",
    "                width = 2, \n",
    "                labelsize = \"large\")\n",
    "ax.set_title(\"Top 5 Movie Goers Complaints Frequency Distribution\", fontsize = \"14\", weight = \"bold\", color = \"midnightblue\")\n",
    "plt.show()"
   ]
  },
  {
   "cell_type": "code",
   "execution_count": null,
   "metadata": {},
   "outputs": [],
   "source": []
  }
 ],
 "metadata": {
  "kernelspec": {
   "display_name": "Python 3",
   "language": "python",
   "name": "python3"
  },
  "language_info": {
   "codemirror_mode": {
    "name": "ipython",
    "version": 3
   },
   "file_extension": ".py",
   "mimetype": "text/x-python",
   "name": "python",
   "nbconvert_exporter": "python",
   "pygments_lexer": "ipython3",
   "version": "3.6.6"
  }
 },
 "nbformat": 4,
 "nbformat_minor": 2
}
